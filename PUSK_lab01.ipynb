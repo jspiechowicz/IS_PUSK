{
 "cells": [
  {
   "cell_type": "markdown",
   "metadata": {},
   "source": [
    "<img src=\"https://upload.wikimedia.org/wikipedia/commons/thumb/3/35/Tux.svg/280px-Tux.svg.png\" width=20% align='right'>\n",
    "\n",
    "# Podstawy uzytkowania\n",
    "# systemow komputerowych\n",
    "\n",
    "Jakub Spiechowicz\n",
    "\n",
    "Laboratorium 01, Wprowadzenie do Linuxa"
   ]
  },
  {
   "cell_type": "markdown",
   "metadata": {
    "slideshow": {
     "slide_type": "slide"
    }
   },
   "source": [
    "# System operacyjny\n",
    "\n",
    "Oprogramowanie niskiego poziomu sluzace do\n",
    "\n",
    "* zarzadzania procesami\n",
    "* alokacji przestrzeni dyskowej i pamieci operacyjnej\n",
    "* obslugi urzadzen peryferyjnych, np. drukarki, myszki, klawiatury, etc."
   ]
  },
  {
   "cell_type": "markdown",
   "metadata": {
    "slideshow": {
     "slide_type": "slide"
    }
   },
   "source": [
    "# System operacyjny\n",
    "\n",
    "Zasadniczo jest zbudowany z dwoch czesci\n",
    "\n",
    "* Jadro (kernel)\n",
    "* Programy systemowe"
   ]
  },
  {
   "cell_type": "markdown",
   "metadata": {
    "slideshow": {
     "slide_type": "slide"
    }
   },
   "source": [
    "# Jadro\n",
    "\n",
    "<img src=\"https://upload.wikimedia.org/wikipedia/commons/thumb/2/25/Kernel-pl.svg/300px-Kernel-pl.svg.png\" width=40% align='right'>\n",
    "\n",
    "Rozdziela zasoby komputerowe w postaci\n",
    "\n",
    "* pamieci operacyjnej\n",
    "* przestrzeni dyskowej\n",
    "* cykli procesora\n",
    "\n",
    "pomiedzy wszystkie programy dzialajace w systemie."
   ]
  },
  {
   "cell_type": "markdown",
   "metadata": {
    "slideshow": {
     "slide_type": "slide"
    }
   },
   "source": [
    "\n",
    "# Historia Linuxa\n",
    "\n",
    "<img src=\"https://upload.wikimedia.org/wikipedia/commons/thumb/c/cd/Unix_timeline.en.svg/500px-Unix_timeline.en.svg.png\" width=55% align='right'>\n",
    "\n",
    "* 1991 kernel Linuxa, University of Helsinki, Finlandia, autorstwa studenta studiow pierwszego stopnia  \n",
    "Linusa Torvaldsa\n",
    "  * *product of the Internet*\n",
    "  * *free, open source*"
   ]
  },
  {
   "cell_type": "markdown",
   "metadata": {
    "slideshow": {
     "slide_type": "slide"
    }
   },
   "source": [
    "# Dlaczego Linux?\n",
    "\n",
    "* Standard POSIX (Portable Operating System Interface for Computer Environments)\n",
    "  * Definiuje API, powloke (shell) oraz interfejsy narzedziowe dla systemu operacyjnego\n",
    "* Aplikacje, oprogramowanie, narzedzia systemowe  \n",
    "i programowe\n",
    "* Wsparcie dla wielu urzadzen peryferyjnych\n",
    "* *Generic operating system*, wieloplatformowosc, przenosnosc\n",
    "* Emulatory, maszyny wirtualne"
   ]
  },
  {
   "cell_type": "markdown",
   "metadata": {
    "slideshow": {
     "slide_type": "slide"
    }
   },
   "source": [
    "# Cechy systemu Linux\n",
    "\n",
    "* Zbudowany w oparciu o jadro\n",
    "* Wielodostep\n",
    "* Wielozadaniowosc\n",
    "* *Linux Filesystem Hierarchy Standard*\n",
    "  * Bezpieczny, hierarchiczny system plikow\n",
    "* Powloka\n",
    "  * Interpreter komend i jezyk programowania, interfejs czlowiek - komputer\n",
    "* Bogaty wybor uzytecznych programow systemowych\n",
    "* Komunikacja miedzyprocesowa"
   ]
  },
  {
   "cell_type": "markdown",
   "metadata": {
    "slideshow": {
     "slide_type": "slide"
    }
   },
   "source": [
    "# Bourne Again Shell (bash)\n",
    "\n",
    "*bash*, ulepszona wersja powloki *sh* napisanej na potrzeby Unixa przez  \n",
    "Steve'a Bourna\n",
    "\n",
    "* Emulator terminala w srodowisku graficznym\n",
    "* *username@machinename:working_directory* + znak zachety $ lub # dla administratora (roota)"
   ]
  },
  {
   "cell_type": "code",
   "execution_count": 1,
   "metadata": {
    "collapsed": false,
    "slideshow": {
     "slide_type": "fragment"
    }
   },
   "outputs": [
    {
     "name": "stdout",
     "output_type": "stream",
     "text": [
      "asdfzxcv: command not found\r\n"
     ]
    }
   ],
   "source": [
    "asdfzxcv"
   ]
  },
  {
   "cell_type": "markdown",
   "metadata": {
    "slideshow": {
     "slide_type": "fragment"
    }
   },
   "source": [
    "* historia polecen $\\uparrow$, $\\downarrow$"
   ]
  },
  {
   "cell_type": "markdown",
   "metadata": {
    "slideshow": {
     "slide_type": "slide"
    }
   },
   "source": [
    "# bash, przyklady"
   ]
  },
  {
   "cell_type": "code",
   "execution_count": 1,
   "metadata": {
    "collapsed": false,
    "slideshow": {
     "slide_type": "fragment"
    }
   },
   "outputs": [
    {
     "name": "stdout",
     "output_type": "stream",
     "text": [
      "Thu Oct 13 10:46:35 UTC 2016\r\n"
     ]
    }
   ],
   "source": [
    "date"
   ]
  },
  {
   "cell_type": "code",
   "execution_count": 2,
   "metadata": {
    "collapsed": false,
    "slideshow": {
     "slide_type": "fragment"
    }
   },
   "outputs": [
    {
     "name": "stdout",
     "output_type": "stream",
     "text": [
      "    October 2016      \r\n",
      "Su Mo Tu We Th Fr Sa  \r\n",
      "                   1  \r\n",
      " 2  3  4  5  6  7  8  \r\n",
      " 9 10 11 12 _\b1_\b3 14 15  \r\n",
      "16 17 18 19 20 21 22  \r\n",
      "23 24 25 26 27 28 29  \r\n",
      "30 31                 \r\n"
     ]
    }
   ],
   "source": [
    "cal"
   ]
  },
  {
   "cell_type": "code",
   "execution_count": 3,
   "metadata": {
    "collapsed": false,
    "slideshow": {
     "slide_type": "slide"
    }
   },
   "outputs": [
    {
     "name": "stdout",
     "output_type": "stream",
     "text": [
      "Filesystem                        Size  Used Avail Use% Mounted on\r\n",
      "/dev/mapper/pve-vm--116--disk--1  197G   11G  177G   6% /\r\n",
      "none                              100K     0  100K   0% /dev\r\n",
      "cgroup                             12K     0   12K   0% /sys/fs/cgroup\r\n",
      "tmpfs                             189G     0  189G   0% /sys/fs/cgroup/cgmanager\r\n",
      "tmpfs                             189G  5.0M  189G   1% /dev/shm\r\n",
      "tmpfs                             189G   49M  189G   1% /run\r\n",
      "tmpfs                             5.0M     0  5.0M   0% /run/lock\r\n",
      "155.158.128.81://users            1.2T   58G  1.1T   6% /home/users\r\n",
      "tmpfs                              38G     0   38G   0% /run/user/1000\r\n",
      "tmpfs                              38G     0   38G   0% /run/user/2204\r\n",
      "tmpfs                              38G     0   38G   0% /run/user/2197\r\n",
      "tmpfs                              38G     0   38G   0% /run/user/2277\r\n",
      "tmpfs                              38G     0   38G   0% /run/user/2092\r\n"
     ]
    }
   ],
   "source": [
    "df -h"
   ]
  },
  {
   "cell_type": "code",
   "execution_count": 4,
   "metadata": {
    "collapsed": false,
    "slideshow": {
     "slide_type": "fragment"
    }
   },
   "outputs": [
    {
     "name": "stdout",
     "output_type": "stream",
     "text": [
      "              total        used        free      shared  buff/cache   available\r\n",
      "Mem:           146G        6.3G        138G        236M        2.1G        138G\r\n",
      "Swap:          5.0G        3.9G        1.1G\r\n"
     ]
    }
   ],
   "source": [
    "free -h"
   ]
  },
  {
   "cell_type": "markdown",
   "metadata": {
    "slideshow": {
     "slide_type": "slide"
    }
   },
   "source": [
    "Zakonczenie sesji terminala"
   ]
  },
  {
   "cell_type": "code",
   "execution_count": 5,
   "metadata": {
    "collapsed": false,
    "slideshow": {
     "slide_type": "fragment"
    }
   },
   "outputs": [
    {
     "name": "stdout",
     "output_type": "stream",
     "text": [
      "exit\r\n",
      "Restarting Bash"
     ]
    }
   ],
   "source": [
    "exit"
   ]
  },
  {
   "cell_type": "markdown",
   "metadata": {
    "slideshow": {
     "slide_type": "slide"
    }
   },
   "source": [
    "# Nawigacja w systemie plikow Linuxa\n",
    "\n",
    "* Hierarchiczna struktura katalogow wspolna dla wszystkich dyskow\n",
    "  * Katalog nadrzedny *root*: $/$\n",
    "  * Dyski fizyczne sa *montowane* w strukturze katalogow\n",
    "\n",
    "<center>\n",
    "<img src=\"https://freedompenguin.com/wp-content/uploads/2015/10/linux-filesystem.png\" width=60%>\n",
    "</center>"
   ]
  },
  {
   "cell_type": "markdown",
   "metadata": {
    "slideshow": {
     "slide_type": "slide"
    }
   },
   "source": [
    "* *print working directory*"
   ]
  },
  {
   "cell_type": "code",
   "execution_count": 6,
   "metadata": {
    "collapsed": false,
    "slideshow": {
     "slide_type": "fragment"
    }
   },
   "outputs": [
    {
     "name": "stdout",
     "output_type": "stream",
     "text": [
      "/home/users/jakub.spiechowicz\r\n"
     ]
    }
   ],
   "source": [
    "pwd"
   ]
  },
  {
   "cell_type": "markdown",
   "metadata": {
    "collapsed": true,
    "slideshow": {
     "slide_type": "fragment"
    }
   },
   "source": [
    "* *list*owanie zawartosci katalogu"
   ]
  },
  {
   "cell_type": "code",
   "execution_count": 7,
   "metadata": {
    "collapsed": false,
    "slideshow": {
     "slide_type": "fragment"
    }
   },
   "outputs": [
    {
     "name": "stdout",
     "output_type": "stream",
     "text": [
      "Jupyter_intro.ipynb  PUSK_lab01.ipynb  PUSK_lab02.ipynb\r\n"
     ]
    }
   ],
   "source": [
    "ls"
   ]
  },
  {
   "cell_type": "markdown",
   "metadata": {
    "slideshow": {
     "slide_type": "slide"
    }
   },
   "source": [
    "* *change directory*, *cd* + sciezka\n",
    "  * sciezka bezwzgledna, np. */usr/bin/*\n",
    "  * sciezka wzgledna, np. *../*\n",
    "    * . aktualny katalog roboczy\n",
    "    * .. katalog nadrzedny w stosunku do aktualnego katalogu roboczego"
   ]
  },
  {
   "cell_type": "markdown",
   "metadata": {
    "slideshow": {
     "slide_type": "slide"
    }
   },
   "source": [
    "Przyklady"
   ]
  },
  {
   "cell_type": "code",
   "execution_count": 8,
   "metadata": {
    "collapsed": false
   },
   "outputs": [
    {
     "name": "stdout",
     "output_type": "stream",
     "text": [
      "/home/users/jakub.spiechowicz\r\n",
      "/home/users\r\n"
     ]
    }
   ],
   "source": [
    "pwd\n",
    "cd /home/users/\n",
    "pwd"
   ]
  },
  {
   "cell_type": "code",
   "execution_count": 9,
   "metadata": {
    "collapsed": false,
    "slideshow": {
     "slide_type": "fragment"
    }
   },
   "outputs": [
    {
     "name": "stdout",
     "output_type": "stream",
     "text": [
      "/home/users/jakub.spiechowicz\r\n",
      "/home/users\r\n"
     ]
    }
   ],
   "source": [
    "cd\n",
    "pwd\n",
    "cd ../\n",
    "pwd"
   ]
  },
  {
   "cell_type": "markdown",
   "metadata": {
    "collapsed": true,
    "slideshow": {
     "slide_type": "slide"
    }
   },
   "source": [
    "Uzyteczne skroty\n",
    "* *cd* zmienia aktualny katalog roboczy na katalog domowy uzytkownika\n",
    "* *cd -* zmienia aktualny katalog na poprzedni katalog\n",
    "* *cd ~username* zmienia aktualny katalog na katalog domowy uzytkownika *username*"
   ]
  },
  {
   "cell_type": "code",
   "execution_count": 10,
   "metadata": {
    "collapsed": false,
    "slideshow": {
     "slide_type": "slide"
    }
   },
   "outputs": [
    {
     "name": "stdout",
     "output_type": "stream",
     "text": [
      "/home/users\r\n",
      "/home/users/jakub.spiechowicz\r\n",
      "/home\r\n",
      "/home/users/jakub.spiechowicz\r\n"
     ]
    }
   ],
   "source": [
    "pwd\n",
    "cd \n",
    "pwd\n",
    "cd /home\n",
    "pwd\n",
    "cd -"
   ]
  },
  {
   "cell_type": "markdown",
   "metadata": {
    "slideshow": {
     "slide_type": "slide"
    }
   },
   "source": [
    "Uwagi dot. nazw plikow\n",
    "\n",
    "* *.plik*, plik ukryty, *ls -a*\n",
    "* Wielkosc liter ma znaczenie, *plik* $\\neq$ *Plik*\n",
    "* Brak rozszerzen w nazwach plikow\n",
    "* Brak spacji!"
   ]
  },
  {
   "cell_type": "markdown",
   "metadata": {
    "slideshow": {
     "slide_type": "slide"
    }
   },
   "source": [
    "# Wiecej o *ls*"
   ]
  },
  {
   "cell_type": "code",
   "execution_count": 11,
   "metadata": {
    "collapsed": false,
    "slideshow": {
     "slide_type": "fragment"
    }
   },
   "outputs": [
    {
     "name": "stdout",
     "output_type": "stream",
     "text": [
      "bin  games  include  lib  local  sbin  share  src\r\n"
     ]
    }
   ],
   "source": [
    "ls /usr"
   ]
  },
  {
   "cell_type": "code",
   "execution_count": 12,
   "metadata": {
    "collapsed": false,
    "slideshow": {
     "slide_type": "fragment"
    }
   },
   "outputs": [
    {
     "name": "stdout",
     "output_type": "stream",
     "text": [
      "/home/users/jakub.spiechowicz:\r\n",
      "Jupyter_intro.ipynb  PUSK_lab01.ipynb  PUSK_lab02.ipynb\r\n",
      "\r\n",
      "/usr:\r\n",
      "bin  games  include  lib  local  sbin  share  src\r\n"
     ]
    }
   ],
   "source": [
    "ls ~ /usr"
   ]
  },
  {
   "cell_type": "code",
   "execution_count": 13,
   "metadata": {
    "collapsed": false,
    "slideshow": {
     "slide_type": "fragment"
    }
   },
   "outputs": [
    {
     "name": "stdout",
     "output_type": "stream",
     "text": [
      "total 80\r\n",
      "-rw-r--r-- 1 jakub.spiechowicz staff 44712 Oct  9 09:13 Jupyter_intro.ipynb\r\n",
      "-rw-r--r-- 1 jakub.spiechowicz staff 14544 Oct 13 11:05 PUSK_lab01.ipynb\r\n",
      "-rw-r--r-- 1 jakub.spiechowicz staff 16388 Oct 12 15:42 PUSK_lab02.ipynb\r\n"
     ]
    }
   ],
   "source": [
    "ls -l ~"
   ]
  },
  {
   "cell_type": "markdown",
   "metadata": {
    "slideshow": {
     "slide_type": "fragment"
    }
   },
   "source": [
    "komenda -opcje argumenty"
   ]
  },
  {
   "cell_type": "markdown",
   "metadata": {
    "slideshow": {
     "slide_type": "slide"
    }
   },
   "source": [
    "*ls*\n",
    "* -a wlacznie z plikami ukrytymi (zaczynajacymi sie od kropki)\n",
    "* -F dodaj na koncu wynikow klasyfikator typu, np. / dla katalogow\n",
    "* -l format szczegolowy (-h *human-readable*)\n",
    "* -r kolejnosc wyswietlania z-a\n",
    "* -S sortuj wyniki po rozmiarze plikow\n",
    "* -t sortuj wyniki wzgledem czasu ostatniej modyfikacji"
   ]
  },
  {
   "cell_type": "code",
   "execution_count": 15,
   "metadata": {
    "collapsed": false,
    "slideshow": {
     "slide_type": "fragment"
    }
   },
   "outputs": [
    {
     "name": "stdout",
     "output_type": "stream",
     "text": [
      "total 80K\r\n",
      "-rw-r--r-- 1 jakub.spiechowicz staff 44K Oct  9 09:13 Jupyter_intro.ipynb\r\n",
      "-rw-r--r-- 1 jakub.spiechowicz staff 15K Oct 13 11:07 PUSK_lab01.ipynb\r\n",
      "-rw-r--r-- 1 jakub.spiechowicz staff 17K Oct 12 15:42 PUSK_lab02.ipynb\r\n"
     ]
    }
   ],
   "source": [
    "ls -lh ~"
   ]
  },
  {
   "cell_type": "markdown",
   "metadata": {
    "slideshow": {
     "slide_type": "slide"
    }
   },
   "source": [
    "* *file*type"
   ]
  },
  {
   "cell_type": "code",
   "execution_count": 16,
   "metadata": {
    "collapsed": false,
    "slideshow": {
     "slide_type": "fragment"
    }
   },
   "outputs": [
    {
     "name": "stdout",
     "output_type": "stream",
     "text": [
      "PUSK_lab01.ipynb: ASCII text\r\n"
     ]
    }
   ],
   "source": [
    "file PUSK_lab01.ipynb"
   ]
  }
 ],
 "metadata": {
  "celltoolbar": "Slideshow",
  "kernelspec": {
   "display_name": "Bash",
   "language": "bash",
   "name": "bash"
  },
  "language_info": {
   "codemirror_mode": "shell",
   "file_extension": ".sh",
   "mimetype": "text/x-sh",
   "name": "bash"
  }
 },
 "nbformat": 4,
 "nbformat_minor": 1
}
