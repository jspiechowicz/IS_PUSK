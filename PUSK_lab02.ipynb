{
 "cells": [
  {
   "cell_type": "markdown",
   "metadata": {
    "slideshow": {
     "slide_type": "slide"
    }
   },
   "source": [
    "\n",
    "<img src=\"https://upload.wikimedia.org/wikipedia/commons/thumb/3/35/Tux.svg/280px-Tux.svg.png\" width=20% align='right'>\n",
    "\n",
    "# Podstawy uzytkowania\n",
    "# systemow komputerowych\n",
    "\n",
    "Jakub Spiechowicz\n",
    "\n",
    "Laboratorium 02, Pliki, katalogi i komendy"
   ]
  },
  {
   "cell_type": "markdown",
   "metadata": {
    "slideshow": {
     "slide_type": "slide"
    }
   },
   "source": [
    "# Pliki tekstowe w systemie Linux\n",
    "\n",
    "* konfiguracja\n",
    "* skrypty\n",
    "* programy"
   ]
  },
  {
   "cell_type": "markdown",
   "metadata": {
    "slideshow": {
     "slide_type": "slide"
    }
   },
   "source": [
    "* Wyswietlanie zawartosci pliku tekstowego, *less* plik\n",
    "\n",
    "Przydatne skroty klawiszowe\n",
    "\n",
    "* *PAGE UP* lub *b* scroll w jedna strone do tylu\n",
    "* *PAGE DOWN* lub *space* scroll w jedna strone do przodu\n",
    "* $\\uparrow$ scroll w gore o jedna linie\n",
    "* $\\downarrow$ scroll w dol o jedna linie\n",
    "* /fraza wyszukaj w przod fraza\n",
    "* n wyszukaj kolejne wystapienie poprzedniej frazy\n",
    "* h wyswietl pomoc\n",
    "* q wyjdz z less"
   ]
  },
  {
   "cell_type": "markdown",
   "metadata": {
    "slideshow": {
     "slide_type": "slide"
    }
   },
   "source": [
    "# Less is more\n",
    "\n",
    "*less* to ulepszona wersja wystepujacego w systemie UNIX programu *more*\n",
    "\n",
    "* Nazwa pochodzi od motta wspolczesnych architektow i designerow, *less is more*\n",
    "* Program nalezy do kategorii *pagers*\n",
    "  * Wyswietla zawartosc plikow tekstowych *strona-po-stronie*"
   ]
  },
  {
   "cell_type": "markdown",
   "metadata": {
    "slideshow": {
     "slide_type": "slide"
    }
   },
   "source": [
    "# Zadanie 1\n",
    "\n",
    "Wycieczka po systemie plikow systemu Linux. Wytyczne:\n",
    "\n",
    "1. *cd* do danego katalogu.\n",
    "2. Wypisz jego zawartosc na ekran terminala za pomoca *ls -l*.\n",
    "3. Sprawdz typ interesujacych plikow przy pomocy polecenia *file*.\n",
    "4. Jezeli zawieraja text, sprobuj wystwietlic go z *less*."
   ]
  },
  {
   "cell_type": "markdown",
   "metadata": {
    "slideshow": {
     "slide_type": "slide"
    }
   },
   "source": [
    "# *Linux Filesystem Hierarchy Standard*\n",
    "\n",
    "* / katalog roota, w ktorym wszystko ma swoj poczatek ;)\n",
    "* /bin pliki binarne (programy) potrzebne do uruchomienia systemu\n",
    "* /boot kernel Linuxa, sterowniki potrzebne do rozruchu oraz *boot loader*\n",
    "  * /boot/grub/grub.conf oraz menu.lst konfiguracja *boot loadera*\n",
    "    * GRUB Grand Unifed Boot Loader\n",
    "  * /boot/vmlinuz kernel systemu Linux\n"
   ]
  },
  {
   "cell_type": "markdown",
   "metadata": {
    "slideshow": {
     "slide_type": "slide"
    }
   },
   "source": [
    "* /dev *device nodes*, pliki reprezentujace znane systemowi urzadzenia\n",
    "* /etc konfiguracja systemu, skrypty powloki uruchamiajace uslugi w trakcie boota\n",
    "  * /etc/fstab tablica dyskow oraz ich punktow montowania\n",
    "  * /etc/passwd lista kont uzytkownikow"
   ]
  },
  {
   "cell_type": "markdown",
   "metadata": {
    "slideshow": {
     "slide_type": "slide"
    }
   },
   "source": [
    "* /home katalogi domowe uzytkownikow\n",
    "* /lib bibloteki wspoldzielone uzywane przez kluczowe programy systemowe\n",
    "* /lost+found backup systemu plikow na wypadek jego awarii\n",
    "* /media punkt automatycznego montowania przenosnych dyskow np. USB, CD, etc.\n",
    "* /mnt punkt manualnego montowania przenosnych dyskow\n",
    "* /opt katalog oprogramowania opcjonalnego, np. komercyjnego"
   ]
  },
  {
   "cell_type": "markdown",
   "metadata": {
    "slideshow": {
     "slide_type": "slide"
    }
   },
   "source": [
    "* /proc wirtualny system plikow obslugiwany przez kernel\n",
    "* /root katalog domowy roota\n",
    "* /sbin systemowe pliki binarne (programy) zarezerwowane dla administratorow\n",
    "* /tmp katalog plikow tymczasowych, oprozniany przy zamknieciu systemu"
   ]
  },
  {
   "cell_type": "markdown",
   "metadata": {
    "slideshow": {
     "slide_type": "slide"
    }
   },
   "source": [
    "* /usr katalog programow i plikow pomocnicznych dostepnych dla regularnych userow\n",
    "  * /usr/bin binarki programow systemowych dostepnych dla wszystkich uzytkownikow\n",
    "  * /usr/lib biblioteki wspoldzielone dla programow w /usr/bin\n",
    "  * /usr/local katalog dodatkowych programow instalowanych w trybie *system-wide*\n",
    "  * /usr/sbin programy systemowe do administracji\n",
    "  * /usr/share dane (konfiguracja etc.) uzywane przez programy w /usr/bin\n",
    "    * /usr/share/doc dokumentacja programow w /usr/bin"
   ]
  },
  {
   "cell_type": "markdown",
   "metadata": {
    "slideshow": {
     "slide_type": "slide"
    }
   },
   "source": [
    "* /var katalog danych *\"zmiennych\"*, np. rozne bazy danych, maile uzytkownikow etc.\n",
    "* /var/log logi rejestrujace aktywnosc systemu, szczegolnie istotne w /var/log/messages"
   ]
  },
  {
   "cell_type": "markdown",
   "metadata": {
    "collapsed": true,
    "slideshow": {
     "slide_type": "slide"
    }
   },
   "source": [
    "# Operacje na plikach i katalogach\n",
    "\n",
    "* *cp* kopiowanie\n",
    "* *mv* przenoszenie/zmiana nazwy\n",
    "* *mkdir* tworzenie katalogu\n",
    "* *rm* usuwanie\n",
    "* *ln* tworzenie dowiazan\n",
    "\n",
    "Dlaczego uzywac do tych celow terminala?\n",
    "\n",
    "cp -u \\*.html katalog_docelowy"
   ]
  },
  {
   "cell_type": "markdown",
   "metadata": {
    "slideshow": {
     "slide_type": "slide"
    }
   },
   "source": [
    "# Dzikie karty\n",
    "\n",
    "* \\* dowolne znaki\n",
    "* ? dowolny pojedynczy znak\n",
    "* [zbior] dowolny znak nalezacy do zbior\n",
    "* [!zbior] dowolny znak nie nalezacy do zbior\n",
    "* [[:klasa:]] dowolny znak nalezy do klasa"
   ]
  },
  {
   "cell_type": "markdown",
   "metadata": {
    "slideshow": {
     "slide_type": "slide"
    }
   },
   "source": [
    "# Klasy\n",
    "\n",
    "* [:alnum:] dowolny znak alfanumeryczny\n",
    "* [:alpha:] dowolny znak alfabetyczny\n",
    "* [:digit:] dowolna cyfra\n",
    "* [:lower:] dowolna mala litera\n",
    "* [:upper:] dowolna duza litera"
   ]
  },
  {
   "cell_type": "markdown",
   "metadata": {
    "slideshow": {
     "slide_type": "slide"
    }
   },
   "source": [
    "# Przyklady\n",
    "\n",
    "* \\* wszystkie pliki\n",
    "* g\\* wszystkie pliki zaczynajace sie od g\n",
    "* b\\*.txt wszystkie pliki zaczynajace sie od b i konczace sie na .txt\n",
    "* data???? wszystkie pliki zaczynajace sie od data i konczace sie 4 dowolnymi znakami\n",
    "* [abc]\\* wszystkie pliki zaczynajace sie od a, b, lub c\n",
    "* backup.[0-9][0-9][0-9] wszystkie pliki zaczynajace sie od backup i konczace sie 3 dowolnymi cyframi\n",
    "* \\*[[:lower:]123] wszystkie pliki konczace sie mala litera albo cyfra 1, 2 lub 3."
   ]
  },
  {
   "cell_type": "markdown",
   "metadata": {
    "slideshow": {
     "slide_type": "slide"
    }
   },
   "source": [
    "# Tworzenie katalogow\n",
    "\n",
    "* *make directory*\n",
    "\n",
    "*mkdir* kat1 utworz katalog kat1\n",
    "\n",
    "*mkdir* kat1 kat2 kat3 utworz katalogi kat1 kat2 kat3"
   ]
  },
  {
   "cell_type": "code",
   "execution_count": 1,
   "metadata": {
    "collapsed": false,
    "slideshow": {
     "slide_type": "fragment"
    }
   },
   "outputs": [
    {
     "name": "stdout",
     "output_type": "stream",
     "text": [
      "Jupyter_intro.ipynb  PUSK_lab01.ipynb  PUSK_lab02.ipynb\r\n",
      "Jupyter_intro.ipynb  PUSK_lab01.ipynb  PUSK_lab02.ipynb  kat1\r\n"
     ]
    }
   ],
   "source": [
    "ls\n",
    "mkdir kat1\n",
    "ls\n",
    "rmdir kat1"
   ]
  },
  {
   "cell_type": "markdown",
   "metadata": {
    "slideshow": {
     "slide_type": "slide"
    }
   },
   "source": [
    "# Kopiowanie plikow i katalogow\n",
    "\n",
    "* *copy*\n",
    "\n",
    "*cp* p1 p2 skopiuj plik/katalog p1 do pliku/katalogu p2\n",
    "\n",
    "*cp* p1 p2 p3 p skopiuj pliki/katalogi p1 p2 p3 do pliku/katalogu p\n",
    "\n",
    "* -a skopiuj lacznie z atrybutami (uprawnieniami)\n",
    "* -i zapytaj zanim cokolwiek nadpiszesz\n",
    "* -r kopiowanie rekursywne katalogow (wraz z ich zawartoscia)\n",
    "* -u kopiuj wylacznie zawartosc, ktora nie istnieje lub moze byc zaktualizowana\n",
    "* -v wyswietlaj potwierdzenie wykonania operacji"
   ]
  },
  {
   "cell_type": "code",
   "execution_count": 2,
   "metadata": {
    "collapsed": false,
    "slideshow": {
     "slide_type": "slide"
    }
   },
   "outputs": [
    {
     "name": "stdout",
     "output_type": "stream",
     "text": [
      "Jupyter_intro.ipynb  PUSK_lab01.ipynb  PUSK_lab02.ipynb  p1\r\n",
      "Jupyter_intro.ipynb  PUSK_lab01.ipynb  PUSK_lab02.ipynb  p1  p2\r\n"
     ]
    }
   ],
   "source": [
    "touch p1\n",
    "ls\n",
    "cp p1 p2\n",
    "ls\n",
    "rm p1 p2"
   ]
  },
  {
   "cell_type": "markdown",
   "metadata": {
    "slideshow": {
     "slide_type": "slide"
    }
   },
   "source": [
    "Przyklady\n",
    "\n",
    "* *cp* plik1 plik2 skopiuj plik1 do plik2  \n",
    "  * jesli plik2 istnieje jest nadpisany przez zawartosc pliku plik1\n",
    "  * jesli plik2 nie istnieje utworz go\n",
    "* *cp* -i plik1 plik2, to samo co wyzej, ale zapytaj zanim nadpiszesz\n",
    "* *cp* plik1 plik2 kat1 skopiuj plik1 i plik2 do katalogu kat1 (musi istniec)\n",
    "* *cp* kat1/\\* kat2 skopiuj cala zawartosc kat1 do kat2 (musi istniec)\n",
    "* *cp* -r kat1 kat2 skopiuj katalog kat1 wraz z zawartoscia do kat2 "
   ]
  },
  {
   "cell_type": "markdown",
   "metadata": {
    "slideshow": {
     "slide_type": "slide"
    }
   },
   "source": [
    "# Przenoszenie/zmiana nazwy \n",
    "# plikow i katalogow\n",
    "\n",
    "* *move*\n",
    "\n",
    "*mv* p1 p2 przenies/zmien nazwe pliku/katalogu p1 na p2\n",
    "\n",
    "*mv* p1 p2 p3 p przenies pliki/katalogi p1 p2 p3 do katalogu p\n",
    "\n",
    "* -i zapytaj zanim nadpiszesz\n",
    "* -u przenies tylko zawartosc, ktora nie istnieje lub moze byc zaktualizowana\n",
    "* -v wyswietlaj potwierdzenie wykonania operacji"
   ]
  },
  {
   "cell_type": "code",
   "execution_count": 3,
   "metadata": {
    "collapsed": false,
    "slideshow": {
     "slide_type": "slide"
    }
   },
   "outputs": [
    {
     "name": "stdout",
     "output_type": "stream",
     "text": [
      "Jupyter_intro.ipynb  PUSK_lab01.ipynb  PUSK_lab02.ipynb  p1\r\n",
      "Jupyter_intro.ipynb  PUSK_lab01.ipynb  PUSK_lab02.ipynb  p2\r\n"
     ]
    }
   ],
   "source": [
    "touch p1\n",
    "ls\n",
    "mv p1 p2\n",
    "ls\n",
    "rm p2"
   ]
  },
  {
   "cell_type": "markdown",
   "metadata": {
    "slideshow": {
     "slide_type": "slide"
    }
   },
   "source": [
    "Przyklady\n",
    "\n",
    "* *mv* plik1 plik2 zmien nazwe pliku plik1 na plik2\n",
    "  * Jezeli plik2 istnieje jest nadpisany przez zawartosc pliku plik1\n",
    "  * Jezeli plik o nazwie plik2 nie istnieje utworz go\n",
    "  * W kazdym przypadku plik1 jest usuniety\n",
    "* *mv* -i plik1 plik2 to samo co wyzej, ale zapytaj zanim nadpiszesz\n",
    "* *mv* plik1 plik2 kat1 przenies plik1 i plik2 do katalogu kat1 (musi istniec)"
   ]
  },
  {
   "cell_type": "markdown",
   "metadata": {
    "slideshow": {
     "slide_type": "slide"
    }
   },
   "source": [
    "* *mv* kat1 kat2 przenies katalog kat1 (wraz z zawartoscia) do katalogu kat2\n",
    "  * Jezeli kat2 nie istnieje, utworz katalog kat2, przenies zawartosc kat1 do kat2 oraz usun kat1"
   ]
  },
  {
   "cell_type": "markdown",
   "metadata": {
    "slideshow": {
     "slide_type": "slide"
    }
   },
   "source": [
    "# Usuwanie plikow i katalogow\n",
    "\n",
    "* *remove*\n",
    "\n",
    "*rm* p usun plik/katalog p\n",
    "\n",
    "Ostroznie z *rm*!\n",
    "\n",
    "* Nie ma mozliwosci przywrocenia zawartosci usunietej przez *rm*!\n",
    "* *rm* \\*.html vs *rm* * .html!\n",
    "\n",
    "* -i zapytaj zanim usuniesz\n",
    "* -r usun katalog wraz z jego zawartoscia\n",
    "* -f ignoruj zapytania i nieistniejace pliki/katalogi\n",
    "* -v wyswietlaj potwierdzenie wykonania operacji"
   ]
  },
  {
   "cell_type": "code",
   "execution_count": 4,
   "metadata": {
    "collapsed": false,
    "slideshow": {
     "slide_type": "slide"
    }
   },
   "outputs": [
    {
     "name": "stdout",
     "output_type": "stream",
     "text": [
      "Jupyter_intro.ipynb  PUSK_lab01.ipynb  PUSK_lab02.ipynb  p\r\n",
      "Jupyter_intro.ipynb  PUSK_lab01.ipynb  PUSK_lab02.ipynb\r\n"
     ]
    }
   ],
   "source": [
    "touch p\n",
    "ls\n",
    "rm p\n",
    "ls"
   ]
  },
  {
   "cell_type": "markdown",
   "metadata": {
    "slideshow": {
     "slide_type": "slide"
    }
   },
   "source": [
    "Przyklady\n",
    "\n",
    "* *rm* plik1 usun plik1\n",
    "* *rm* -i plik1 zanim usuniesz plik1 zapytaj o zgode\n",
    "* *rm* -r plik1 kat1 usun plik1 oraz katalog kat1 wraz z zawartoscia\n",
    "* *rm* -rf plik1 kat1 patrz wyzej, ale kontynuuj jesli plik1 i kat1 nie istnieja"
   ]
  },
  {
   "cell_type": "markdown",
   "metadata": {
    "slideshow": {
     "slide_type": "slide"
    }
   },
   "source": [
    "# Tworzenie dowiazan\n",
    "\n",
    "* *link*\n",
    "\n",
    "*ln* p d tworzy twarde dowiazanie d do pliku p\n",
    "\n",
    "*ln* -s p d tworzy dowiazanie symboliczne d do pliku/katalogu p\n",
    "\n",
    "Ograniczenia twardych dowiazan\n",
    "* Nie moga odnosic sie do plikow z poza wlasnego systemu plikow, tzn. do tych, ktore nie sa przechowywane na tej samej partycji\n",
    "* Nie moga odnosic sie do katalogow"
   ]
  },
  {
   "cell_type": "markdown",
   "metadata": {
    "slideshow": {
     "slide_type": "slide"
    }
   },
   "source": [
    "# Zadanie 2\n",
    "\n",
    "* Utworzyc w katalogu domowym katalog playground\n",
    "* Utworzyc w katalogu playground katalogi dir1 i dir2\n",
    "* Skopiowac do biezacego katalogu plik /etc/passwd\n",
    "* Wylistowac zawartosc biezacego katalogu w trybie szczegolowym (-l)\n",
    "* Skopiowac powtornie do biezacego katalogu plik /etc/passwd w trybie gadatliwym (-v)\n",
    "* Skopiowac powtornie do biezacego katalogu plik /etc/passwd w trybie interaktywnym (-i)"
   ]
  },
  {
   "cell_type": "markdown",
   "metadata": {
    "slideshow": {
     "slide_type": "slide"
    }
   },
   "source": [
    "* Zmienic nazwe pliku passwd na fun\n",
    "* Przeniesc plik fun do katalogu dir1\n",
    "* Przeniesc katalog dir1 do katalogu dir2\n",
    "* Wylistowac zawartosc katalogu dir2 i dir1\n",
    "* Przeniesc katalog dir1 do katalogu playground\n",
    "* Przeniesc plik fun do katalogu playground"
   ]
  },
  {
   "cell_type": "markdown",
   "metadata": {
    "slideshow": {
     "slide_type": "slide"
    }
   },
   "source": [
    "* Utworzyc twarde dowiazanie fun-hard do pliku fun\n",
    "* Wylistowac zawartosc biezacego katalogu z opcjami (-li)\n",
    "* Utworzyc dowiazanie symboliczne fun-sym do pliku fun\n",
    "* Utworzyc dowiazanie symboliczne dir1-sym do katalogu dir1\n",
    "* Wylistowac zawartosc biezacego katalogu w trybie szczegolowym (-l)\n",
    "* Usunac twarde dowiazanie fun-hard do pliku fun\n",
    "* Wylistowac zawartosc biezacego katalogu w trybie szczegolowym (-l)\n",
    "* Usunac plik fun\n",
    "* Wyswietlic zawartosc dowiazania symbolicznego sym-fun\n",
    "* Usunac katalog playground"
   ]
  },
  {
   "cell_type": "markdown",
   "metadata": {
    "slideshow": {
     "slide_type": "slide"
    }
   },
   "source": [
    "# Komendy\n",
    "\n",
    "* Pliki wykonywalne (programy), np. te w /usr/bin\n",
    "  * Skompilowane (np. C, C++)\n",
    "  * Skrypty (np. bash, Python)\n",
    "* *Shell builtins*, np. *cd*\n",
    "* Funkcje powloki\n",
    "* Aliasy"
   ]
  },
  {
   "cell_type": "markdown",
   "metadata": {
    "slideshow": {
     "slide_type": "slide"
    }
   },
   "source": [
    "# Identyfikacja typu komendy\n",
    "\n",
    "* *type*\n",
    "\n",
    "*type* komenda zwraca typ komendy\n",
    "\n",
    "Przyklady"
   ]
  },
  {
   "cell_type": "code",
   "execution_count": 1,
   "metadata": {
    "collapsed": false,
    "slideshow": {
     "slide_type": "fragment"
    }
   },
   "outputs": [
    {
     "name": "stdout",
     "output_type": "stream",
     "text": [
      "type is a shell builtin\r\n"
     ]
    }
   ],
   "source": [
    "type type"
   ]
  },
  {
   "cell_type": "code",
   "execution_count": 2,
   "metadata": {
    "collapsed": false,
    "slideshow": {
     "slide_type": "fragment"
    }
   },
   "outputs": [
    {
     "name": "stdout",
     "output_type": "stream",
     "text": [
      "ls is /bin/ls\r\n"
     ]
    }
   ],
   "source": [
    "type ls"
   ]
  },
  {
   "cell_type": "code",
   "execution_count": 3,
   "metadata": {
    "collapsed": false,
    "slideshow": {
     "slide_type": "fragment"
    }
   },
   "outputs": [
    {
     "name": "stdout",
     "output_type": "stream",
     "text": [
      "cp is /bin/cp\r\n"
     ]
    }
   ],
   "source": [
    "type cp"
   ]
  },
  {
   "cell_type": "markdown",
   "metadata": {
    "collapsed": true,
    "slideshow": {
     "slide_type": "slide"
    }
   },
   "source": [
    "# Lokalizacja komendy\n",
    "\n",
    "* *which*\n",
    "\n",
    "*which* komenda zwraca lokalizacje komendy\n",
    "\n",
    "Przyklady"
   ]
  },
  {
   "cell_type": "code",
   "execution_count": 4,
   "metadata": {
    "collapsed": false,
    "slideshow": {
     "slide_type": "fragment"
    }
   },
   "outputs": [
    {
     "name": "stdout",
     "output_type": "stream",
     "text": [
      "/bin/ls\r\n"
     ]
    }
   ],
   "source": [
    "which ls"
   ]
  },
  {
   "cell_type": "code",
   "execution_count": 8,
   "metadata": {
    "collapsed": false,
    "slideshow": {
     "slide_type": "fragment"
    }
   },
   "outputs": [
    {
     "name": "stdout",
     "output_type": "stream",
     "text": []
    }
   ],
   "source": [
    "which cd"
   ]
  },
  {
   "cell_type": "markdown",
   "metadata": {
    "slideshow": {
     "slide_type": "slide"
    }
   },
   "source": [
    "# Dokumentacja komend\n",
    "\n",
    "* *Shell builtins*\n",
    "\n",
    "*help* komenda pomoc dotyczaca komendy wbudowanej"
   ]
  },
  {
   "cell_type": "code",
   "execution_count": 17,
   "metadata": {
    "collapsed": false,
    "scrolled": true,
    "slideshow": {
     "slide_type": "fragment"
    }
   },
   "outputs": [
    {
     "name": "stdout",
     "output_type": "stream",
     "text": [
      "cd: cd [-L|[-P [-e]] [-@]] [dir]\r\n",
      "    Change the shell working directory.\r\n",
      "    \r\n",
      "    Change the current directory to DIR.  The default DIR is the value of the\r\n",
      "    HOME shell variable.\r\n",
      "    \r\n",
      "    The variable CDPATH defines the search path for the directory containing\r\n",
      "    DIR.  Alternative directory names in CDPATH are separated by a colon (:).\r\n",
      "    A null directory name is the same as the current directory.  If DIR begins\r\n",
      "    with a slash (/), then CDPATH is not used.\r\n"
     ]
    }
   ],
   "source": [
    "help cd | head -n 10"
   ]
  },
  {
   "cell_type": "markdown",
   "metadata": {
    "slideshow": {
     "slide_type": "slide"
    }
   },
   "source": [
    "* *\\-\\-help*"
   ]
  },
  {
   "cell_type": "code",
   "execution_count": 19,
   "metadata": {
    "collapsed": false,
    "slideshow": {
     "slide_type": "fragment"
    }
   },
   "outputs": [
    {
     "name": "stdout",
     "output_type": "stream",
     "text": [
      "Usage: mkdir [OPTION]... DIRECTORY...\r\n",
      "Create the DIRECTORY(ies), if they do not already exist.\r\n",
      "\r\n",
      "Mandatory arguments to long options are mandatory for short options too.\r\n",
      "  -m, --mode=MODE   set file mode (as in chmod), not a=rwx - umask\r\n",
      "  -p, --parents     no error if existing, make parent directories as needed\r\n",
      "  -v, --verbose     print a message for each created directory\r\n",
      "  -Z                   set SELinux security context of each created directory\r\n",
      "                         to the default type\r\n",
      "      --context[=CTX]  like -Z, or if CTX is specified then set the SELinux\r\n",
      "                         or SMACK security context to CTX\r\n",
      "      --help     display this help and exit\r\n",
      "      --version  output version information and exit\r\n",
      "\r\n",
      "GNU coreutils online help: <http://www.gnu.org/software/coreutils/>\r\n",
      "Report mkdir translation bugs to <http://translationproject.org/team/>\r\n",
      "Full documentation at: <http://www.gnu.org/software/coreutils/mkdir>\r\n",
      "or available locally via: info '(coreutils) mkdir invocation'\r\n"
     ]
    }
   ],
   "source": [
    "mkdir --help"
   ]
  },
  {
   "cell_type": "markdown",
   "metadata": {
    "slideshow": {
     "slide_type": "slide"
    }
   },
   "source": [
    "* Dokumentacja programow\n",
    "\n",
    "*man* program wyswietla manual programu"
   ]
  },
  {
   "cell_type": "code",
   "execution_count": 32,
   "metadata": {
    "collapsed": false,
    "slideshow": {
     "slide_type": "fragment"
    }
   },
   "outputs": [
    {
     "name": "stdout",
     "output_type": "stream",
     "text": [
      "PASSWD(1)                        User Commands                       PASSWD(1)\r\n",
      "\r\n",
      "NAME\r\n",
      "       passwd - change user password\r\n",
      "\r\n",
      "SYNOPSIS\r\n",
      "       passwd [options] [LOGIN]\r\n",
      "\r\n",
      "DESCRIPTION\r\n",
      "       The passwd command changes passwords for user accounts. A normal user\r\n",
      "       may only change the password for his/her own account, while the\r\n",
      "       superuser may change the password for any account.  passwd also changes\r\n",
      "       the account or associated password validity period.\r\n"
     ]
    }
   ],
   "source": [
    "man passwd | head -n 13"
   ]
  },
  {
   "cell_type": "markdown",
   "metadata": {
    "slideshow": {
     "slide_type": "slide"
    }
   },
   "source": [
    "# Wyszukiwanie komend\n",
    "\n",
    "* *apropos*\n",
    "\n",
    "*apropos* klucz wyswietl komendy skojarzone z kluczem"
   ]
  },
  {
   "cell_type": "code",
   "execution_count": 36,
   "metadata": {
    "collapsed": false,
    "slideshow": {
     "slide_type": "fragment"
    }
   },
   "outputs": [
    {
     "name": "stdout",
     "output_type": "stream",
     "text": [
      "fdformat (8)         - low-level format a floppy disk\r\n"
     ]
    }
   ],
   "source": [
    "apropos floppy"
   ]
  },
  {
   "cell_type": "markdown",
   "metadata": {
    "slideshow": {
     "slide_type": "slide"
    }
   },
   "source": [
    "# Krotki opis komend\n",
    "\n",
    "* whatis\n",
    "\n",
    "*whatis* komenda wyswietl krotki opis komendy"
   ]
  },
  {
   "cell_type": "code",
   "execution_count": 37,
   "metadata": {
    "collapsed": false,
    "slideshow": {
     "slide_type": "fragment"
    }
   },
   "outputs": [
    {
     "name": "stdout",
     "output_type": "stream",
     "text": [
      "ls (1)               - list directory contents\r\n"
     ]
    }
   ],
   "source": [
    "whatis ls"
   ]
  },
  {
   "cell_type": "markdown",
   "metadata": {
    "slideshow": {
     "slide_type": "slide"
    }
   },
   "source": [
    "# Aliasy\n",
    "\n",
    "bash *one-liners* \n",
    "\n",
    "komenda1; komenda2; komenda3\n",
    "\n",
    "*alias* nazwa='string'"
   ]
  },
  {
   "cell_type": "code",
   "execution_count": 42,
   "metadata": {
    "collapsed": false,
    "slideshow": {
     "slide_type": "fragment"
    }
   },
   "outputs": [
    {
     "name": "stdout",
     "output_type": "stream",
     "text": [
      "bin  games  include  lib  local  sbin  share  src\r\n",
      "/home/users/jakub.spiechowicz\r\n"
     ]
    }
   ],
   "source": [
    "cd /usr;ls;cd -"
   ]
  },
  {
   "cell_type": "code",
   "execution_count": 43,
   "metadata": {
    "collapsed": false,
    "slideshow": {
     "slide_type": "fragment"
    }
   },
   "outputs": [
    {
     "name": "stdout",
     "output_type": "stream",
     "text": [
      "test is a shell builtin\r\n"
     ]
    }
   ],
   "source": [
    "type test"
   ]
  },
  {
   "cell_type": "code",
   "execution_count": 44,
   "metadata": {
    "collapsed": false,
    "slideshow": {
     "slide_type": "fragment"
    }
   },
   "outputs": [
    {
     "name": "stdout",
     "output_type": "stream",
     "text": [
      "bash: type: foo: not found\r\n"
     ]
    }
   ],
   "source": [
    "type foo"
   ]
  },
  {
   "cell_type": "code",
   "execution_count": 56,
   "metadata": {
    "collapsed": false,
    "slideshow": {
     "slide_type": "fragment"
    }
   },
   "outputs": [
    {
     "name": "stdout",
     "output_type": "stream",
     "text": []
    }
   ],
   "source": [
    "alias foo='cd /usr;ls;cd -'"
   ]
  },
  {
   "cell_type": "code",
   "execution_count": 57,
   "metadata": {
    "collapsed": false,
    "slideshow": {
     "slide_type": "slide"
    }
   },
   "outputs": [
    {
     "name": "stdout",
     "output_type": "stream",
     "text": [
      "bin  games  include  lib  local  sbin  share  src\r\n",
      "/home/users/jakub.spiechowicz\r\n"
     ]
    }
   ],
   "source": [
    "foo"
   ]
  },
  {
   "cell_type": "code",
   "execution_count": 58,
   "metadata": {
    "collapsed": false,
    "slideshow": {
     "slide_type": "fragment"
    }
   },
   "outputs": [
    {
     "name": "stdout",
     "output_type": "stream",
     "text": [
      "foo is aliased to `cd /usr;ls;cd -'\r\n"
     ]
    }
   ],
   "source": [
    "type foo"
   ]
  },
  {
   "cell_type": "markdown",
   "metadata": {
    "slideshow": {
     "slide_type": "fragment"
    }
   },
   "source": [
    "*alias* wyswietlanie zapamietanych aliasow"
   ]
  },
  {
   "cell_type": "code",
   "execution_count": 59,
   "metadata": {
    "collapsed": false,
    "slideshow": {
     "slide_type": "fragment"
    }
   },
   "outputs": [
    {
     "name": "stdout",
     "output_type": "stream",
     "text": [
      "alias foo='cd /usr;ls;cd -'\r\n"
     ]
    }
   ],
   "source": [
    "alias"
   ]
  },
  {
   "cell_type": "markdown",
   "metadata": {
    "slideshow": {
     "slide_type": "fragment"
    }
   },
   "source": [
    "*unalias* nazwa usuwanie aliasu"
   ]
  },
  {
   "cell_type": "code",
   "execution_count": 48,
   "metadata": {
    "collapsed": false,
    "slideshow": {
     "slide_type": "fragment"
    }
   },
   "outputs": [
    {
     "name": "stdout",
     "output_type": "stream",
     "text": []
    }
   ],
   "source": [
    "unalias foo"
   ]
  },
  {
   "cell_type": "code",
   "execution_count": 49,
   "metadata": {
    "collapsed": false,
    "slideshow": {
     "slide_type": "fragment"
    }
   },
   "outputs": [
    {
     "name": "stdout",
     "output_type": "stream",
     "text": [
      "bash: type: foo: not found\r\n"
     ]
    }
   ],
   "source": [
    "type foo"
   ]
  },
  {
   "cell_type": "code",
   "execution_count": 62,
   "metadata": {
    "collapsed": false,
    "slideshow": {
     "slide_type": "slide"
    }
   },
   "outputs": [
    {
     "name": "stdout",
     "output_type": "stream",
     "text": []
    }
   ],
   "source": [
    "alias ls='ls --color=tty'"
   ]
  },
  {
   "cell_type": "markdown",
   "metadata": {
    "slideshow": {
     "slide_type": "fragment"
    }
   },
   "source": [
    "# Zadanie 3\n",
    "\n",
    "Wyszukaj i zapoznaj sie z dokumentacja oraz pomoca dostepna dla dotychczas poznanych komend. Sprawdz jakie jeszcze oferuja opcje oraz samodzielnie je wyprobuj."
   ]
  }
 ],
 "metadata": {
  "celltoolbar": "Slideshow",
  "kernelspec": {
   "display_name": "Bash",
   "language": "bash",
   "name": "bash"
  },
  "language_info": {
   "codemirror_mode": "shell",
   "file_extension": ".sh",
   "mimetype": "text/x-sh",
   "name": "bash"
  }
 },
 "nbformat": 4,
 "nbformat_minor": 1
}
