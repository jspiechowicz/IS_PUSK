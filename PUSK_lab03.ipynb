{
 "cells": [
  {
   "cell_type": "markdown",
   "metadata": {
    "slideshow": {
     "slide_type": "slide"
    }
   },
   "source": [
    "<img src=\"https://upload.wikimedia.org/wikipedia/commons/thumb/3/35/Tux.svg/280px-Tux.svg.png\" width=20% align='right'>\n",
    "\n",
    "# Podstawy uzytkowania\n",
    "# systemow komputerowych\n",
    "\n",
    "Jakub Spiechowicz\n",
    "\n",
    "Laboratorium 03, Operacje wejscia/wyjscia"
   ]
  },
  {
   "cell_type": "markdown",
   "metadata": {
    "slideshow": {
     "slide_type": "slide"
    }
   },
   "source": [
    "# Standardowe wejscie, wyjscie i blad\n",
    "\n",
    "\"Everything is a file\"\n",
    "\n",
    "* Standardowe wejscie (standard input, *stdin*) -> klawiatura\n",
    "* Standardowe wyjscie (standard output, *stdout*) -> ekran\n",
    "* Standardowy blad (standard error, *stderr*) -> ekran"
   ]
  },
  {
   "cell_type": "markdown",
   "metadata": {
    "slideshow": {
     "slide_type": "slide"
    }
   },
   "source": [
    "# Przekierowanie operacji I/O\n",
    "\n",
    "Operator przekierowania >"
   ]
  },
  {
   "cell_type": "code",
   "execution_count": 1,
   "metadata": {
    "collapsed": false,
    "slideshow": {
     "slide_type": "fragment"
    }
   },
   "outputs": [
    {
     "name": "stdout",
     "output_type": "stream",
     "text": [
      "-rw-r--r-- 1 jakub.spiechowicz staff  90641 Oct 27 10:33 ls-output.txt\r\n"
     ]
    }
   ],
   "source": [
    "ls -l /usr/bin > ls-output.txt\n",
    "ls -l | tail -n 1"
   ]
  },
  {
   "cell_type": "code",
   "execution_count": 2,
   "metadata": {
    "collapsed": false,
    "slideshow": {
     "slide_type": "fragment"
    }
   },
   "outputs": [
    {
     "name": "stdout",
     "output_type": "stream",
     "text": [
      "ls: cannot access '/bin/usr': No such file or directory\r\n",
      "-rw-r--r-- 1 jakub.spiechowicz staff      0 Oct 27 10:34 ls-output.txt\r\n"
     ]
    }
   ],
   "source": [
    "ls -l /bin/usr > ls-output.txt\n",
    "ls -l | tail -n 1"
   ]
  },
  {
   "cell_type": "code",
   "execution_count": 10,
   "metadata": {
    "collapsed": false,
    "slideshow": {
     "slide_type": "fragment"
    }
   },
   "outputs": [
    {
     "name": "stdout",
     "output_type": "stream",
     "text": [
      "-rw-r--r-- 1 jakub.spiechowicz staff      0 Oct 26 14:20 ls-output.txt\r\n"
     ]
    }
   ],
   "source": [
    "> ls-output.txt\n",
    "ls -l | tail -n 1"
   ]
  },
  {
   "cell_type": "code",
   "execution_count": 11,
   "metadata": {
    "collapsed": false,
    "slideshow": {
     "slide_type": "slide"
    }
   },
   "outputs": [
    {
     "name": "stdout",
     "output_type": "stream",
     "text": [
      "-rw-r--r-- 1 jakub.spiechowicz staff 181282 Oct 26 14:20 ls-output.txt\r\n"
     ]
    }
   ],
   "source": [
    "ls -l /usr/bin >> ls-output.txt\n",
    "ls -l /usr/bin >> ls-output.txt\n",
    "ls -l | tail -n 1"
   ]
  },
  {
   "cell_type": "markdown",
   "metadata": {
    "slideshow": {
     "slide_type": "fragment"
    }
   },
   "source": [
    "Deskryptor kanalu\n",
    "\n",
    "* 0 *stdin*\n",
    "* 1 *stdout*\n",
    "* 2 *stderr*"
   ]
  },
  {
   "cell_type": "code",
   "execution_count": 12,
   "metadata": {
    "collapsed": false,
    "slideshow": {
     "slide_type": "fragment"
    }
   },
   "outputs": [
    {
     "name": "stdout",
     "output_type": "stream",
     "text": [
      "ls: cannot access '/bin/usr': No such file or directory\r\n"
     ]
    }
   ],
   "source": [
    "ls -l /bin/usr 2> ls-error.txt\n",
    "cat ls-error.txt"
   ]
  },
  {
   "cell_type": "code",
   "execution_count": 3,
   "metadata": {
    "collapsed": false,
    "slideshow": {
     "slide_type": "fragment"
    }
   },
   "outputs": [
    {
     "name": "stdout",
     "output_type": "stream",
     "text": [
      "ls: cannot access '/bin/usr': No such file or directory\r\n"
     ]
    }
   ],
   "source": [
    "ls -l /bin/usr &> ls-output.txt\n",
    "cat ls-output.txt"
   ]
  },
  {
   "cell_type": "markdown",
   "metadata": {
    "slideshow": {
     "slide_type": "slide"
    }
   },
   "source": [
    "*Bit bucket*, *black hole*"
   ]
  },
  {
   "cell_type": "code",
   "execution_count": 14,
   "metadata": {
    "collapsed": false,
    "slideshow": {
     "slide_type": "fragment"
    }
   },
   "outputs": [
    {
     "name": "stdout",
     "output_type": "stream",
     "text": []
    }
   ],
   "source": [
    "ls -l /bin/usr 2> /dev/null"
   ]
  },
  {
   "cell_type": "markdown",
   "metadata": {
    "slideshow": {
     "slide_type": "slide"
    }
   },
   "source": [
    "# Konkatenacja (laczenie)\n",
    "\n",
    "*cat*\n",
    "\n",
    "*cat* p przeczytaj zawartosc pliku p i skopiuj go do *stdout*\n",
    "\n",
    "*cat* p1 p2 > p polacz pliki p1 i p2 w pliku p"
   ]
  },
  {
   "cell_type": "code",
   "execution_count": 15,
   "metadata": {
    "collapsed": false,
    "slideshow": {
     "slide_type": "fragment"
    }
   },
   "outputs": [
    {
     "name": "stdout",
     "output_type": "stream",
     "text": [
      "ls: cannot access '/bin/usr': No such file or directory\r\n"
     ]
    }
   ],
   "source": [
    "cat ls-output.txt"
   ]
  },
  {
   "cell_type": "code",
   "execution_count": 16,
   "metadata": {
    "collapsed": false,
    "slideshow": {
     "slide_type": "slide"
    }
   },
   "outputs": [
    {
     "name": "stdout",
     "output_type": "stream",
     "text": [
      "Usage: cat [OPTION]... [FILE]...\r\n",
      "Concatenate FILE(s) to standard output.\r\n",
      "\r\n",
      "With no FILE, or when FILE is -, read standard input.\r\n",
      "\r\n",
      "  -A, --show-all           equivalent to -vET\r\n",
      "  -b, --number-nonblank    number nonempty output lines, overrides -n\r\n",
      "  -e                       equivalent to -vE\r\n",
      "  -E, --show-ends          display $ at end of each line\r\n",
      "  -n, --number             number all output lines\r\n",
      "  -s, --squeeze-blank      suppress repeated empty output lines\r\n",
      "  -t                       equivalent to -vT\r\n",
      "  -T, --show-tabs          display TAB characters as ^I\r\n",
      "  -u                       (ignored)\r\n",
      "  -v, --show-nonprinting   use ^ and M- notation, except for LFD and TAB\r\n",
      "      --help     display this help and exit\r\n",
      "      --version  output version information and exit\r\n"
     ]
    }
   ],
   "source": [
    "cat --help | head -n 17"
   ]
  },
  {
   "cell_type": "code",
   "execution_count": 4,
   "metadata": {
    "collapsed": false,
    "slideshow": {
     "slide_type": "slide"
    }
   },
   "outputs": [
    {
     "name": "stdout",
     "output_type": "stream",
     "text": [
      "ls: cannot access '/bin/usr': No such file or directory\r\n"
     ]
    }
   ],
   "source": [
    "cat < ls-output.txt\n",
    "rm ls-*.txt"
   ]
  },
  {
   "cell_type": "markdown",
   "metadata": {
    "slideshow": {
     "slide_type": "slide"
    }
   },
   "source": [
    "# Potoki (ang. *pipelines*)\n",
    "\n",
    "komenda1 | komenda2 | ..."
   ]
  },
  {
   "cell_type": "code",
   "execution_count": 18,
   "metadata": {
    "collapsed": false,
    "slideshow": {
     "slide_type": "fragment"
    }
   },
   "outputs": [
    {
     "name": "stdout",
     "output_type": "stream",
     "text": [
      "supervisor\r\n",
      "syslog\r\n",
      "tmp\r\n",
      "wtmp\r\n",
      "www\r\n"
     ]
    }
   ],
   "source": [
    "ls /var /var/log | sort | tail -n 5"
   ]
  },
  {
   "cell_type": "markdown",
   "metadata": {
    "collapsed": true,
    "slideshow": {
     "slide_type": "slide"
    }
   },
   "source": [
    "# Sort i uniq\n",
    "\n",
    "*sort* plik sortuje zawartosc pliku tekstowego\n",
    "\n",
    "*uniq* plik usuwa z posortowanego pliku tekstowego powtarzajace sie linie"
   ]
  },
  {
   "cell_type": "code",
   "execution_count": 19,
   "metadata": {
    "collapsed": false,
    "slideshow": {
     "slide_type": "fragment"
    }
   },
   "outputs": [
    {
     "name": "stdout",
     "output_type": "stream",
     "text": [
      "zipnote\r\n",
      "zipsplit\r\n",
      "zless\r\n",
      "zmore\r\n",
      "znew\r\n"
     ]
    }
   ],
   "source": [
    "ls /bin /usr/bin | sort | uniq | tail -n 5"
   ]
  },
  {
   "cell_type": "markdown",
   "metadata": {
    "slideshow": {
     "slide_type": "slide"
    }
   },
   "source": [
    "# wc (word count)\n",
    "\n",
    "*wc* plik wyswietla liczbe linii, slow oraz bajtow w pliku"
   ]
  },
  {
   "cell_type": "code",
   "execution_count": 7,
   "metadata": {
    "collapsed": false,
    "slideshow": {
     "slide_type": "fragment"
    }
   },
   "outputs": [
    {
     "name": "stdout",
     "output_type": "stream",
     "text": [
      "      7      56     495\r\n"
     ]
    }
   ],
   "source": [
    "ls -l | wc"
   ]
  },
  {
   "cell_type": "code",
   "execution_count": 1,
   "metadata": {
    "collapsed": false,
    "slideshow": {
     "slide_type": "fragment"
    }
   },
   "outputs": [
    {
     "name": "stdout",
     "output_type": "stream",
     "text": [
      "1871\r\n"
     ]
    }
   ],
   "source": [
    "ls -l /bin /usr/bin | sort | uniq | wc -l"
   ]
  },
  {
   "cell_type": "markdown",
   "metadata": {
    "slideshow": {
     "slide_type": "slide"
    }
   },
   "source": [
    "# grep\n",
    "\n",
    "*grep* klucz plik wypisuje wszystkie linie w pliku zawierajace klucz"
   ]
  },
  {
   "cell_type": "code",
   "execution_count": 22,
   "metadata": {
    "collapsed": false,
    "slideshow": {
     "slide_type": "fragment"
    }
   },
   "outputs": [
    {
     "name": "stdout",
     "output_type": "stream",
     "text": [
      "bunzip2\r\n",
      "bzip2\r\n",
      "bzip2recover\r\n",
      "funzip\r\n",
      "gpg-zip\r\n",
      "gunzip\r\n",
      "gzip\r\n",
      "unzip\r\n",
      "unzipsfx\r\n",
      "zip\r\n",
      "zipcloak\r\n",
      "zipdetails\r\n",
      "zipgrep\r\n",
      "zipinfo\r\n",
      "zipnote\r\n",
      "zipsplit\r\n"
     ]
    }
   ],
   "source": [
    "ls /bin /usr/bin | sort | uniq | grep zip"
   ]
  },
  {
   "cell_type": "markdown",
   "metadata": {
    "slideshow": {
     "slide_type": "slide"
    }
   },
   "source": [
    "Przydatne opcje\n",
    "\n",
    "* -i ignoruje rozmiar liter\n",
    "* -v wypisuje tylko linie, ktore nie zawieraja klucza "
   ]
  },
  {
   "cell_type": "markdown",
   "metadata": {
    "slideshow": {
     "slide_type": "slide"
    }
   },
   "source": [
    "# head/tail\n",
    "\n",
    "*head* plik wypisz pierwsze 10 linii pliku\n",
    "\n",
    "*tail* plik wypisz ostatnie 10 linii pliku\n",
    "\n",
    "* -n liczba zamiast 10 wypisz liczba linii pliku"
   ]
  },
  {
   "cell_type": "code",
   "execution_count": 23,
   "metadata": {
    "collapsed": false,
    "slideshow": {
     "slide_type": "fragment"
    }
   },
   "outputs": [
    {
     "name": "stdout",
     "output_type": "stream",
     "text": [
      "total 376\r\n",
      "-rw-r--r-- 1 jakub.spiechowicz staff  44712 Oct  9 09:13 Jupyter_intro.ipynb\r\n",
      "-rw-r--r-- 1 jakub.spiechowicz staff  14789 Oct 25 12:05 MPMK_w01_Programowanie_w_Sage.ipynb\r\n",
      "-rw-r--r-- 1 jakub.spiechowicz staff 256828 Oct 25 10:54 MPMK_w01_Wprowadzenie_do_Sage.ipynb\r\n"
     ]
    }
   ],
   "source": [
    "ls -l | head -n 4"
   ]
  },
  {
   "cell_type": "code",
   "execution_count": 24,
   "metadata": {
    "collapsed": false,
    "slideshow": {
     "slide_type": "slide"
    }
   },
   "outputs": [
    {
     "name": "stdout",
     "output_type": "stream",
     "text": [
      "-rw-r--r-- 1 jakub.spiechowicz staff  15709 Oct 13 11:13 PUSK_lab01.ipynb\r\n",
      "-rw-r--r-- 1 jakub.spiechowicz staff  28402 Oct 26 10:59 PUSK_lab02.ipynb\r\n",
      "-rw-r--r-- 1 jakub.spiechowicz staff  17428 Oct 26 14:21 PUSK_lab03.ipynb\r\n"
     ]
    }
   ],
   "source": [
    "ls -l | tail -n 3"
   ]
  },
  {
   "cell_type": "markdown",
   "metadata": {
    "slideshow": {
     "slide_type": "fragment"
    }
   },
   "source": [
    "# tee\n",
    "\n",
    "*tee* tworzy \"T\", wczytuje *stdin* i przekazuje je jednoczesnie do *stdout* oraz pliku/ow"
   ]
  },
  {
   "cell_type": "code",
   "execution_count": 25,
   "metadata": {
    "collapsed": false,
    "slideshow": {
     "slide_type": "fragment"
    }
   },
   "outputs": [
    {
     "name": "stdout",
     "output_type": "stream",
     "text": [
      "zipinfo\r\n",
      "zipnote\r\n",
      "zipsplit\r\n",
      "-rw-r--r-- 1 jakub.spiechowicz staff  12795 Oct 26 14:21 ls.txt\r\n"
     ]
    }
   ],
   "source": [
    "ls /usr/bin | tee ls.txt | grep zip | tail -n 3\n",
    "ls -l | grep ls.txt\n",
    "rm ls.txt"
   ]
  },
  {
   "cell_type": "markdown",
   "metadata": {
    "slideshow": {
     "slide_type": "slide"
    }
   },
   "source": [
    "# Shell expansions\n",
    "\n",
    "*echo*\n",
    "\n",
    "*echo* text wypisuje na ekran text"
   ]
  },
  {
   "cell_type": "code",
   "execution_count": 26,
   "metadata": {
    "collapsed": false,
    "slideshow": {
     "slide_type": "fragment"
    }
   },
   "outputs": [
    {
     "name": "stdout",
     "output_type": "stream",
     "text": [
      "to jest test\r\n"
     ]
    }
   ],
   "source": [
    "echo to jest test"
   ]
  },
  {
   "cell_type": "code",
   "execution_count": 27,
   "metadata": {
    "collapsed": false,
    "slideshow": {
     "slide_type": "fragment"
    }
   },
   "outputs": [
    {
     "name": "stdout",
     "output_type": "stream",
     "text": [
      "Jupyter_intro.ipynb MPMK_w01_Programowanie_w_Sage.ipynb MPMK_w01_Wprowadzenie_do_Sage.ipynb PUSK_lab01.ipynb PUSK_lab02.ipynb PUSK_lab03.ipynb\r\n"
     ]
    }
   ],
   "source": [
    "echo *"
   ]
  },
  {
   "cell_type": "markdown",
   "metadata": {
    "slideshow": {
     "slide_type": "slide"
    }
   },
   "source": [
    "# Substytucja sciezek"
   ]
  },
  {
   "cell_type": "code",
   "execution_count": 28,
   "metadata": {
    "collapsed": false,
    "slideshow": {
     "slide_type": "fragment"
    }
   },
   "outputs": [
    {
     "name": "stdout",
     "output_type": "stream",
     "text": [
      "PUSK_lab01.ipynb PUSK_lab02.ipynb PUSK_lab03.ipynb\r\n"
     ]
    }
   ],
   "source": [
    "echo PUSK*"
   ]
  },
  {
   "cell_type": "code",
   "execution_count": 29,
   "metadata": {
    "collapsed": false,
    "slideshow": {
     "slide_type": "fragment"
    }
   },
   "outputs": [
    {
     "name": "stdout",
     "output_type": "stream",
     "text": [
      "/usr/local/share\r\n"
     ]
    }
   ],
   "source": [
    "echo /usr/*/share"
   ]
  },
  {
   "cell_type": "code",
   "execution_count": 30,
   "metadata": {
    "collapsed": false,
    "slideshow": {
     "slide_type": "fragment"
    }
   },
   "outputs": [
    {
     "name": "stdout",
     "output_type": "stream",
     "text": [
      ". .. .bash_history .cache .config .ipynb_checkpoints .ipython .jupyter .local .sage .viminfo\r\n"
     ]
    }
   ],
   "source": [
    "echo .*"
   ]
  },
  {
   "cell_type": "code",
   "execution_count": 31,
   "metadata": {
    "collapsed": false,
    "slideshow": {
     "slide_type": "fragment"
    }
   },
   "outputs": [
    {
     "name": "stdout",
     "output_type": "stream",
     "text": [
      ".bash_history .cache .config .ipynb_checkpoints .ipython .jupyter .local .sage .viminfo\r\n"
     ]
    }
   ],
   "source": [
    "echo .[!.]?*"
   ]
  },
  {
   "cell_type": "code",
   "execution_count": 32,
   "metadata": {
    "collapsed": false,
    "slideshow": {
     "slide_type": "slide"
    }
   },
   "outputs": [
    {
     "name": "stdout",
     "output_type": "stream",
     "text": [
      "/home/users/jakub.spiechowicz\r\n"
     ]
    }
   ],
   "source": [
    "echo ~"
   ]
  },
  {
   "cell_type": "code",
   "execution_count": 33,
   "metadata": {
    "collapsed": false,
    "slideshow": {
     "slide_type": "fragment"
    }
   },
   "outputs": [
    {
     "name": "stdout",
     "output_type": "stream",
     "text": [
      "/home/users/marcin.kostur\r\n"
     ]
    }
   ],
   "source": [
    "echo ~marcin.kostur"
   ]
  },
  {
   "cell_type": "markdown",
   "metadata": {
    "slideshow": {
     "slide_type": "slide"
    }
   },
   "source": [
    "# Substytucja arytmetyki\n",
    "\n",
    "$((wyrazenie_arytmetyczne)), wspiera tylko liczby calkowite\n",
    "\n",
    "Operatory arytmetyczne\n",
    "\n",
    "* \\+ dodawanie\n",
    "* \\- odejmowanie\n",
    "* \\* mnozenie\n",
    "* / dzielenie (calkowite!)\n",
    "* % modulo\n",
    "* \\*\\* potegowanie"
   ]
  },
  {
   "cell_type": "code",
   "execution_count": 34,
   "metadata": {
    "collapsed": false,
    "slideshow": {
     "slide_type": "slide"
    }
   },
   "outputs": [
    {
     "name": "stdout",
     "output_type": "stream",
     "text": [
      "4\r\n"
     ]
    }
   ],
   "source": [
    "echo $((2 + 2))"
   ]
  },
  {
   "cell_type": "code",
   "execution_count": 35,
   "metadata": {
    "collapsed": false,
    "slideshow": {
     "slide_type": "fragment"
    }
   },
   "outputs": [
    {
     "name": "stdout",
     "output_type": "stream",
     "text": [
      "75\r\n"
     ]
    }
   ],
   "source": [
    "echo $(( (5**2)*3 ))"
   ]
  },
  {
   "cell_type": "code",
   "execution_count": 36,
   "metadata": {
    "collapsed": false,
    "slideshow": {
     "slide_type": "fragment"
    }
   },
   "outputs": [
    {
     "name": "stdout",
     "output_type": "stream",
     "text": [
      "5 dzielone przez 2 wynosi 2\r\n",
      "z reszta 1\r\n"
     ]
    }
   ],
   "source": [
    "echo 5 dzielone przez 2 wynosi $((5/2))\n",
    "echo z reszta $((5%2))"
   ]
  },
  {
   "cell_type": "markdown",
   "metadata": {
    "slideshow": {
     "slide_type": "slide"
    }
   },
   "source": [
    "# Substytucja nawiasow\n",
    "\n",
    "{lancuch_znakow lub zakres liczb calkowitych/znakow}"
   ]
  },
  {
   "cell_type": "code",
   "execution_count": 37,
   "metadata": {
    "collapsed": false,
    "slideshow": {
     "slide_type": "fragment"
    }
   },
   "outputs": [
    {
     "name": "stdout",
     "output_type": "stream",
     "text": [
      "bramka-A bramka-B bramka-C\r\n"
     ]
    }
   ],
   "source": [
    "echo bramka-{A,B,C}"
   ]
  },
  {
   "cell_type": "code",
   "execution_count": 38,
   "metadata": {
    "collapsed": false,
    "slideshow": {
     "slide_type": "fragment"
    }
   },
   "outputs": [
    {
     "name": "stdout",
     "output_type": "stream",
     "text": [
      "liczba_1 liczba_2 liczba_3 liczba_4 liczba_5\r\n"
     ]
    }
   ],
   "source": [
    "echo liczba_{1..5}"
   ]
  },
  {
   "cell_type": "code",
   "execution_count": 39,
   "metadata": {
    "collapsed": false,
    "slideshow": {
     "slide_type": "fragment"
    }
   },
   "outputs": [
    {
     "name": "stdout",
     "output_type": "stream",
     "text": [
      "Z Y X W V U T S R Q P O N M L K J I H G F E D C B A\r\n"
     ]
    }
   ],
   "source": [
    "echo {Z..A}"
   ]
  },
  {
   "cell_type": "code",
   "execution_count": 40,
   "metadata": {
    "collapsed": false,
    "slideshow": {
     "slide_type": "fragment"
    }
   },
   "outputs": [
    {
     "name": "stdout",
     "output_type": "stream",
     "text": [
      "aA1b aA2b aB3b aB4b\r\n"
     ]
    }
   ],
   "source": [
    "echo a{A{1,2},B{3,4}}b"
   ]
  },
  {
   "cell_type": "code",
   "execution_count": 41,
   "metadata": {
    "collapsed": false,
    "slideshow": {
     "slide_type": "slide"
    }
   },
   "outputs": [
    {
     "name": "stdout",
     "output_type": "stream",
     "text": [
      "2015-01  2015-04  2015-07  2015-11  2016-02  2016-05  2016-08  2016-12\r\n",
      "2015-02  2015-05  2015-08  2015-12  2016-03  2016-06  2016-09\r\n",
      "2015-03  2015-06  2015-09  2016-01  2016-04  2016-07  2016-11\r\n"
     ]
    }
   ],
   "source": [
    "mkdir zdjecia\n",
    "cd zdjecia\n",
    "mkdir {2015,2016}-0{1..9} {2015,2016}-{11..12}\n",
    "ls\n",
    "cd ~\n",
    "rm -r zdjecia"
   ]
  },
  {
   "cell_type": "markdown",
   "metadata": {
    "slideshow": {
     "slide_type": "slide"
    }
   },
   "source": [
    "# Substytucja parametrow\n",
    "\n",
    "$nazwa_parametru"
   ]
  },
  {
   "cell_type": "code",
   "execution_count": 42,
   "metadata": {
    "collapsed": false,
    "slideshow": {
     "slide_type": "fragment"
    }
   },
   "outputs": [
    {
     "name": "stdout",
     "output_type": "stream",
     "text": [
      "jakub.spiechowicz\r\n"
     ]
    }
   ],
   "source": [
    "echo $USER"
   ]
  },
  {
   "cell_type": "code",
   "execution_count": 43,
   "metadata": {
    "collapsed": false,
    "slideshow": {
     "slide_type": "fragment"
    }
   },
   "outputs": [
    {
     "name": "stdout",
     "output_type": "stream",
     "text": [
      "SHELL=/bin/bash\r\n",
      "USER=jakub.spiechowicz\r\n",
      "JPY_PARENT_PID=97981\r\n",
      "PAGER=cat\r\n",
      "PATH=/opt/conda/bin:/opt/conda/bin:/opt/conda/bin:/usr/local/sbin:/usr/local/bin:/usr/sbin:/usr/bin:/sbin:/bin\r\n",
      "PWD=/home/users/jakub.spiechowicz\r\n",
      "LANG=C\r\n",
      "PS1=[PEXP\\[\\]ECT_PROMPT>\r\n",
      "SHLVL=1\r\n",
      "HOME=/home/users/jakub.spiechowicz\r\n",
      "_=/usr/bin/printenv\r\n",
      "OLDPWD=/home/users/jakub.spiechowicz/zdjecia\r\n"
     ]
    }
   ],
   "source": [
    "printenv"
   ]
  },
  {
   "cell_type": "markdown",
   "metadata": {
    "slideshow": {
     "slide_type": "slide"
    }
   },
   "source": [
    "# Substytucja komend\n",
    "\n",
    "$(komenda)"
   ]
  },
  {
   "cell_type": "code",
   "execution_count": 44,
   "metadata": {
    "collapsed": false,
    "slideshow": {
     "slide_type": "fragment"
    }
   },
   "outputs": [
    {
     "name": "stdout",
     "output_type": "stream",
     "text": [
      "Jupyter_intro.ipynb MPMK_w01_Programowanie_w_Sage.ipynb MPMK_w01_Wprowadzenie_do_Sage.ipynb PUSK_lab01.ipynb PUSK_lab02.ipynb PUSK_lab03.ipynb\r\n"
     ]
    }
   ],
   "source": [
    "echo $(ls)"
   ]
  },
  {
   "cell_type": "code",
   "execution_count": 45,
   "metadata": {
    "collapsed": false,
    "slideshow": {
     "slide_type": "fragment"
    }
   },
   "outputs": [
    {
     "name": "stdout",
     "output_type": "stream",
     "text": [
      "-rwxr-xr-x 1 root root 151024 Feb 18  2016 /bin/cp\r\n"
     ]
    }
   ],
   "source": [
    "ls -l $(which cp)"
   ]
  },
  {
   "cell_type": "code",
   "execution_count": 48,
   "metadata": {
    "collapsed": false,
    "slideshow": {
     "slide_type": "fragment"
    }
   },
   "outputs": [
    {
     "name": "stdout",
     "output_type": "stream",
     "text": [
      "/usr/bin/funzip:  ELF 64-bit LSB executable, x86-64, version 1 (SYSV), dynamically linked, interpreter /lib64/ld-linux-x86-64.so.2, for GNU/Linux 2.6.32, BuildID[sha1]=06412c648a6927c4a14c751fe2412db3425ecd0f, stripped\r\n",
      "/usr/bin/gpg-zip: POSIX shell script, ASCII text executable\r\n",
      "/usr/bin/unzip:   ELF 64-bit LSB executable, x86-64, version 1 (SYSV), dynamically linked, interpreter /lib64/ld-linux-x86-64.so.2, for GNU/Linux 2.6.32, BuildID[sha1]=5b6200c235c4a94a72d69d2595441e69016427dc, stripped\r\n"
     ]
    }
   ],
   "source": [
    "file $(ls /usr/bin/* | grep zip | head -n 3)"
   ]
  },
  {
   "cell_type": "markdown",
   "metadata": {
    "slideshow": {
     "slide_type": "slide"
    }
   },
   "source": [
    "# Quoting"
   ]
  },
  {
   "cell_type": "code",
   "execution_count": 50,
   "metadata": {
    "collapsed": false,
    "slideshow": {
     "slide_type": "fragment"
    }
   },
   "outputs": [
    {
     "name": "stdout",
     "output_type": "stream",
     "text": [
      "to jest test\r\n"
     ]
    }
   ],
   "source": [
    "echo to jest       test"
   ]
  },
  {
   "cell_type": "code",
   "execution_count": 51,
   "metadata": {
    "collapsed": false,
    "slideshow": {
     "slide_type": "fragment"
    }
   },
   "outputs": [
    {
     "name": "stdout",
     "output_type": "stream",
     "text": [
      "Sumaryczny koszt zakupow wynosi 00.00\r\n"
     ]
    }
   ],
   "source": [
    "echo Sumaryczny koszt zakupow wynosi $100.00"
   ]
  },
  {
   "cell_type": "markdown",
   "metadata": {
    "slideshow": {
     "slide_type": "fragment"
    }
   },
   "source": [
    "* \" \" nie zmienia substytucji parametrow, arytmetyki i komend"
   ]
  },
  {
   "cell_type": "code",
   "execution_count": 62,
   "metadata": {
    "collapsed": false,
    "slideshow": {
     "slide_type": "fragment"
    }
   },
   "outputs": [
    {
     "name": "stdout",
     "output_type": "stream",
     "text": [
      "ls: cannot access 'cos': No such file or directory\r\n",
      "ls: cannot access 'tam.txt': No such file or directory\r\n",
      "-rw-r--r-- 1 jakub.spiechowicz staff 0 Oct 26 15:16 cos tam.txt\r\n",
      "-rw-r--r-- 1 jakub.spiechowicz staff 0 Oct 26 15:16 cos_tam.txt\r\n"
     ]
    }
   ],
   "source": [
    "touch \"cos tam.txt\"\n",
    "ls -l cos tam.txt\n",
    "ls -l \"cos tam.txt\"\n",
    "mv \"cos tam.txt\" cos_tam.txt\n",
    "ls -l cos_tam.txt\n",
    "rm cos_tam.txt"
   ]
  },
  {
   "cell_type": "code",
   "execution_count": 58,
   "metadata": {
    "collapsed": false,
    "slideshow": {
     "slide_type": "slide"
    }
   },
   "outputs": [
    {
     "name": "stdout",
     "output_type": "stream",
     "text": [
      "jakub.spiechowicz 4 /home/users/jakub.spiechowicz\r\n"
     ]
    }
   ],
   "source": [
    "echo \"$USER $((2+2)) $(pwd)\""
   ]
  },
  {
   "cell_type": "code",
   "execution_count": 60,
   "metadata": {
    "collapsed": false,
    "slideshow": {
     "slide_type": "fragment"
    }
   },
   "outputs": [
    {
     "name": "stdout",
     "output_type": "stream",
     "text": [
      "to jest test\r\n",
      "to jest       test\r\n"
     ]
    }
   ],
   "source": [
    "echo to jest       test\n",
    "echo \"to jest       test\""
   ]
  },
  {
   "cell_type": "code",
   "execution_count": 61,
   "metadata": {
    "collapsed": false,
    "slideshow": {
     "slide_type": "fragment"
    }
   },
   "outputs": [
    {
     "name": "stdout",
     "output_type": "stream",
     "text": [
      "October 2016 Su Mo Tu We Th Fr Sa 1 2 3 4 5 6 7 8 9 10 11 12 13 14 15 16 17 18 19 20 21 22 23 24 25 _\b2_\b6 27 28 29 30 31\r\n",
      "    October 2016      \r\n",
      "Su Mo Tu We Th Fr Sa  \r\n",
      "                   1  \r\n",
      " 2  3  4  5  6  7  8  \r\n",
      " 9 10 11 12 13 14 15  \r\n",
      "16 17 18 19 20 21 22  \r\n",
      "23 24 25 _\b2_\b6 27 28 29  \r\n",
      "30 31                 \r\n"
     ]
    }
   ],
   "source": [
    "echo $(cal)\n",
    "echo \"$(cal)\""
   ]
  },
  {
   "cell_type": "markdown",
   "metadata": {
    "slideshow": {
     "slide_type": "slide"
    }
   },
   "source": [
    "* ' '"
   ]
  },
  {
   "cell_type": "code",
   "execution_count": 70,
   "metadata": {
    "collapsed": false,
    "slideshow": {
     "slide_type": "fragment"
    }
   },
   "outputs": [
    {
     "name": "stdout",
     "output_type": "stream",
     "text": [
      "text /home/users/jakub.spiechowicz/Jupyter_intro.ipynb a b foo 4 jakub.spiechowicz\r\n",
      "text ~/*.txt {a,b} foo 4 jakub.spiechowicz\r\n",
      "text ~/*.txt {a,b} $(echo foo) $((2+2)) $USER\r\n"
     ]
    }
   ],
   "source": [
    "echo text ~/Jupyter* {a,b} $(echo foo) $((2+2)) $USER\n",
    "echo \"text ~/*.txt {a,b} $(echo foo) $((2+2)) $USER\"\n",
    "echo 'text ~/*.txt {a,b} $(echo foo) $((2+2)) $USER'"
   ]
  },
  {
   "cell_type": "markdown",
   "metadata": {
    "slideshow": {
     "slide_type": "fragment"
    }
   },
   "source": [
    "* \\\n",
    "  * $, !, &, spacja etc.\n",
    "  * Znaki specjalne, \\b, \\n, \\r, \\t"
   ]
  },
  {
   "cell_type": "code",
   "execution_count": 71,
   "metadata": {
    "collapsed": false,
    "slideshow": {
     "slide_type": "fragment"
    }
   },
   "outputs": [
    {
     "name": "stdout",
     "output_type": "stream",
     "text": [
      "Sumaryczny koszt zakupow wynosi $100.00\r\n"
     ]
    }
   ],
   "source": [
    "echo \"Sumaryczny koszt zakupow wynosi \\$100.00\""
   ]
  },
  {
   "cell_type": "code",
   "execution_count": 73,
   "metadata": {
    "collapsed": false,
    "slideshow": {
     "slide_type": "fragment"
    }
   },
   "outputs": [
    {
     "name": "stdout",
     "output_type": "stream",
     "text": [
      "\t tabulator\r\n"
     ]
    }
   ],
   "source": [
    "echo -e \"\\t tabulator\""
   ]
  },
  {
   "cell_type": "markdown",
   "metadata": {
    "slideshow": {
     "slide_type": "slide"
    }
   },
   "source": [
    "# Przydatne skroty klawiszowe"
   ]
  },
  {
   "cell_type": "markdown",
   "metadata": {
    "slideshow": {
     "slide_type": "fragment"
    }
   },
   "source": [
    "* CTRL-A przesun kursor na poczatek linii\n",
    "* CTRL-E przesun kursor na koniec linii\n",
    "* ALT-F przesun kursor o jedno slowo w przod\n",
    "* ALT-B przesun kursor o jedno slowo w tyl\n",
    "* CTRL-K wytnij tekst od kursora do konca linii\n",
    "* ALT-D wytnij tekst od kursora do konca biezacego slowa\n",
    "* CTRL-Y wklej tekst w miejsce kursora\n",
    "* TAB uzupelnij polecenie"
   ]
  },
  {
   "cell_type": "markdown",
   "metadata": {
    "slideshow": {
     "slide_type": "slide"
    }
   },
   "source": [
    "# Historia\n",
    "\n",
    "*history*"
   ]
  },
  {
   "cell_type": "code",
   "execution_count": 81,
   "metadata": {
    "collapsed": false,
    "slideshow": {
     "slide_type": "fragment"
    }
   },
   "outputs": [
    {
     "name": "stdout",
     "output_type": "stream",
     "text": [
      "  209  echo $?\r\n",
      "  210  ls -l /usr/bin > ls-output.txt\r\n",
      "  211  ls\r\n",
      "  212  echo $?\r\n",
      "  213  ls -l /usr/bin > ls-output.txt\r\n"
     ]
    }
   ],
   "source": [
    "history | head -n 5"
   ]
  },
  {
   "cell_type": "code",
   "execution_count": 85,
   "metadata": {
    "collapsed": false,
    "slideshow": {
     "slide_type": "fragment"
    }
   },
   "outputs": [
    {
     "name": "stdout",
     "output_type": "stream",
     "text": [
      "  648  echo \"$USER $((2+2)) $(cal)\"\r\n",
      "  657  echo $(cal)\r\n",
      "  658  echo \"$(cal)\"\r\n",
      "  716  history | grep cal\r\n"
     ]
    }
   ],
   "source": [
    "history | grep cal"
   ]
  },
  {
   "cell_type": "code",
   "execution_count": 87,
   "metadata": {
    "collapsed": false,
    "slideshow": {
     "slide_type": "fragment"
    }
   },
   "outputs": [
    {
     "name": "stdout",
     "output_type": "stream",
     "text": [
      "echo $(cal)\r\n",
      "October 2016 Su Mo Tu We Th Fr Sa 1 2 3 4 5 6 7 8 9 10 11 12 13 14 15 16 17 18 19 20 21 22 23 24 25 _\b2_\b6 27 28 29 30 31\r\n"
     ]
    }
   ],
   "source": [
    "!657"
   ]
  },
  {
   "cell_type": "markdown",
   "metadata": {
    "slideshow": {
     "slide_type": "slide"
    }
   },
   "source": [
    "* CTRL-R wyszukiwanie inkrementacyjne w historii w tyl\n",
    "* ALT-P wyszukiwanie w historii w tyl\n",
    "* ALT-N wyszukiwanie w historii w przod\n",
    "* !numer powtorz komende o numerze numer z historii\n",
    "* !string powtorz ostatnia komende zaczynajaca sie od string\n",
    "* !?string powtorz ostatnia komende zawierajaca string"
   ]
  }
 ],
 "metadata": {
  "celltoolbar": "Slideshow",
  "kernelspec": {
   "display_name": "Bash",
   "language": "bash",
   "name": "bash"
  },
  "language_info": {
   "codemirror_mode": "shell",
   "file_extension": ".sh",
   "mimetype": "text/x-sh",
   "name": "bash"
  }
 },
 "nbformat": 4,
 "nbformat_minor": 1
}
