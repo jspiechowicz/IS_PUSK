{
 "cells": [
  {
   "cell_type": "markdown",
   "metadata": {
    "slideshow": {
     "slide_type": "slide"
    }
   },
   "source": [
    "<img src=\"https://upload.wikimedia.org/wikipedia/commons/thumb/3/35/Tux.svg/280px-Tux.svg.png\" width=20% align='right'>\n",
    "\n",
    "# Podstawy uzytkowania\n",
    "# systemow komputerowych\n",
    "\n",
    "Jakub Spiechowicz\n",
    "\n",
    "Laboratorium 04, Uprawnienia i procesy"
   ]
  },
  {
   "cell_type": "markdown",
   "metadata": {
    "slideshow": {
     "slide_type": "slide"
    }
   },
   "source": [
    "# Multiuser"
   ]
  },
  {
   "cell_type": "code",
   "execution_count": 1,
   "metadata": {
    "collapsed": false,
    "slideshow": {
     "slide_type": "fragment"
    }
   },
   "outputs": [
    {
     "name": "stdout",
     "output_type": "stream",
     "text": [
      "/etc/shadow: regular file, no read permission\r\n"
     ]
    }
   ],
   "source": [
    "file /etc/shadow"
   ]
  },
  {
   "cell_type": "markdown",
   "metadata": {
    "slideshow": {
     "slide_type": "fragment"
    }
   },
   "source": [
    "* user, group"
   ]
  },
  {
   "cell_type": "code",
   "execution_count": 3,
   "metadata": {
    "collapsed": false,
    "slideshow": {
     "slide_type": "fragment"
    }
   },
   "outputs": [
    {
     "name": "stdout",
     "output_type": "stream",
     "text": [
      "uid=2197(jakub.spiechowicz) gid=2101(staff) groups=2101(staff)\r\n"
     ]
    }
   ],
   "source": [
    "id"
   ]
  },
  {
   "cell_type": "markdown",
   "metadata": {
    "slideshow": {
     "slide_type": "fragment"
    }
   },
   "source": [
    "* /etc/passwd, /etc/group"
   ]
  },
  {
   "cell_type": "code",
   "execution_count": 1,
   "metadata": {
    "collapsed": false,
    "slideshow": {
     "slide_type": "slide"
    }
   },
   "outputs": [
    {
     "name": "stdout",
     "output_type": "stream",
     "text": [
      "-rw-r--r-- 1 jakub.spiechowicz staff 0 Nov  2 13:56 foo.txt\r\n"
     ]
    }
   ],
   "source": [
    "> foo.txt\n",
    "ls -l foo.txt\n",
    "rm foo.txt"
   ]
  },
  {
   "cell_type": "markdown",
   "metadata": {
    "slideshow": {
     "slide_type": "fragment"
    }
   },
   "source": [
    "* typ pliku\n",
    "  * \\- plik regularny\n",
    "  * d katalog\n",
    "  * l dowiazanie symboliczne\n",
    "  * c plik specjalny (urzadzenia strumieniowe, np. terminal, modem ...)\n",
    "  * b plik specjalny (urzadzenia blokowe, np. dysk, CD-ROM ...)"
   ]
  },
  {
   "cell_type": "markdown",
   "metadata": {
    "slideshow": {
     "slide_type": "slide"
    }
   },
   "source": [
    "* uprawnienia plikow\n",
    "  * r czytanie\n",
    "  * w edycja zawartosci\n",
    "  * x wykonywanie (np. skrypty)\n",
    "* uprawnienia katalogow\n",
    "  * r listowanie zawartosci (wymaga +x)\n",
    "  * w tworzenie, zmiana nazwy i usuwanie zawartosci (wymaga +x)\n",
    "  * x umozliwia przegladanie katalogu, np. *cd* katalog"
   ]
  },
  {
   "cell_type": "markdown",
   "metadata": {
    "slideshow": {
     "slide_type": "slide"
    }
   },
   "source": [
    "Przyklady\n",
    "\n",
    "* -rwx------ pelne uprawnienia tylko dla wlasciciela pliku\n",
    "* -rw------- czytanie i pisanie do pliku tylko dla jego wlasciciela\n",
    "* -rw-r--r-- j.w., ale czlonkowie grupy wlasciciela pliku i inni uzytkownicy moga go czytac\n",
    "* -rw-rw---- czytanie i zapis dla wlasciciela pliku i czlonkow grupy wlasciciela\n",
    "* lrwxrwxrwx link symboliczny\n",
    "* drwxrwx--- wlasciciel katalogu i czlonkowie grupy wlasciciela moga wejsc do katalogu oraz tworzyc, usuwac i zmieniac nazwy plikow w katalogu\n",
    "* drwxr-x--- j.w., ale czlonkowie grupy wlasciciela nie moga tworzyc, usuwac oraz zmieniac nazwy plikow"
   ]
  },
  {
   "cell_type": "markdown",
   "metadata": {
    "slideshow": {
     "slide_type": "slide"
    }
   },
   "source": [
    "# Zmiana uprawnien\n",
    "\n",
    "*change mode* (tylko dla wlascicieli albo administratow)\n",
    "\n",
    "*chmod* uprawnienia plik/katalog\n",
    "\n",
    "Notacja\n",
    "\n",
    "* u wlasciciel\n",
    "* g grupa wlasciciela\n",
    "* o inni uzytkownicy\n",
    "* a wszyscy uzytkownicy (u,g,o) (domyslnie)"
   ]
  },
  {
   "cell_type": "markdown",
   "metadata": {
    "slideshow": {
     "slide_type": "slide"
    }
   },
   "source": [
    "Przyklady\n",
    "\n",
    "* u+x dodaj uprawnienia wykonywania dla wlasciciela\n",
    "* u-x usun uprawnenia wykonywania dla wlasciciela\n",
    "* +x dodaj uprawnienia wykonywania dla wlasciciela, grupy i innych uzytkownikow (a+x)\n",
    "* o-rw usun uprawnienia pisania i czytania dla wszystkich z wyjatkiem wlasciciela i grupy wlasciciela\n",
    "* go=rw ustaw dla wszystkich z wyjatkiem wlasciciela uprawnienia czytania i pisania\n",
    "* u+x, go=rw dodaj uprawnienie wykonywania dla wlasciciela oraz ustaw dla wszystkich innych osob uprawnienia czytania i pisania"
   ]
  },
  {
   "cell_type": "markdown",
   "metadata": {
    "slideshow": {
     "slide_type": "slide"
    }
   },
   "source": [
    "# Zmiana tozsamosci\n",
    "\n",
    "* su - nazwa_uzytkownika zmiana tozsamosci uzytkownika na nazwa_uzytkownika\n",
    "* su - zmiana tozsamosci uzytkownika na roota\n",
    "* exit zakonczenie sesji roota\n",
    "* su -c komenda wykonaj komenda z uprawnieniami roota\n",
    "\n",
    "## su vs sudo\n",
    "\n",
    "* sudo -l lista komend dostepnych dla uzytkownika w trybie sudo"
   ]
  },
  {
   "cell_type": "markdown",
   "metadata": {
    "collapsed": true,
    "slideshow": {
     "slide_type": "slide"
    }
   },
   "source": [
    "# Zmiana wlasciciela i grupy\n",
    "\n",
    "*change owner*\n",
    "\n",
    "*chown* wlasciciel:grupa plik\n",
    "\n",
    "Przyklady\n",
    "\n",
    "* bob plik - zmienia dotychczasowego wlasciciela plik na boba\n",
    "* bob:users plik - j.w., ale zmienia takze grupe wlasciciela na users\n",
    "* :admins zmienia grupe wlasciciela na admins. Wlasciciel nie ulega zmianie"
   ]
  },
  {
   "cell_type": "markdown",
   "metadata": {
    "slideshow": {
     "slide_type": "slide"
    }
   },
   "source": [
    "# Zmiana hasla\n",
    "\n",
    "*password*\n",
    "\n",
    "*passwd* uzytkownik zmiana hasla dla uzytkownika"
   ]
  },
  {
   "cell_type": "markdown",
   "metadata": {
    "slideshow": {
     "slide_type": "slide"
    }
   },
   "source": [
    "# Multitasking\n",
    "\n",
    "* Procesy\n",
    " * Boot -> init -> /etc (init scripts, daemon programs)\n",
    " * Proces rodzic, proces potomny\n",
    " * process id (PID), np. init PID=1"
   ]
  },
  {
   "cell_type": "markdown",
   "metadata": {
    "slideshow": {
     "slide_type": "slide"
    }
   },
   "source": [
    "Lista procesow\n",
    "\n",
    "*processes*\n",
    "\n",
    "*ps*"
   ]
  },
  {
   "cell_type": "code",
   "execution_count": 3,
   "metadata": {
    "collapsed": false,
    "slideshow": {
     "slide_type": "fragment"
    }
   },
   "outputs": [
    {
     "name": "stdout",
     "output_type": "stream",
     "text": [
      "   PID TTY          TIME CMD\r\n",
      "101139 pts/19   00:00:00 bash\r\n",
      "110030 pts/19   00:00:00 ps\r\n"
     ]
    }
   ],
   "source": [
    "ps"
   ]
  },
  {
   "cell_type": "markdown",
   "metadata": {
    "slideshow": {
     "slide_type": "fragment"
    }
   },
   "source": [
    "Output\n",
    "\n",
    "* PID id procesu\n",
    "* TTY terminal kontrolujacy procesy\n",
    "* TIME czas procesora konsumowany przez proces\n",
    "* CMD nazwa programu"
   ]
  },
  {
   "cell_type": "code",
   "execution_count": 7,
   "metadata": {
    "collapsed": false,
    "slideshow": {
     "slide_type": "slide"
    }
   },
   "outputs": [
    {
     "name": "stdout",
     "output_type": "stream",
     "text": [
      "   PID TTY      STAT   TIME COMMAND\r\n",
      " 99712 ?        Ssl    0:02 /opt/conda/bin/python /opt/conda/bin/jupyterhub-sing\r\n",
      "101130 ?        Ssl    0:00 /opt/conda/bin/python3 -m bash_kernel -f /home/users\r\n",
      "101139 pts/19   Ss     0:00 /bin/bash --rcfile /opt/conda/lib/python3.5/site-pac\r\n",
      "108096 ?        Ss     0:00 /lib/systemd/systemd --user\r\n",
      "108105 ?        S      0:00 (sd-pam)\r\n",
      "108134 ?        S      0:00 mosh-server new -s -c 256 -l LANG=en_US.UTF-8\r\n",
      "108135 pts/15   Ss+    0:00 -bash\r\n",
      "110906 pts/19   R+     0:00 ps x\r\n"
     ]
    }
   ],
   "source": [
    "ps x"
   ]
  },
  {
   "cell_type": "markdown",
   "metadata": {
    "slideshow": {
     "slide_type": "fragment"
    }
   },
   "source": [
    "dodatkowo STAT, aktualny stan procesu "
   ]
  },
  {
   "cell_type": "markdown",
   "metadata": {
    "slideshow": {
     "slide_type": "slide"
    }
   },
   "source": [
    "Stany procesow\n",
    "\n",
    "* R uruchomiony\n",
    "* S uspiony\n",
    "* T zatrzymany\n",
    "* Z zombie\n",
    "* < proces o wysokim priorytecie\n",
    "* N proces o niskim priorytecie"
   ]
  },
  {
   "cell_type": "code",
   "execution_count": 20,
   "metadata": {
    "collapsed": false,
    "slideshow": {
     "slide_type": "fragment"
    }
   },
   "outputs": [
    {
     "name": "stdout",
     "output_type": "stream",
     "text": [
      "USER        PID %CPU %MEM    VSZ   RSS TTY      STAT START   TIME COMMAND\r\n",
      "root          1  0.0  0.0  37700  4204 ?        Ss   Oct03   0:23 /sbin/init\r\n",
      "root        163  0.0  0.0  64048 25556 ?        Ss   Oct03   0:28 /lib/systemd/systemd-journald\r\n",
      "marcin.+    329  0.0  0.0  10996   312 ?        S    Oct11   0:00 mpiexec -n 3 /opt/conda/bin/python -m ipyparallel.engine --profile-dir /home/users/marcin.kostur/.ipython/profile_mpi --cluster-id  --log-level=20\r\n"
     ]
    }
   ],
   "source": [
    "ps aux | head -n 4"
   ]
  },
  {
   "cell_type": "markdown",
   "metadata": {
    "slideshow": {
     "slide_type": "slide"
    }
   },
   "source": [
    "* USER nazwa wlasciciela procesu\n",
    "* %CPU procentowe uzycie procesora\n",
    "* %MEM uzycie pamieci\n",
    "* VSZ rozmiar pamieci wirtualnej (swap)\n",
    "* RSS rozmiar pamieci fizycznej (ram, w kB) uzywanej przez proces\n",
    "* START czas startu procesu"
   ]
  },
  {
   "cell_type": "markdown",
   "metadata": {
    "slideshow": {
     "slide_type": "fragment"
    }
   },
   "source": [
    "*top* program do dynamicznego wyswietlania procesow\n",
    " * h pomoc\n",
    " * q wyjscie"
   ]
  },
  {
   "cell_type": "markdown",
   "metadata": {
    "slideshow": {
     "slide_type": "slide"
    }
   },
   "source": [
    "# Kontrola procesow\n",
    "\n",
    "* CTRL+C zakonczenie procesu na pierwszym planie\n",
    "* nazwa_programu& uruchamianie programu w tle\n",
    "* *jobs*, *fg* %numer_joba przywrocenie programu na pierwszy plan, analogicznie *bg*\n",
    "* CTRL+Z zatrzymanie (pausa) procesu na pierwszym planie\n",
    "\n",
    "Uruchamianie programow z terminala\n",
    "* debugowanie\n",
    "* commnand-line options"
   ]
  },
  {
   "cell_type": "markdown",
   "metadata": {
    "slideshow": {
     "slide_type": "slide"
    }
   },
   "source": [
    "# Transmisja sygnalow\n",
    "\n",
    "*kill* -sygnal *PID* (numer joba)\n",
    "\n",
    "* 1 HUP restart\n",
    "* 2 INT przerwanie\n",
    "* 9 KILL zabicie\n",
    "* 15 TERM zakonczenie (default)\n",
    "* 18 CONT wznowienie\n",
    "* 19 STOP zatrzymanie\n",
    "\n",
    "inne zob. *kill* -l\n",
    "\n",
    "rowniez *killall* -sygnal nazwa"
   ]
  }
 ],
 "metadata": {
  "celltoolbar": "Slideshow",
  "kernelspec": {
   "display_name": "Bash",
   "language": "bash",
   "name": "bash"
  },
  "language_info": {
   "codemirror_mode": "shell",
   "file_extension": ".sh",
   "mimetype": "text/x-sh",
   "name": "bash"
  }
 },
 "nbformat": 4,
 "nbformat_minor": 1
}
