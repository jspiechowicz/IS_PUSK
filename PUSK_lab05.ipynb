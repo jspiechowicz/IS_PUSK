{
 "cells": [
  {
   "cell_type": "markdown",
   "metadata": {
    "slideshow": {
     "slide_type": "slide"
    }
   },
   "source": [
    "<img src=\"https://upload.wikimedia.org/wikipedia/commons/thumb/3/35/Tux.svg/280px-Tux.svg.png\" width=20% align='right'>\n",
    "\n",
    "# Podstawy uzytkowania\n",
    "# systemow komputerowych\n",
    "\n",
    "Jakub Spiechowicz\n",
    "\n",
    "Laboratorium 05, Srodowisko uzytkownika"
   ]
  },
  {
   "cell_type": "markdown",
   "metadata": {
    "slideshow": {
     "slide_type": "slide"
    }
   },
   "source": [
    "# Srodowisko uzytkownika\n",
    "\n",
    "Zawiera dane okreslajace konfiguracje sesji powloki.\n",
    "\n",
    "* Zmienne powloki\n",
    "* Zmienne srodowiskowe\n",
    "* Aliasy\n",
    "* Funkcje powloki"
   ]
  },
  {
   "cell_type": "markdown",
   "metadata": {
    "slideshow": {
     "slide_type": "slide"
    }
   },
   "source": [
    "# Zmienne srodowiskowe (predefiniowane)"
   ]
  },
  {
   "cell_type": "code",
   "execution_count": 3,
   "metadata": {
    "collapsed": false,
    "slideshow": {
     "slide_type": "fragment"
    }
   },
   "outputs": [
    {
     "name": "stdout",
     "output_type": "stream",
     "text": [
      "SHELL=/bin/bash\r\n",
      "USER=jakub.spiechowicz\r\n",
      "JPY_PARENT_PID=8040\r\n",
      "PAGER=cat\r\n",
      "PATH=/opt/conda/bin:/opt/conda/bin:/opt/conda/bin:/usr/local/sbin:/usr/local/bin:/usr/sbin:/usr/bin:/sbin:/bin\r\n",
      "PWD=/home/users/jakub.spiechowicz\r\n",
      "LANG=C\r\n",
      "PS1=[PEXP\\[\\]ECT_PROMPT>\r\n",
      "SHLVL=1\r\n",
      "HOME=/home/users/jakub.spiechowicz\r\n",
      "_=/usr/bin/printenv\r\n"
     ]
    }
   ],
   "source": [
    "printenv"
   ]
  },
  {
   "cell_type": "code",
   "execution_count": 2,
   "metadata": {
    "collapsed": false,
    "slideshow": {
     "slide_type": "fragment"
    }
   },
   "outputs": [
    {
     "name": "stdout",
     "output_type": "stream",
     "text": [
      "jakub.spiechowicz\r\n"
     ]
    }
   ],
   "source": [
    "printenv USER"
   ]
  },
  {
   "cell_type": "markdown",
   "metadata": {
    "slideshow": {
     "slide_type": "slide"
    }
   },
   "source": [
    "# Zmienne"
   ]
  },
  {
   "cell_type": "code",
   "execution_count": 5,
   "metadata": {
    "collapsed": false,
    "slideshow": {
     "slide_type": "fragment"
    }
   },
   "outputs": [
    {
     "name": "stdout",
     "output_type": "stream",
     "text": [
      "BASH=/bin/bash\r\n",
      "BASHOPTS=checkwinsize:cmdhist:complete_fullquote:expand_aliases:extquote:force_fignore:hostcomplete:interactive_comments:progcomp:promptvars:sourcepath\r\n",
      "BASH_ALIASES=()\r\n",
      "BASH_ARGC=()\r\n",
      "BASH_ARGV=()\r\n",
      "BASH_CMDS=()\r\n",
      "BASH_LINENO=()\r\n",
      "BASH_SOURCE=()\r\n",
      "BASH_VERSINFO=([0]=\"4\" [1]=\"3\" [2]=\"46\" [3]=\"1\" [4]=\"release\" [5]=\"x86_64-pc-linux-gnu\")\r\n",
      "BASH_VERSION='4.3.46(1)-release'\r\n"
     ]
    }
   ],
   "source": [
    "set | head"
   ]
  },
  {
   "cell_type": "code",
   "execution_count": 9,
   "metadata": {
    "collapsed": false,
    "slideshow": {
     "slide_type": "fragment"
    }
   },
   "outputs": [
    {
     "name": "stdout",
     "output_type": "stream",
     "text": [
      "/home/users/jakub.spiechowicz\r\n",
      "/home/users/jakub.spiechowicz\r\n"
     ]
    }
   ],
   "source": [
    "printenv HOME\n",
    "echo $HOME"
   ]
  },
  {
   "cell_type": "markdown",
   "metadata": {
    "slideshow": {
     "slide_type": "slide"
    }
   },
   "source": [
    "# Aliasy"
   ]
  },
  {
   "cell_type": "code",
   "execution_count": 10,
   "metadata": {
    "collapsed": false,
    "slideshow": {
     "slide_type": "fragment"
    }
   },
   "outputs": [
    {
     "name": "stdout",
     "output_type": "stream",
     "text": []
    }
   ],
   "source": [
    "alias"
   ]
  },
  {
   "cell_type": "markdown",
   "metadata": {
    "slideshow": {
     "slide_type": "slide"
    }
   },
   "source": [
    "Wybrane zmienne srodowiskowe\n",
    "\n",
    "* DISPLAY nazwa wyswietlacza, zazwyczaj :0 tj. pierwszy generowany przez serwer X\n",
    "* EDITOR standardowy edytor tekstu\n",
    "* SHELL nazwa powloki\n",
    "* HOME sciezka do katalogu domowego\n",
    "* LANG definicja zbioru znakow\n",
    "* OLD_PWD poprzedni katalog roboczy\n",
    "* PAGER nazwa programu do przegladania wielostronnicowego outputu, zazwyczaj /usr/bin/less"
   ]
  },
  {
   "cell_type": "markdown",
   "metadata": {
    "slideshow": {
     "slide_type": "slide"
    }
   },
   "source": [
    "* PATH oddzielona dwukropkiem lista katalogow przeszukiwanych w celu znalezienia programu\n",
    "* PS1 znak zachety powloki\n",
    "* PWD aktualny katalog roboczy\n",
    "* TERM typ emulatora terminala \n",
    "* TZ strefa czasowa \n",
    "* USER nazwa uzytkownika"
   ]
  },
  {
   "cell_type": "markdown",
   "metadata": {
    "slideshow": {
     "slide_type": "slide"
    }
   },
   "source": [
    "# Konfiguracja srodowiska\n",
    "\n",
    "Dwa rodzaje sesji powloki\n",
    "\n",
    "* autoryzowana (login, haslo)\n",
    "* nieautoryzowana (GUI)\n",
    "\n",
    "Pliki konfiguracyjne dla sesji autoryzowanej\n",
    "\n",
    "* /etc/profile globalna konfiguracja dotyczaca wszystkich uzytkownikow\n",
    "* ~/.bash_profile personalna konfiguracja uzytkownika, rozszerza lub nadpisuje globalna\n",
    "  * ~/.bash_login\n",
    "  * ~/.profile"
   ]
  },
  {
   "cell_type": "markdown",
   "metadata": {
    "slideshow": {
     "slide_type": "slide"
    }
   },
   "source": [
    "Pliki konfiguracyjne dla sesji nieautoryzowanej\n",
    "\n",
    "* /etc/bash.bashrc globalna konfiguracja\n",
    "* ~/.bashrc personalna konfiguracja uzytkownika"
   ]
  },
  {
   "cell_type": "code",
   "execution_count": 24,
   "metadata": {
    "collapsed": false,
    "slideshow": {
     "slide_type": "slide"
    }
   },
   "outputs": [
    {
     "name": "stdout",
     "output_type": "stream",
     "text": []
    }
   ],
   "source": [
    "# .bash_profile\n",
    "# Get the aliases and functions\n",
    "\n",
    "if [ -f ~/.bashrc ]; then\n",
    ". ~/.bashrc\n",
    "fi\n",
    "\n",
    "# User specific environment and startup programs\n",
    "\n",
    "PATH=$PATH:$HOME/bin\n",
    "export PATH"
   ]
  },
  {
   "cell_type": "code",
   "execution_count": 22,
   "metadata": {
    "collapsed": false,
    "slideshow": {
     "slide_type": "fragment"
    }
   },
   "outputs": [
    {
     "name": "stdout",
     "output_type": "stream",
     "text": [
      "to jest jakis\r\n"
     ]
    }
   ],
   "source": [
    "foo=\"to jest jakis\"\n",
    "echo $foo"
   ]
  },
  {
   "cell_type": "code",
   "execution_count": 23,
   "metadata": {
    "collapsed": false,
    "slideshow": {
     "slide_type": "fragment"
    }
   },
   "outputs": [
    {
     "name": "stdout",
     "output_type": "stream",
     "text": [
      "to jest jakis tekst.\r\n"
     ]
    }
   ],
   "source": [
    "foo=$foo\" tekst.\"\n",
    "echo $foo"
   ]
  },
  {
   "cell_type": "markdown",
   "metadata": {
    "slideshow": {
     "slide_type": "fragment"
    }
   },
   "source": [
    "export nazwa udostepnij zmienna nazwa procesom potomnym shella"
   ]
  },
  {
   "cell_type": "code",
   "execution_count": 25,
   "metadata": {
    "collapsed": false,
    "slideshow": {
     "slide_type": "slide"
    }
   },
   "outputs": [
    {
     "name": "stdout",
     "output_type": "stream",
     "text": []
    }
   ],
   "source": [
    "export HISTCONTROL=ignoredups\n",
    "export HISTSIZE=1000\n",
    "alias ll='ls -l --color=auto'"
   ]
  },
  {
   "cell_type": "markdown",
   "metadata": {},
   "source": [
    "Modyfikacja konfiguracji srodowiska wymaga restartu terminala lub jej ponownego wczytania"
   ]
  },
  {
   "cell_type": "markdown",
   "metadata": {},
   "source": [
    "source .bashrc"
   ]
  }
 ],
 "metadata": {
  "celltoolbar": "Slideshow",
  "kernelspec": {
   "display_name": "Bash",
   "language": "bash",
   "name": "bash"
  },
  "language_info": {
   "codemirror_mode": "shell",
   "file_extension": ".sh",
   "mimetype": "text/x-sh",
   "name": "bash"
  }
 },
 "nbformat": 4,
 "nbformat_minor": 1
}
