{
 "cells": [
  {
   "cell_type": "markdown",
   "metadata": {
    "slideshow": {
     "slide_type": "slide"
    }
   },
   "source": [
    "<img src=\"https://upload.wikimedia.org/wikipedia/commons/thumb/3/35/Tux.svg/280px-Tux.svg.png\" width=20% align='right'>\n",
    "\n",
    "# Podstawy uzytkowania\n",
    "# systemow komputerowych\n",
    "\n",
    "Jakub Spiechowicz\n",
    "\n",
    "Laboratorium 06, Wstep do vim"
   ]
  },
  {
   "cell_type": "markdown",
   "metadata": {
    "slideshow": {
     "slide_type": "slide"
    }
   },
   "source": [
    "# vi, vim (vi iMproved)\n",
    "\n",
    "Dlaczego warto uczyc sie vim'a?\n",
    "\n",
    "* Zawsze dostepny, wymagany przez standard POSIX\n",
    "* Lekki, szybki, o poteznych mozliwosciach edycji\n",
    "\n",
    "alternatywa dla leniwych, *nano*"
   ]
  },
  {
   "cell_type": "markdown",
   "metadata": {
    "slideshow": {
     "slide_type": "slide"
    }
   },
   "source": [
    "# Uruchamianie i zamykanie\n",
    "\n",
    "*vim*\n",
    "\n",
    "* :q zamkniecie edytora\n",
    "* :q! j.w., ale ignoruje ewentualne watpliwosci"
   ]
  },
  {
   "cell_type": "markdown",
   "metadata": {
    "slideshow": {
     "slide_type": "slide"
    }
   },
   "source": [
    "# Tryby pracy\n",
    "\n",
    "vim = modal editor\n",
    "\n",
    "* tryb komend (default)\n",
    "* tryb edycji\n",
    "    * i uruchamianie\n",
    "    * ESC zamykanie\n",
    "\n",
    "Zapisywanie\n",
    "\n",
    "* :w (w trybie komend)\n",
    "* :wq zapisz i zamknij plik"
   ]
  },
  {
   "cell_type": "markdown",
   "metadata": {
    "slideshow": {
     "slide_type": "slide"
    }
   },
   "source": [
    "# Podstawowa nawigacja\n",
    "\n",
    "* l w prawo o jeden znak ($\\rightarrow$)\n",
    "* h w lewo ($\\leftarrow$)\n",
    "* j w dol ($\\downarrow$)\n",
    "* k w gore ($\\uparrow$)\n",
    "* 0 poczatek linii\n",
    "* $ koniec linii\n",
    "* W poczatek nastepnego slowa\n",
    "* B poczatek poprzedniego slowa\n",
    "* numer_liniiG skok do linii o podanym numerze\n",
    "* G ostatnia linia pliku\n",
    "* gg pierwsza linia pliku"
   ]
  },
  {
   "cell_type": "markdown",
   "metadata": {
    "slideshow": {
     "slide_type": "slide"
    }
   },
   "source": [
    "Uwaga, maja sens rowniez komendy typu *5j*"
   ]
  },
  {
   "cell_type": "markdown",
   "metadata": {
    "slideshow": {
     "slide_type": "slide"
    }
   },
   "source": [
    "# Podstawy edycji\n",
    "\n",
    "* U cofnij zmiany\n",
    "\n",
    "Dopisywanie na koncu linii\n",
    "\n",
    "* a kursor w prawo, tryb edycji\n",
    "* A koniec linii, tryb edycji\n",
    "\n",
    "Otwieranie linii\n",
    "\n",
    "* o otworz linie ponizej aktualnej, tryb edycji\n",
    "* O otworz linie powyzej aktualnej, tryb edycji"
   ]
  },
  {
   "cell_type": "markdown",
   "metadata": {
    "slideshow": {
     "slide_type": "slide"
    }
   },
   "source": [
    "Usuwanie\n",
    "\n",
    "* x znak\n",
    "* dd linia\n",
    "* dW od kursora do nastepnego slowa\n",
    "* d$ od kursora do konca linii\n",
    "* d0 od kursora do poczatku linii\n",
    "* dG od kursora do konca pliku\n",
    "* d20G od kursora do 20 linii pliku"
   ]
  },
  {
   "cell_type": "markdown",
   "metadata": {
    "slideshow": {
     "slide_type": "slide"
    }
   },
   "source": [
    "Wycinanie, kopiowanie, wklejanie\n",
    "\n",
    "* d usuwanie = wycinanie do buffera\n",
    "* p wklej za kursorem\n",
    "* P wklej przed kursorem"
   ]
  },
  {
   "cell_type": "markdown",
   "metadata": {
    "slideshow": {
     "slide_type": "slide"
    }
   },
   "source": [
    "Kopiowanie\n",
    "\n",
    "* yy linia\n",
    "* yW od kursora do nastepnego slowa\n",
    "* y$ od kursora do konca linii\n",
    "* y0 od kursora do poczatku linii\n",
    "* yG od kursora do konca pliku\n",
    "* y20G od kursora do 20 linii pliku"
   ]
  },
  {
   "cell_type": "markdown",
   "metadata": {
    "slideshow": {
     "slide_type": "slide"
    }
   },
   "source": [
    "# Wyszukiwanie\n",
    "\n",
    "* /fraza wyszukaj fraza w pliku (rowniez wyrazenia regularne)\n",
    "* n powtorz wyszukiwanie\n",
    "* :%s/qwerty/asdf/g zastap qwerty przez asdf w calym pliku\n",
    "* :%s/qwerty/asdf/gc j.w., ale zapytaj o potwierdzenie\n",
    "  * y potwierdz\n",
    "  * n pomin\n",
    "  * ESC przerwij"
   ]
  },
  {
   "cell_type": "markdown",
   "metadata": {
    "slideshow": {
     "slide_type": "slide"
    }
   },
   "source": [
    "# Edycja wielu plikow\n",
    "\n",
    "*vim* plik1 plik2 plik3 \n",
    "\n",
    "* n nastepny plik\n",
    "* N poprzedni plik\n",
    "\n",
    "ew. :buffers, :buffer 1, :buffer 2, etc.\n",
    "\n",
    ":e nazwa_pliku otworz plik nazwa_pliku do edycji"
   ]
  }
 ],
 "metadata": {
  "celltoolbar": "Slideshow",
  "kernelspec": {
   "display_name": "Bash",
   "language": "bash",
   "name": "bash"
  },
  "language_info": {
   "codemirror_mode": "shell",
   "file_extension": ".sh",
   "mimetype": "text/x-sh",
   "name": "bash"
  }
 },
 "nbformat": 4,
 "nbformat_minor": 1
}
