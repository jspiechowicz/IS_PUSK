{
 "cells": [
  {
   "cell_type": "markdown",
   "metadata": {
    "slideshow": {
     "slide_type": "slide"
    }
   },
   "source": [
    "<img src=\"https://upload.wikimedia.org/wikipedia/commons/thumb/3/35/Tux.svg/280px-Tux.svg.png\" width=20% align='right'>\n",
    "\n",
    "# Podstawy uzytkowania\n",
    "# systemow komputerowych\n",
    "\n",
    "Jakub Spiechowicz\n",
    "\n",
    "Laboratorium 07, Zarzadzanie pakietami i siecia"
   ]
  },
  {
   "cell_type": "markdown",
   "metadata": {
    "slideshow": {
     "slide_type": "slide"
    }
   },
   "source": [
    "## Dystrybucje Linuxa\n",
    "\n",
    "Najwazniejsze aspekty\n",
    "\n",
    "* System pakietow\n",
    "* Spolecznosc uzytkownikow\n",
    "\n",
    "Warianty wg popularnosci: Mint, Debian, Ubuntu, openSUSE; zob. http://distrowatch.com"
   ]
  },
  {
   "cell_type": "markdown",
   "metadata": {
    "slideshow": {
     "slide_type": "slide"
    }
   },
   "source": [
    "## Instalacja i konserwacja oprogramowania\n",
    "\n",
    "* Zarzadzanie pakietami\n",
    "* Kod zrodlowy"
   ]
  },
  {
   "cell_type": "markdown",
   "metadata": {
    "slideshow": {
     "slide_type": "slide"
    }
   },
   "source": [
    "## System pakietow\n",
    "\n",
    "* Debian (.deb); Debian, Ubuntu, Mint etc.\n",
    "* Red Hat (.rpm); Red Hat Enterprise Linux, Fedora, openSUSE etc.\n",
    "\n",
    "Oprogramowanie dystrybuowane w internecie w formie pakietow\n",
    "\n",
    "* programy, dane, pliki pomocnicze\n",
    "* metadane (opis, dokumentacja etc.)\n",
    "* pre i post instalacyjne skrypty\n",
    "\n",
    "Pakiet <=> opiekun pakietu"
   ]
  },
  {
   "cell_type": "markdown",
   "metadata": {
    "slideshow": {
     "slide_type": "slide"
    }
   },
   "source": [
    "Repozytoria - miejsce uporzadkowanego przechowywania pakietow przeznaczonych do udostepnienia\n",
    "\n",
    "Cykl zycia oprogramowania\n",
    "* repozytorium testowe\n",
    "* stabilne\n",
    "* rozwojowe\n",
    "* firmowe (third-party) np. patenty, Digital Rights Management (DRM)\n",
    "\n",
    "Zaleznosci, biblioteki wspoldzielone, rozwiazywanie zaleznosci"
   ]
  },
  {
   "cell_type": "markdown",
   "metadata": {
    "slideshow": {
     "slide_type": "slide"
    }
   },
   "source": [
    "## Zarzadzanie pakietami\n",
    "\n",
    "* Niskopoziomowe, *dpkg*\n",
    "* Wysokopoziomowe, *apt-get*, *aptitude*\n",
    "\n",
    "Aktualizacja repozytoriow\n",
    "\n",
    "*apt-get* update\n",
    "\n",
    "Wyszukiwanie pakietow w repozytorium\n",
    "\n",
    "*apt-cache* search nazwa_pakietu\n",
    "\n",
    "Instalowanie pakietow z repozytorium\n",
    "\n",
    "*apt-get* install nazwa_pakietu"
   ]
  },
  {
   "cell_type": "markdown",
   "metadata": {
    "slideshow": {
     "slide_type": "slide"
    }
   },
   "source": [
    "Instalowanie pakietow z pliku .deb\n",
    "\n",
    "*dpkg* --install nazwa_pliku.deb\n",
    "\n",
    "Usuwanie pakietow\n",
    "\n",
    "*apt-get* remove nazwa_pakietu\n",
    "\n",
    "Aktualizacja pakietow z repozytorium\n",
    "\n",
    "*apt-get* upgrade\n",
    "\n",
    "Aktualizacja pakietow z pliku .deb\n",
    "\n",
    "*dpkg* --install nazwa_pliku.deb"
   ]
  },
  {
   "cell_type": "markdown",
   "metadata": {
    "slideshow": {
     "slide_type": "slide"
    }
   },
   "source": [
    "Lista zainstalowanych pakietow\n",
    "\n",
    "*dpkg* --list\n",
    "\n",
    "Sprawdzenie statusu pakietu\n",
    "\n",
    "*dpkg* --status nazwa_pakietu\n",
    "\n",
    "Wyswietlenie informacji o pakiecie\n",
    "\n",
    "*apt-cache* show nazwa_pakietu"
   ]
  },
  {
   "cell_type": "markdown",
   "metadata": {
    "slideshow": {
     "slide_type": "slide"
    }
   },
   "source": [
    "## Siec\n",
    "\n",
    "Podstawowe koncepcje\n",
    "\n",
    "* IP (Internet Protocol) adres, (niejednoznaczny) identyfikator interfejsu sieciowego, np. 155.158.106.144\n",
    "* Nazwa hosta, nazwa serwera\n",
    "* Domena, tekstowy odpowiednik adresu IP\n",
    "* URI (Uniform Resource Identifier), lancuch znakow umozliwiajacy identyfikacje zasobow sieciowych\n",
    "  * URL (Uniform Resource Locator), adres zasobu internetowego\n",
    "  * URN (Uniform Resource Name), nazwa zasobu internetowego"
   ]
  },
  {
   "cell_type": "markdown",
   "metadata": {
    "slideshow": {
     "slide_type": "slide"
    }
   },
   "source": [
    "## Monitorowanie sieci\n",
    "\n",
    "*ping* adres_serwera, wysyla pakiet IMCP ECHO_REQUEST do serwera\n",
    "\n",
    "*traceroute* adres_serwera, sledzi trase pakietu od systemu lokalnego do podanego serwera\n",
    "\n",
    "*netstat* -ie, ustawienia interfejsow sieciowych komputera"
   ]
  },
  {
   "cell_type": "code",
   "execution_count": 1,
   "metadata": {
    "collapsed": false,
    "slideshow": {
     "slide_type": "slide"
    }
   },
   "outputs": [
    {
     "name": "stdout",
     "output_type": "stream",
     "text": [
      "Kernel Interface table\r\n",
      "eth0      Link encap:Ethernet  HWaddr 62:62:38:31:30:63  \r\n",
      "          inet addr:155.158.128.149  Bcast:155.158.128.255  Mask:255.255.255.0\r\n",
      "          inet6 addr: fe80::6062:38ff:fe31:3063/64 Scope:Link\r\n",
      "          UP BROADCAST RUNNING MULTICAST  MTU:1500  Metric:1\r\n",
      "          RX packets:187984825 errors:0 dropped:2779354 overruns:0 frame:0\r\n",
      "          TX packets:48756335 errors:0 dropped:2 overruns:0 carrier:0\r\n",
      "          collisions:0 txqueuelen:1000 \r\n",
      "          RX bytes:30030110774 (30.0 GB)  TX bytes:101209314631 (101.2 GB)\r\n",
      "\r\n",
      "lo        Link encap:Local Loopback  \r\n",
      "          inet addr:127.0.0.1  Mask:255.0.0.0\r\n",
      "          inet6 addr: ::1/128 Scope:Host\r\n",
      "          UP LOOPBACK RUNNING  MTU:65536  Metric:1\r\n",
      "          RX packets:47541035 errors:0 dropped:0 overruns:0 frame:0\r\n",
      "          TX packets:47541035 errors:0 dropped:0 overruns:0 carrier:0\r\n",
      "          collisions:0 txqueuelen:1 \r\n",
      "          RX bytes:391414458896 (391.4 GB)  TX bytes:391414458896 (391.4 GB)\r\n",
      "\r\n"
     ]
    }
   ],
   "source": [
    "netstat -ie"
   ]
  },
  {
   "cell_type": "markdown",
   "metadata": {
    "slideshow": {
     "slide_type": "slide"
    }
   },
   "source": [
    "*netstat* -r, tablica trasowania"
   ]
  },
  {
   "cell_type": "code",
   "execution_count": 5,
   "metadata": {
    "collapsed": false,
    "slideshow": {
     "slide_type": "fragment"
    }
   },
   "outputs": [
    {
     "name": "stdout",
     "output_type": "stream",
     "text": [
      "Kernel IP routing table\r\n",
      "Destination     Gateway         Genmask         Flags   MSS Window  irtt Iface\r\n",
      "default         155.158.128.1   0.0.0.0         UG        0 0          0 eth0\r\n",
      "155.158.128.0   *               255.255.255.0   U         0 0          0 eth0\r\n"
     ]
    }
   ],
   "source": [
    "netstat -r"
   ]
  },
  {
   "cell_type": "markdown",
   "metadata": {
    "slideshow": {
     "slide_type": "slide"
    }
   },
   "source": [
    "## Pobieranie plikow za posrednictwem protokolow HTTP, HTTPS oraz FTP\n",
    "\n",
    "*wget* adres_docelowy\n",
    "\n",
    "Przydatne opcje:\n",
    "\n",
    "* -c, kontynuuj pobieranie pliku, ktory czesciowo znajduje sie juz na dysku\n",
    "* -b, uruchom proces w tle\n",
    "* -m, zachowaj strukture katalogow\n",
    "* -i plik, plik wejsciowy z lista zawartosci do pobrania\n",
    "* -O plik, nazwa pliku wyjsciowego"
   ]
  },
  {
   "cell_type": "markdown",
   "metadata": {
    "slideshow": {
     "slide_type": "slide"
    }
   },
   "source": [
    "Przyklady\n",
    "\n",
    "* *wget* http://strona.pl/plik, pobranie pojedynczego pliku\n",
    "* *wget* http://strona.pl/plik -O sciagniety_plik, pobranie pliku i zapisanie go jako sciagniety_plik\n",
    "* *wget* -m -b -c http://strona.pl mirror strony"
   ]
  },
  {
   "cell_type": "markdown",
   "metadata": {
    "slideshow": {
     "slide_type": "slide"
    }
   },
   "source": [
    "# Bezpieczna komunikacja ze zdalnym hostem\n",
    "\n",
    "*ssh* (secure shell)\n",
    "\n",
    "* uwierzytelnianie zdalnego hosta\n",
    "* szyfrowanie polaczenia miedzy klientem, a serwerem\n",
    "\n",
    "openssh\n",
    "  * client\n",
    "  * server, domyslnie port 22"
   ]
  },
  {
   "cell_type": "markdown",
   "metadata": {
    "slideshow": {
     "slide_type": "slide"
    }
   },
   "source": [
    "Przyklad\n",
    "\n",
    "*ssh* nazwa_uzytkownika@nazwa_hosta\n",
    "\n",
    " * akceptacja danych uwierzytelniajacych host, ~/.ssh/known_hosts\n",
    " * haslo uzytkownika\n",
    " * szyfrowany tunel miedzy klientem, a serwerem, a la VPN (Virtual Private Network) "
   ]
  },
  {
   "cell_type": "markdown",
   "metadata": {
    "slideshow": {
     "slide_type": "slide"
    }
   },
   "source": [
    "Wykonywanie komendy na zdalnym hoscie\n",
    "\n",
    "*ssh* nazwa_hosta komenda\n",
    "\n",
    "Przyklady\n",
    "\n",
    "* ssh zdalny-system free\n",
    "* ssh zdalny-system 'ls *' > dirlist.txt\n",
    "* ssh zdalny system 'ls * > dirlist.txt'\n",
    "\n",
    "Tunelowanie z ssh\n",
    "\n",
    "* ssh -X nazwa_hosta\n",
    "* ssh -Y nazwa_hosta"
   ]
  },
  {
   "cell_type": "markdown",
   "metadata": {
    "slideshow": {
     "slide_type": "slide"
    }
   },
   "source": [
    "Bezpieczne przesylanie plikow\n",
    "\n",
    "*scp* (secure copy)\n",
    "\n",
    "*scp* nazwa_uzytkownika@nazwa_hosta:sciezka sciezka_docelowa, np.\n",
    "\n",
    "*scp* zdalny_system:~/plik.txt .\n",
    "\n",
    "Przydatne opcje\n",
    "\n",
    "* -C, wlacza kompresje\n",
    "* -r, kopiowanie rekursywne\n",
    "* -v, tryb gadatliwy"
   ]
  }
 ],
 "metadata": {
  "celltoolbar": "Slideshow",
  "kernelspec": {
   "display_name": "Bash",
   "language": "bash",
   "name": "bash"
  },
  "language_info": {
   "codemirror_mode": "shell",
   "file_extension": ".sh",
   "mimetype": "text/x-sh",
   "name": "bash"
  }
 },
 "nbformat": 4,
 "nbformat_minor": 1
}
