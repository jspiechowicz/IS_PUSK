{
 "cells": [
  {
   "cell_type": "markdown",
   "metadata": {
    "slideshow": {
     "slide_type": "slide"
    }
   },
   "source": [
    "<img src=\"https://upload.wikimedia.org/wikipedia/commons/thumb/3/35/Tux.svg/280px-Tux.svg.png\" width=20% align='right'>\n",
    "\n",
    "# Podstawy uzytkowania\n",
    "# systemow komputerowych\n",
    "\n",
    "Jakub Spiechowicz\n",
    "\n",
    "Laboratorium 08, Nosniki danych, wyszukiwanie oraz kompresja i archiwizacja plikow"
   ]
  },
  {
   "cell_type": "markdown",
   "metadata": {
    "slideshow": {
     "slide_type": "slide"
    }
   },
   "source": [
    "# Filesystem Hierarchy Standard (FHS)\n",
    "\n",
    "* Jeden system plikow dla wszystkich dyskow fizycznych\n",
    "* Dyski fizyczne sa *montowane* jako folder w drzewie katalogow systemu plikow\n",
    "\n",
    "/etc/fstab tablica systemu plikow, plik konfiguracyjny zawierajacy liste nosnikow danych oraz ich punkty montowania na etapie rozruchu systemu"
   ]
  },
  {
   "cell_type": "code",
   "execution_count": 1,
   "metadata": {
    "collapsed": false,
    "slideshow": {
     "slide_type": "fragment"
    }
   },
   "outputs": [
    {
     "name": "stdout",
     "output_type": "stream",
     "text": [
      "# UNCONFIGURED FSTAB FOR BASE SYSTEM\r\n",
      "155.158.128.81:/users   /home/users     nfs     tcp,port=2049   0       0\r\n"
     ]
    }
   ],
   "source": [
    "cat /etc/fstab"
   ]
  },
  {
   "cell_type": "markdown",
   "metadata": {
    "slideshow": {
     "slide_type": "slide"
    }
   },
   "source": [
    "Pola konfiguracji fstab\n",
    "\n",
    "UUID=f2ca55d8-40f9-43c6-80e9-14aa36e915a0 / ext4 errors=remount-ro 0 1\n",
    "\n",
    "* Identyfikator UUID (Universally Unique Identifier for a Device)\n",
    "* Punkt montowania\n",
    "* Typ systemu plikow, ext3, ext4, fat32, ntfs etc.\n",
    "* Opcje, read-only, etc.\n",
    "* Liczba reprezentujaca czestosc backupow za pomoca komendy dump\n",
    "* j.w., ale dotyczy kolejnosci sprawdzania przy uzyciu programu fsck"
   ]
  },
  {
   "cell_type": "markdown",
   "metadata": {
    "slideshow": {
     "slide_type": "slide"
    }
   },
   "source": [
    "Lista zamontowanych systemow plikow wedlug wzorca\n",
    "\n",
    "*Nazwa* on *punkt_montowania* type *typ_systemu_plikow* (*opcje*)"
   ]
  },
  {
   "cell_type": "code",
   "execution_count": 6,
   "metadata": {
    "collapsed": false,
    "slideshow": {
     "slide_type": "fragment"
    }
   },
   "outputs": [
    {
     "name": "stdout",
     "output_type": "stream",
     "text": [
      "tmpfs on /run/lock type tmpfs (rw,nosuid,nodev,noexec,relatime,size=5120k)\r\n",
      "hugetlbfs on /dev/hugepages type hugetlbfs (rw,relatime)\r\n",
      "sunrpc on /run/rpc_pipefs type rpc_pipefs (rw,relatime)\r\n",
      "155.158.128.81://users on /home/users type nfs4 (rw,relatime,vers=4.0,rsize=1048576,wsize=1048576,namlen=255,hard,proto=tcp,timeo=600,retrans=2,sec=sys,clientaddr=155.158.128.149,local_lock=none,addr=155.158.128.81)\r\n",
      "tmpfs on /run/user/2204 type tmpfs (rw,nosuid,nodev,relatime,size=39602916k,mode=700,uid=2204,gid=2101)\r\n",
      "tmpfs on /run/user/2311 type tmpfs (rw,nosuid,nodev,relatime,size=39602916k,mode=700,uid=2311,gid=2100)\r\n",
      "tmpfs on /run/user/1000 type tmpfs (rw,nosuid,nodev,relatime,size=39602916k,mode=700,uid=1000,gid=27)\r\n"
     ]
    }
   ],
   "source": [
    "mount | tail -n 7"
   ]
  },
  {
   "cell_type": "markdown",
   "metadata": {
    "slideshow": {
     "slide_type": "slide"
    }
   },
   "source": [
    "# Montowanie nosnikow danych\n",
    "\n",
    "Przykladowo dla urzadzenia /dev/hda1 (pierwsza partycja urzadzenia na pierwszym kanale IDE)\n",
    "\n",
    "su -  \n",
    "umount /dev/hda1  \n",
    "mkdir /mnt/hdd  \n",
    "mount -t ntfs /dev/hda1 /mnt/hdd  \n",
    "cd /mnt/hdd  \n",
    "ls  \n",
    "cd ../  \n",
    "umount /dev/hda1  "
   ]
  },
  {
   "cell_type": "markdown",
   "metadata": {
    "slideshow": {
     "slide_type": "slide"
    }
   },
   "source": [
    "## /dev\n",
    "\n",
    "* /dev/fd\\* dyskietki\n",
    "* /dev/hd\\* dyski IDE (PATA)\n",
    "  * /dev/hda1 pierwsza partycja na dysku master IDE\n",
    "  * /dev/hdb3 trzecia partycja na dysku slave IDE\n",
    "* /dev/lp\\* drukarki\n",
    "* /dev/sd\\* dyski SCSI (PATA/SATA, flash, USB, etc.)\n",
    "  * konwencja nazw jak w przypadku IDE\n",
    "* /dev/sr\\* napedy optyczne (CD/DVD)\n",
    "\n",
    "Sa tam rowniez linki symboliczne typu /dev/cdrom, /dev/dvd, /dev/floppy etc."
   ]
  },
  {
   "cell_type": "markdown",
   "metadata": {
    "slideshow": {
     "slide_type": "slide"
    }
   },
   "source": [
    "## Tworzenie systemow plikow\n",
    "\n",
    "Na przykladzie /dev/sdb1\n",
    "\n",
    "sudo umount /dev/sdb1  \n",
    "sudo fdisk /dev/sdb\n",
    "\n",
    "Command (m for help): p\n",
    " * p print the partition table\n",
    "\n",
    "Disk /dev/sdb: 16 MB, 16006656 bytes  \n",
    "1 heads, 31 sectors/track, 1008 cylinders  \n",
    "Units = cylinders of 31 * 512 = 15872 bytes\n",
    "  \n",
    "Device Boot Start End Blocks Id System  \n",
    "/dev/sdb1 2 1008 15608+ b W95 FAT32"
   ]
  },
  {
   "cell_type": "markdown",
   "metadata": {
    "slideshow": {
     "slide_type": "slide"
    }
   },
   "source": [
    "* l list known partition types\n",
    "  * aktualny b\n",
    "  * Linux 83\n",
    "  \n",
    "Command (m for help): t\n",
    "\n",
    "* t change a partition's system id\n",
    "\n",
    "Selected partition 1  \n",
    "Hex code (type L to list codes): 83  \n",
    "Changed system type of partition 1 to 83 (Linux)\n",
    "\n",
    "Command (m for help): w\n",
    "\n",
    "* w write table to disk and exit"
   ]
  },
  {
   "cell_type": "markdown",
   "metadata": {
    "slideshow": {
     "slide_type": "slide"
    }
   },
   "source": [
    "* *make filesystem*\n",
    "\n",
    "mkfs\n",
    "\n",
    "sudo mkfs -t ext4 /dev/sdb1  \n",
    "sudo mkfs -t vfat /dev/sdb1"
   ]
  },
  {
   "cell_type": "markdown",
   "metadata": {
    "slideshow": {
     "slide_type": "slide"
    }
   },
   "source": [
    "# Testowanie i naprawa systemu plikow\n",
    "\n",
    "* *filesystem check*\n",
    "\n",
    "sudo fsck /dev/sdb1\n",
    "\n",
    "Konfiguracja fstab\n",
    "\n",
    "UUID=f2ca55d8-40f9-43c6-80e9-14aa36e915a0 / ext4 errors=remount-ro 0 1"
   ]
  },
  {
   "cell_type": "markdown",
   "metadata": {
    "slideshow": {
     "slide_type": "slide"
    }
   },
   "source": [
    "# Przenoszenie danych miedzy nosnikami\n",
    "\n",
    "* dd\n",
    "\n",
    "dd if=wejscie of=wyjscie [bs=rozmiar_bloku [count=liczba_blokow]]\n",
    "\n",
    "Przyklady \n",
    "\n",
    "* kopiowanie dyskow dd if=/dev/sdb of=/dev/sdc\n",
    "* tworzenie obrazu dysku dd if=/dev/sdb of=flash_drive.img\n",
    "* tworzenie obrazu CD dd if=/dev/cdrom of=ubuntu.iso\n",
    "* montowanie obrazu w systemie\n",
    "\n",
    "mkdir /mnt/iso_image  \n",
    "mount -t iso9660 -o loop image.iso /mnt/iso_image"
   ]
  },
  {
   "cell_type": "markdown",
   "metadata": {
    "slideshow": {
     "slide_type": "slide"
    }
   },
   "source": [
    "# Proste wyszukiwanie plikow\n",
    "\n",
    "* *locate*\n",
    "\n",
    "Wyszukiwanie w sciezkach"
   ]
  },
  {
   "cell_type": "code",
   "execution_count": 4,
   "metadata": {
    "collapsed": false,
    "slideshow": {
     "slide_type": "fragment"
    }
   },
   "outputs": [
    {
     "name": "stdout",
     "output_type": "stream",
     "text": [
      "/usr/bin/zip\r\n",
      "/usr/bin/zipcloak\r\n",
      "/usr/bin/zipdetails\r\n",
      "/usr/bin/zipgrep\r\n",
      "/usr/bin/zipinfo\r\n",
      "/usr/bin/zipnote\r\n",
      "/usr/bin/zipsplit\r\n"
     ]
    }
   ],
   "source": [
    "locate /bin/zip"
   ]
  },
  {
   "cell_type": "code",
   "execution_count": 5,
   "metadata": {
    "collapsed": false,
    "slideshow": {
     "slide_type": "slide"
    }
   },
   "outputs": [
    {
     "name": "stdout",
     "output_type": "stream",
     "text": [
      "/bin/bunzip2\r\n",
      "/bin/bzip2\r\n",
      "/bin/bzip2recover\r\n",
      "/bin/gunzip\r\n",
      "/bin/gzip\r\n",
      "/usr/bin/funzip\r\n",
      "/usr/bin/gpg-zip\r\n",
      "/usr/bin/unzip\r\n",
      "/usr/bin/unzipsfx\r\n",
      "/usr/bin/zip\r\n",
      "/usr/bin/zipcloak\r\n",
      "/usr/bin/zipdetails\r\n",
      "/usr/bin/zipgrep\r\n",
      "/usr/bin/zipinfo\r\n",
      "/usr/bin/zipnote\r\n",
      "/usr/bin/zipsplit\r\n",
      "/usr/lib/klibc/bin/gunzip\r\n",
      "/usr/lib/klibc/bin/gzip\r\n",
      "/usr/lib/sagemath/local/bin/bunzip2\r\n",
      "/usr/lib/sagemath/local/bin/bzip2\r\n",
      "/usr/lib/sagemath/local/bin/bzip2recover\r\n",
      "/usr/lib/sagemath/local/bin/sage-unzip\r\n"
     ]
    }
   ],
   "source": [
    "locate zip | grep bin"
   ]
  },
  {
   "cell_type": "markdown",
   "metadata": {
    "slideshow": {
     "slide_type": "slide"
    }
   },
   "source": [
    "## Zlozone wyszukiwanie plikow\n",
    "\n",
    "* *find*"
   ]
  },
  {
   "cell_type": "code",
   "execution_count": 17,
   "metadata": {
    "collapsed": false,
    "slideshow": {
     "slide_type": "fragment"
    }
   },
   "outputs": [
    {
     "name": "stdout",
     "output_type": "stream",
     "text": [
      "/home/users/jakub.spiechowicz/.sage/ipython-4.2.1/nbextensions\r\n",
      "/home/users/jakub.spiechowicz/.sage/R\r\n",
      "/home/users/jakub.spiechowicz/.sage/R/Makevars.user\r\n",
      "/home/users/jakub.spiechowicz/.sage/db\r\n",
      "/home/users/jakub.spiechowicz/PUSK_lab01.ipynb\r\n"
     ]
    }
   ],
   "source": [
    "find ~ | tail -n 5"
   ]
  },
  {
   "cell_type": "code",
   "execution_count": 18,
   "metadata": {
    "collapsed": false,
    "slideshow": {
     "slide_type": "fragment"
    }
   },
   "outputs": [
    {
     "name": "stdout",
     "output_type": "stream",
     "text": [
      "99\r\n"
     ]
    }
   ],
   "source": [
    "find ~ | wc -l"
   ]
  },
  {
   "cell_type": "code",
   "execution_count": 19,
   "metadata": {
    "collapsed": false,
    "slideshow": {
     "slide_type": "slide"
    }
   },
   "outputs": [
    {
     "name": "stdout",
     "output_type": "stream",
     "text": [
      "52\r\n"
     ]
    }
   ],
   "source": [
    "find ~ -type d | wc -l"
   ]
  },
  {
   "cell_type": "code",
   "execution_count": 20,
   "metadata": {
    "collapsed": false,
    "slideshow": {
     "slide_type": "fragment"
    }
   },
   "outputs": [
    {
     "name": "stdout",
     "output_type": "stream",
     "text": [
      "47\r\n"
     ]
    }
   ],
   "source": [
    "find ~ -type f | wc -l"
   ]
  },
  {
   "cell_type": "markdown",
   "metadata": {
    "slideshow": {
     "slide_type": "fragment"
    }
   },
   "source": [
    "Typy zawartosci \n",
    "\n",
    "* b urzadzenie blokowe\n",
    "* c urzadzenie strumieniowe\n",
    "* d katalog\n",
    "* f plik regularny \n",
    "* l link symboliczny"
   ]
  },
  {
   "cell_type": "code",
   "execution_count": 24,
   "metadata": {
    "collapsed": false,
    "slideshow": {
     "slide_type": "slide"
    }
   },
   "outputs": [
    {
     "name": "stdout",
     "output_type": "stream",
     "text": [
      "15\r\n"
     ]
    }
   ],
   "source": [
    "find ~ -type f -name \"*.ipynb\" -size +10k | wc -l"
   ]
  },
  {
   "cell_type": "markdown",
   "metadata": {
    "slideshow": {
     "slide_type": "fragment"
    }
   },
   "source": [
    "Rozmiar zawartosci\n",
    "\n",
    "+/- wieksze/mniejsze od\n",
    "\n",
    "* k kilobajty (1024 bajty)\n",
    "* M megabajty (1 048 576 bajtow)\n",
    "* G gigabajty (1 073 741 824 bajtow)"
   ]
  },
  {
   "cell_type": "markdown",
   "metadata": {
    "slideshow": {
     "slide_type": "slide"
    }
   },
   "source": [
    "Wybrane testy find, +/-\n",
    "\n",
    "* -mmin n, ostatnio zmodyfikowano n minut temu\n",
    "* -newer plik, nowsze niz plik\n",
    "* -mtime n, ostatnio zmodyfikowane n dni temu\n",
    "* -empty, puste pliki i katalogi\n",
    "* -user uzytkownik, pliki i katalogi nalezace do uzytkownika\n",
    "* -group grupa, pliki i katalogi nalezace do grupy\n",
    "* -nouser, -nogroup pliki i katalogi nie nalezace do zadnego uzytkownika, grupy\n",
    "* -perm uprawnienia, pliki lub katalogi z uprawnieniami"
   ]
  },
  {
   "cell_type": "code",
   "execution_count": 2,
   "metadata": {
    "collapsed": false,
    "slideshow": {
     "slide_type": "slide"
    }
   },
   "outputs": [
    {
     "name": "stdout",
     "output_type": "stream",
     "text": [
      "20\r\n"
     ]
    }
   ],
   "source": [
    "find ~ \\( -type f -and -perm u=rw,g=r,o=r \\) -and -size +10k | wc -l"
   ]
  },
  {
   "cell_type": "markdown",
   "metadata": {
    "slideshow": {
     "slide_type": "fragment"
    }
   },
   "source": [
    "wyrazenie1 -operator wyrazenie2\n",
    "\n",
    "Operatory logiczne: and (default), or, not\n",
    "\n",
    "Tabela logiczna find and/or\n",
    "\n",
    "Rezultat wyrazenia1 | operator | wyrazenie2\n",
    "------------------- | -------- | ----------  \n",
    "Prawda | -and | zawsze wyznaczane  \n",
    "Falsz | -and | nigdy wyznaczane  \n",
    "True | -or | nigdy wyznaczane  \n",
    "False | -or | zawsze wyznaczane"
   ]
  },
  {
   "cell_type": "code",
   "execution_count": 25,
   "metadata": {
    "collapsed": false,
    "slideshow": {
     "slide_type": "slide"
    }
   },
   "outputs": [
    {
     "name": "stdout",
     "output_type": "stream",
     "text": [
      "/home/users/jakub.spiechowicz/MPMK_w01_Programowanie_w_Sage.ipynb\r\n",
      "/home/users/jakub.spiechowicz/PUSK_lab03.ipynb\r\n",
      "/home/users/jakub.spiechowicz/Jupyter_intro.ipynb\r\n",
      "/home/users/jakub.spiechowicz/PUSK_lab04.ipynb\r\n",
      "/home/users/jakub.spiechowicz/.cache/matplotlib/fontList.cache\r\n"
     ]
    }
   ],
   "source": [
    "find ~ \\( -type f -and -perm u=rw,g=r,o=r \\) -and -size +10k -and -print | head -n 5"
   ]
  },
  {
   "cell_type": "markdown",
   "metadata": {
    "slideshow": {
     "slide_type": "fragment"
    }
   },
   "source": [
    "Predefiniowane czynnosci find\n",
    "\n",
    "* -delete usun pasujaca zawartosc\n",
    "* -ls wykonaj ls dla pasujacej zawartosci\n",
    "* -print wypisz sciezke pasujacej zawartosci (default)\n",
    "\n",
    "Kolejnosc ma znaczenie!"
   ]
  },
  {
   "cell_type": "markdown",
   "metadata": {
    "slideshow": {
     "slide_type": "slide"
    }
   },
   "source": [
    "Definiowane przez uzytkownika czynnosci find\n",
    "\n",
    "-exec komenda '{}' ';', np. odpowiednik -delete  \n",
    "-exec rm '{}' ';'\n",
    "\n",
    "Tryb interaktywny, -ok"
   ]
  },
  {
   "cell_type": "code",
   "execution_count": 27,
   "metadata": {
    "collapsed": false,
    "slideshow": {
     "slide_type": "slide"
    }
   },
   "outputs": [
    {
     "name": "stdout",
     "output_type": "stream",
     "text": [
      "-rw-r--r-- 1 jakub.spiechowicz staff 31663 Nov  7 12:00 /home/users/jakub.spiechowicz/PUSK_lab03.ipynb\r\n",
      "-rw-r--r-- 1 jakub.spiechowicz staff 8226 Nov 10 11:36 /home/users/jakub.spiechowicz/PUSK_lab05.ipynb\r\n",
      "-rw-r--r-- 1 jakub.spiechowicz staff 5071 Nov  9 17:28 /home/users/jakub.spiechowicz/PUSK_lab06.ipynb\r\n",
      "-rw-r--r-- 1 jakub.spiechowicz staff 11798 Nov 14 12:16 /home/users/jakub.spiechowicz/PUSK_lab04.ipynb\r\n",
      "-rw-r--r-- 1 jakub.spiechowicz staff 10110 Nov 29 17:33 /home/users/jakub.spiechowicz/PUSK_lab07.ipynb\r\n",
      "-rw-r--r-- 1 jakub.spiechowicz staff 28359 Oct 26 16:40 /home/users/jakub.spiechowicz/PUSK_lab02.ipynb\r\n",
      "-rw-r--r-- 1 jakub.spiechowicz staff 17695 Nov 30 20:09 /home/users/jakub.spiechowicz/PUSK_lab08.ipynb\r\n",
      "-rw-r--r-- 1 jakub.spiechowicz staff 15709 Oct 13 11:13 /home/users/jakub.spiechowicz/PUSK_lab01.ipynb\r\n"
     ]
    }
   ],
   "source": [
    "find ~ -type f -name 'PUSK_lab??.ipynb' -exec ls -l '{}' ';'"
   ]
  },
  {
   "cell_type": "code",
   "execution_count": 26,
   "metadata": {
    "collapsed": false,
    "slideshow": {
     "slide_type": "slide"
    }
   },
   "outputs": [
    {
     "name": "stdout",
     "output_type": "stream",
     "text": [
      "-rw-r--r-- 1 jakub.spiechowicz staff 15709 Oct 13 11:13 /home/users/jakub.spiechowicz/PUSK_lab01.ipynb\r\n",
      "-rw-r--r-- 1 jakub.spiechowicz staff 28359 Oct 26 16:40 /home/users/jakub.spiechowicz/PUSK_lab02.ipynb\r\n",
      "-rw-r--r-- 1 jakub.spiechowicz staff 31663 Nov  7 12:00 /home/users/jakub.spiechowicz/PUSK_lab03.ipynb\r\n",
      "-rw-r--r-- 1 jakub.spiechowicz staff 11798 Nov 14 12:16 /home/users/jakub.spiechowicz/PUSK_lab04.ipynb\r\n",
      "-rw-r--r-- 1 jakub.spiechowicz staff  8226 Nov 10 11:36 /home/users/jakub.spiechowicz/PUSK_lab05.ipynb\r\n",
      "-rw-r--r-- 1 jakub.spiechowicz staff  5071 Nov  9 17:28 /home/users/jakub.spiechowicz/PUSK_lab06.ipynb\r\n",
      "-rw-r--r-- 1 jakub.spiechowicz staff 10110 Nov 29 17:33 /home/users/jakub.spiechowicz/PUSK_lab07.ipynb\r\n",
      "-rw-r--r-- 1 jakub.spiechowicz staff 16419 Nov 30 20:05 /home/users/jakub.spiechowicz/PUSK_lab08.ipynb\r\n"
     ]
    }
   ],
   "source": [
    "find ~ -type f -name 'PUSK_lab??.ipynb' -exec ls -l '{}' +"
   ]
  },
  {
   "cell_type": "markdown",
   "metadata": {
    "slideshow": {
     "slide_type": "slide"
    }
   },
   "source": [
    "## Kompresja plikow\n",
    "\n",
    "Kompresja pliku = usuwanie z niego nadmiaru informacji\n",
    "\n",
    "Przyklad\n",
    "\n",
    "Czarny kwadrat o rozmiarach 100 x 100 pixeli, 24 bity = 3 bajty, 100 x 100 x 3 = 30 000 bajtow,  \n",
    "alternatywnie 30 000 x 0 => 16 \\* 1 bit = 16 bitow = 2 bajty\n",
    "\n",
    "Algorytmy kompresji\n",
    "\n",
    "* Bezstratne (png, flac)\n",
    "* Stratne (jpeg, mp3)"
   ]
  },
  {
   "cell_type": "markdown",
   "metadata": {
    "slideshow": {
     "slide_type": "slide"
    }
   },
   "source": [
    "## Gzip/bzip2\n",
    "\n",
    "gzip/bzip2 pliki\n",
    "\n",
    "gunzip/bunzip2 pliki\n",
    "\n",
    "Opcje\n",
    "\n",
    "* -r kompresja rekursywna\n",
    "* -t test integralnosci kompresji\n",
    "* -v tryb gadatliwy\n",
    "* -liczba stopien kompresji, 1 najszybsza i najmniejsza, 9 najwolniejsza i najwieksza, domyslnie 6"
   ]
  },
  {
   "cell_type": "markdown",
   "metadata": {
    "slideshow": {
     "slide_type": "slide"
    }
   },
   "source": [
    "## Archiwizacja plikow\n",
    "\n",
    "tar pliki\n",
    "\n",
    "Opcje\n",
    "\n",
    "* -c utworz archiwum z plikow\n",
    "* -x rozpakuj archiwum \n",
    "* -r dodaj plik na koncu archiwum\n",
    "* -t wypisz zawartosc archiwum\n",
    "* -v tryb gadatliwy"
   ]
  },
  {
   "cell_type": "markdown",
   "metadata": {
    "slideshow": {
     "slide_type": "slide"
    }
   },
   "source": [
    "Przyklady\n",
    "\n",
    "* tar -cf playground.tar playground\n",
    "* tar -tvf playground.tar\n",
    "* tar -xf playground.tar"
   ]
  },
  {
   "cell_type": "markdown",
   "metadata": {
    "slideshow": {
     "slide_type": "slide"
    }
   },
   "source": [
    "## Synchronizacja plikow i katalogow\n",
    "\n",
    "* *rsync*\n",
    "\n",
    "rsync opcje zrodlo cel\n",
    "\n",
    "Zrodlo, cel\n",
    "\n",
    "* lokalny plik, katalog\n",
    "* zdalny plik, katalog, user@host:path\n",
    "* zdalny serwer rsync, rsync://user@host:port/path\n",
    "\n",
    "Jedno z nich musi byc lokalne."
   ]
  },
  {
   "cell_type": "markdown",
   "metadata": {
    "slideshow": {
     "slide_type": "slide"
    }
   },
   "source": [
    "Przydatne opcje\n",
    "\n",
    "* -a archiwizacja, tryb rekursywny z zachowaniem atrybutow plikow\n",
    "* -v tryb gadatliwy\n",
    "\n",
    "Przyklad\n",
    "\n",
    "* rsync -av playground foo\n",
    "* rsync -av --delete --rsh=ssh /etc /home /usr/local zdalny-system:/backup"
   ]
  }
 ],
 "metadata": {
  "celltoolbar": "Slideshow",
  "kernelspec": {
   "display_name": "Bash",
   "language": "bash",
   "name": "bash"
  },
  "language_info": {
   "codemirror_mode": "shell",
   "file_extension": ".sh",
   "mimetype": "text/x-sh",
   "name": "bash"
  }
 },
 "nbformat": 4,
 "nbformat_minor": 1
}
