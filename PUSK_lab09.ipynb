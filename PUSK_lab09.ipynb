{
 "cells": [
  {
   "cell_type": "markdown",
   "metadata": {
    "slideshow": {
     "slide_type": "slide"
    }
   },
   "source": [
    "<img src=\"https://upload.wikimedia.org/wikipedia/commons/thumb/3/35/Tux.svg/280px-Tux.svg.png\" width=20% align='right'>\n",
    "\n",
    "# Podstawy uzytkowania\n",
    "# systemow komputerowych\n",
    "\n",
    "Jakub Spiechowicz\n",
    "\n",
    "Laboratorium 09, Wyrazenia regularne i proste przetwarzanie tekstu"
   ]
  },
  {
   "cell_type": "markdown",
   "metadata": {
    "slideshow": {
     "slide_type": "slide"
    }
   },
   "source": [
    "# Wyrazenia regularne\n",
    "\n",
    "Wyrazenia regularne to symboliczna reprezentacja wzorcow tekstu.\n",
    "\n",
    "* Przypominaja dzikie karty, ale maja znacznie wieksze mozliwosci\n",
    "* Wspierane przez wiele narzedzi linii komend i jezykow programowania\n",
    "* Rozne implementacje w zaleznosci od jezyka\n",
    "  * Standard POSIX\n",
    "  * Perl etc."
   ]
  },
  {
   "cell_type": "markdown",
   "metadata": {
    "slideshow": {
     "slide_type": "slide"
    }
   },
   "source": [
    "# grep\n",
    "\n",
    "*grep*, global regular expression print\n",
    "\n",
    "grep opcje regex plik"
   ]
  },
  {
   "cell_type": "code",
   "execution_count": 2,
   "metadata": {
    "collapsed": false,
    "slideshow": {
     "slide_type": "fragment"
    }
   },
   "outputs": [
    {
     "name": "stdout",
     "output_type": "stream",
     "text": [
      "funzip\r\n",
      "gpg-zip\r\n",
      "unzip\r\n",
      "unzipsfx\r\n",
      "zip\r\n",
      "zipcloak\r\n",
      "zipdetails\r\n",
      "zipgrep\r\n",
      "zipinfo\r\n",
      "zipnote\r\n",
      "zipsplit\r\n"
     ]
    }
   ],
   "source": [
    "ls /usr/bin | grep zip"
   ]
  },
  {
   "cell_type": "markdown",
   "metadata": {
    "slideshow": {
     "slide_type": "slide"
    }
   },
   "source": [
    "Opcje\n",
    "\n",
    "* -i ignoruj wielkosc liter\n",
    "* -v linie *nie*pasujace do wzorca\n",
    "* -c ilosc linii pasujacych do wzorca\n",
    "* -l nazwa pliku, w ktorym znajduje sie wzorzec\n",
    "* -L j.w., ale plik, w ktorym nie ma wzorca\n",
    "* -n numer linii"
   ]
  },
  {
   "cell_type": "code",
   "execution_count": 3,
   "metadata": {
    "collapsed": false,
    "slideshow": {
     "slide_type": "slide"
    }
   },
   "outputs": [
    {
     "name": "stdout",
     "output_type": "stream",
     "text": [
      "dirlist-bin.txt  dirlist-sbin.txt  dirlist-usr-bin.txt\tdirlist-usr-sbin.txt\r\n"
     ]
    }
   ],
   "source": [
    "ls /bin > dirlist-bin.txt\n",
    "ls /usr/bin > dirlist-usr-bin.txt\n",
    "ls /sbin > dirlist-sbin.txt\n",
    "ls /usr/sbin > dirlist-usr-sbin.txt\n",
    "ls dirlist*.txt"
   ]
  },
  {
   "cell_type": "code",
   "execution_count": 4,
   "metadata": {
    "collapsed": false,
    "slideshow": {
     "slide_type": "fragment"
    }
   },
   "outputs": [
    {
     "name": "stdout",
     "output_type": "stream",
     "text": [
      "dirlist-bin.txt:bzip2\r\n",
      "dirlist-bin.txt:bzip2recover\r\n"
     ]
    }
   ],
   "source": [
    "grep bzip dirlist*.txt"
   ]
  },
  {
   "cell_type": "code",
   "execution_count": 5,
   "metadata": {
    "collapsed": false,
    "slideshow": {
     "slide_type": "fragment"
    }
   },
   "outputs": [
    {
     "name": "stdout",
     "output_type": "stream",
     "text": [
      "dirlist-bin.txt\r\n"
     ]
    }
   ],
   "source": [
    "grep -l bzip dirlist*.txt"
   ]
  },
  {
   "cell_type": "code",
   "execution_count": 6,
   "metadata": {
    "collapsed": false,
    "slideshow": {
     "slide_type": "fragment"
    }
   },
   "outputs": [
    {
     "name": "stdout",
     "output_type": "stream",
     "text": [
      "dirlist-sbin.txt\r\n",
      "dirlist-usr-bin.txt\r\n",
      "dirlist-usr-sbin.txt\r\n"
     ]
    }
   ],
   "source": [
    "grep -L bzip dirlist*.txt"
   ]
  },
  {
   "cell_type": "markdown",
   "metadata": {
    "slideshow": {
     "slide_type": "slide"
    }
   },
   "source": [
    "# Literaly i metaznaki\n",
    "\n",
    "regex\n",
    "\n",
    "* Literaly\n",
    "* Metaznaki ^ \\$ . \\[ \\] \\{ \\} \\- ? \\* \\+ \\( \\) \\| \\\\"
   ]
  },
  {
   "cell_type": "markdown",
   "metadata": {
    "slideshow": {
     "slide_type": "slide"
    }
   },
   "source": [
    "# . dowolny znak"
   ]
  },
  {
   "cell_type": "code",
   "execution_count": 9,
   "metadata": {
    "collapsed": false,
    "slideshow": {
     "slide_type": "fragment"
    }
   },
   "outputs": [
    {
     "name": "stdout",
     "output_type": "stream",
     "text": [
      "bunzip2\r\n",
      "bzip2\r\n",
      "bzip2recover\r\n",
      "gunzip\r\n",
      "gzip\r\n",
      "funzip\r\n",
      "gpg-zip\r\n",
      "unzip\r\n",
      "unzipsfx\r\n"
     ]
    }
   ],
   "source": [
    "grep -h '.zip' dirlist*.txt"
   ]
  },
  {
   "cell_type": "markdown",
   "metadata": {
    "slideshow": {
     "slide_type": "slide"
    }
   },
   "source": [
    "# ^/$ poczatek/koniec linii"
   ]
  },
  {
   "cell_type": "code",
   "execution_count": 10,
   "metadata": {
    "collapsed": false,
    "slideshow": {
     "slide_type": "fragment"
    }
   },
   "outputs": [
    {
     "name": "stdout",
     "output_type": "stream",
     "text": [
      "zip\r\n",
      "zipcloak\r\n",
      "zipdetails\r\n",
      "zipgrep\r\n",
      "zipinfo\r\n",
      "zipnote\r\n",
      "zipsplit\r\n"
     ]
    }
   ],
   "source": [
    "grep -h '^zip' dirlist*.txt"
   ]
  },
  {
   "cell_type": "code",
   "execution_count": 11,
   "metadata": {
    "collapsed": false,
    "slideshow": {
     "slide_type": "fragment"
    }
   },
   "outputs": [
    {
     "name": "stdout",
     "output_type": "stream",
     "text": [
      "gunzip\r\n",
      "gzip\r\n",
      "funzip\r\n",
      "gpg-zip\r\n",
      "unzip\r\n",
      "zip\r\n"
     ]
    }
   ],
   "source": [
    "grep -h 'zip$' dirlist*.txt"
   ]
  },
  {
   "cell_type": "code",
   "execution_count": 12,
   "metadata": {
    "collapsed": false,
    "slideshow": {
     "slide_type": "fragment"
    }
   },
   "outputs": [
    {
     "name": "stdout",
     "output_type": "stream",
     "text": [
      "zip\r\n"
     ]
    }
   ],
   "source": [
    "grep -h '^zip$' dirlist*.txt"
   ]
  },
  {
   "cell_type": "markdown",
   "metadata": {
    "slideshow": {
     "slide_type": "slide"
    }
   },
   "source": [
    "# Offtopic, krzyzowka\n",
    "\n",
    "grep -i '^..j.r$' /usr/share/dict/words  \n",
    "Major  \n",
    "major  "
   ]
  },
  {
   "cell_type": "markdown",
   "metadata": {
    "slideshow": {
     "slide_type": "slide"
    }
   },
   "source": [
    "# \\[ \\] zbior znakow, klasy"
   ]
  },
  {
   "cell_type": "code",
   "execution_count": 13,
   "metadata": {
    "collapsed": false,
    "slideshow": {
     "slide_type": "fragment"
    }
   },
   "outputs": [
    {
     "name": "stdout",
     "output_type": "stream",
     "text": [
      "bzip2\r\n",
      "bzip2recover\r\n",
      "gzip\r\n"
     ]
    }
   ],
   "source": [
    "grep -h '[bg]zip' dirlist*.txt"
   ]
  },
  {
   "cell_type": "code",
   "execution_count": 14,
   "metadata": {
    "collapsed": false,
    "slideshow": {
     "slide_type": "fragment"
    }
   },
   "outputs": [
    {
     "name": "stdout",
     "output_type": "stream",
     "text": [
      "bunzip2\r\n",
      "gunzip\r\n",
      "funzip\r\n",
      "gpg-zip\r\n",
      "unzip\r\n",
      "unzipsfx\r\n"
     ]
    }
   ],
   "source": [
    "grep -h '[^bg]zip' dirlist*.txt"
   ]
  },
  {
   "cell_type": "code",
   "execution_count": 15,
   "metadata": {
    "collapsed": false,
    "slideshow": {
     "slide_type": "fragment"
    }
   },
   "outputs": [
    {
     "name": "stdout",
     "output_type": "stream",
     "text": [
      "MAKEDEV\r\n",
      "GET\r\n",
      "HEAD\r\n",
      "POST\r\n",
      "X11\r\n"
     ]
    }
   ],
   "source": [
    "grep -h '^[ABCDEFGHIJKLMNOPQRSTUVWXZY]' dirlist*.txt"
   ]
  },
  {
   "cell_type": "code",
   "execution_count": 66,
   "metadata": {
    "collapsed": false,
    "slideshow": {
     "slide_type": "slide"
    }
   },
   "outputs": [
    {
     "name": "stdout",
     "output_type": "stream",
     "text": [
      "MAKEDEV\r\n",
      "GET\r\n",
      "HEAD\r\n",
      "POST\r\n",
      "X11\r\n"
     ]
    }
   ],
   "source": [
    "grep -h '^[A-Z]' dirlist*.txt"
   ]
  },
  {
   "cell_type": "code",
   "execution_count": 17,
   "metadata": {
    "collapsed": false,
    "slideshow": {
     "slide_type": "slide"
    }
   },
   "outputs": [
    {
     "name": "stdout",
     "output_type": "stream",
     "text": [
      "bash\r\n",
      "bunzip2\r\n",
      "busybox\r\n",
      "bzcat\r\n",
      "bzcmp\r\n",
      "bzdiff\r\n",
      "bzegrep\r\n",
      "bzexe\r\n",
      "bzfgrep\r\n",
      "bzgrep\r\n",
      "bzip2\r\n",
      "bzip2recover\r\n",
      "bzless\r\n",
      "bzmore\r\n",
      "cat\r\n",
      "chacl\r\n",
      "chgrp\r\n",
      "chmod\r\n",
      "chown\r\n",
      "chvt\r\n",
      "cp\r\n",
      "cpio\r\n",
      "dash\r\n",
      "date\r\n",
      "dd\r\n",
      "df\r\n",
      "dir\r\n",
      "dmesg\r\n",
      "dnsdomainname\r\n",
      "domainname\r\n",
      "dumpkeys\r\n",
      "echo\r\n",
      "ed\r\n",
      "egrep\r\n",
      "false\r\n",
      "fgconsole\r\n",
      "fgrep\r\n",
      "findmnt\r\n",
      "fuser\r\n",
      "fusermount\r\n",
      "getfacl\r\n",
      "grep\r\n",
      "gunzip\r\n",
      "gzexe\r\n",
      "gzip\r\n",
      "hostname\r\n",
      "ip\r\n",
      "journalctl\r\n",
      "kbd_mode\r\n",
      "keyctl\r\n",
      "kill\r\n",
      "kmod\r\n",
      "less\r\n",
      "lessecho\r\n",
      "lessfile\r\n",
      "lesskey\r\n",
      "lesspipe\r\n",
      "ln\r\n",
      "loadkeys\r\n",
      "login\r\n",
      "loginctl\r\n",
      "lowntfs-3g\r\n",
      "ls\r\n",
      "lsblk\r\n",
      "lsmod\r\n",
      "mkdir\r\n",
      "mknod\r\n",
      "mktemp\r\n",
      "more\r\n",
      "mount\r\n",
      "mountpoint\r\n",
      "mt\r\n",
      "mt-gnu\r\n",
      "mv\r\n",
      "nano\r\n",
      "nc\r\n",
      "nc.openbsd\r\n",
      "netcat\r\n",
      "netstat\r\n",
      "networkctl\r\n",
      "nisdomainname\r\n",
      "ntfs-3g\r\n",
      "ntfs-3g.probe\r\n",
      "ntfs-3g.secaudit\r\n",
      "ntfs-3g.usermap\r\n",
      "ntfscat\r\n",
      "ntfscluster\r\n",
      "ntfscmp\r\n",
      "ntfsfallocate\r\n",
      "ntfsfix\r\n",
      "ntfsinfo\r\n",
      "ntfsls\r\n",
      "ntfsmove\r\n",
      "ntfstruncate\r\n",
      "ntfswipe\r\n",
      "open\r\n",
      "openvt\r\n",
      "pidof\r\n",
      "ping\r\n",
      "ping6\r\n",
      "plymouth\r\n",
      "ps\r\n",
      "pwd\r\n",
      "rbash\r\n",
      "readlink\r\n",
      "red\r\n",
      "rm\r\n",
      "rmdir\r\n",
      "rnano\r\n",
      "run-parts\r\n",
      "sed\r\n",
      "setfacl\r\n",
      "setfont\r\n",
      "setupcon\r\n",
      "sh\r\n",
      "sh.distrib\r\n",
      "sleep\r\n",
      "ss\r\n",
      "static-sh\r\n",
      "stty\r\n",
      "su\r\n",
      "sync\r\n",
      "systemctl\r\n",
      "systemd\r\n",
      "systemd-ask-password\r\n",
      "systemd-escape\r\n",
      "systemd-hwdb\r\n",
      "systemd-inhibit\r\n",
      "systemd-machine-id-setup\r\n",
      "systemd-notify\r\n",
      "systemd-tmpfiles\r\n",
      "systemd-tty-ask-password-agent\r\n",
      "tailf\r\n",
      "tar\r\n",
      "tempfile\r\n",
      "touch\r\n",
      "true\r\n",
      "udevadm\r\n",
      "ulockmgr_server\r\n",
      "umount\r\n",
      "uname\r\n",
      "uncompress\r\n",
      "unicode_start\r\n",
      "vdir\r\n",
      "wdctl\r\n",
      "which\r\n",
      "whiptail\r\n",
      "ypdomainname\r\n",
      "zcat\r\n",
      "zcmp\r\n",
      "zdiff\r\n",
      "zegrep\r\n",
      "zfgrep\r\n",
      "zforce\r\n",
      "zgrep\r\n",
      "zless\r\n",
      "zmore\r\n",
      "znew\r\n",
      "MAKEDEV\r\n",
      "acpi_available\r\n",
      "agetty\r\n",
      "apm_available\r\n",
      "apparmor_parser\r\n",
      "badblocks\r\n",
      "blkdiscard\r\n",
      "blkid\r\n",
      "blockdev\r\n",
      "bridge\r\n",
      "capsh\r\n",
      "cfdisk\r\n",
      "chcpu\r\n",
      "ctrlaltdel\r\n",
      "debugfs\r\n",
      "depmod\r\n",
      "dhclient\r\n",
      "dhclient-script\r\n",
      "dosfsck\r\n",
      "dosfslabel\r\n",
      "dumpe2fs\r\n",
      "e2fsck\r\n",
      "e2image\r\n",
      "e2label\r\n",
      "e2undo\r\n",
      "fatlabel\r\n",
      "fdisk\r\n",
      "findfs\r\n",
      "fsck\r\n",
      "fsck.cramfs\r\n",
      "fsck.ext2\r\n",
      "fsck.ext3\r\n",
      "fsck.ext4\r\n",
      "fsck.ext4dev\r\n",
      "fsck.fat\r\n",
      "fsck.minix\r\n",
      "fsck.msdos\r\n",
      "fsck.nfs\r\n",
      "fsck.vfat\r\n",
      "fsfreeze\r\n",
      "fstab-decode\r\n",
      "fstrim\r\n",
      "getcap\r\n",
      "getpcaps\r\n",
      "getty\r\n",
      "halt\r\n",
      "hdparm\r\n",
      "hwclock\r\n",
      "ifconfig\r\n",
      "ifdown\r\n",
      "ifquery\r\n",
      "ifup\r\n",
      "init\r\n",
      "insmod\r\n",
      "installkernel\r\n",
      "ip\r\n",
      "ip6tables\r\n",
      "ip6tables-restore\r\n",
      "ip6tables-save\r\n",
      "ipmaddr\r\n",
      "iptables\r\n",
      "iptables-restore\r\n",
      "iptables-save\r\n",
      "iptunnel\r\n",
      "iscsi-iname\r\n",
      "iscsi_discovery\r\n",
      "iscsiadm\r\n",
      "iscsid\r\n",
      "iscsistart\r\n",
      "isosize\r\n",
      "kbdrate\r\n",
      "key.dns_resolver\r\n",
      "killall5\r\n",
      "ldconfig\r\n",
      "ldconfig.real\r\n",
      "logsave\r\n",
      "losetup\r\n",
      "lsmod\r\n",
      "mii-tool\r\n",
      "mkdosfs\r\n",
      "mke2fs\r\n",
      "mkfs\r\n",
      "mkfs.bfs\r\n",
      "mkfs.cramfs\r\n",
      "mkfs.ext2\r\n",
      "mkfs.ext3\r\n",
      "mkfs.ext4\r\n",
      "mkfs.ext4dev\r\n",
      "mkfs.fat\r\n",
      "mkfs.minix\r\n",
      "mkfs.msdos\r\n",
      "mkfs.ntfs\r\n",
      "mkfs.vfat\r\n",
      "mkhomedir_helper\r\n",
      "mkntfs\r\n",
      "mkswap\r\n",
      "modinfo\r\n",
      "modprobe\r\n",
      "mount.fuse\r\n",
      "mount.lowntfs-3g\r\n",
      "mount.nfs\r\n",
      "mount.nfs4\r\n",
      "mount.ntfs\r\n",
      "mount.ntfs-3g\r\n",
      "nameif\r\n",
      "ntfsclone\r\n",
      "ntfscp\r\n",
      "ntfslabel\r\n",
      "ntfsresize\r\n",
      "ntfsundelete\r\n",
      "on_ac_power\r\n",
      "osd_login\r\n",
      "pam_extrausers_chkpwd\r\n",
      "pam_extrausers_update\r\n",
      "pam_tally\r\n",
      "pam_tally2\r\n",
      "parted\r\n",
      "partprobe\r\n",
      "pivot_root\r\n",
      "plipconfig\r\n",
      "plymouthd\r\n",
      "poweroff\r\n",
      "quotacheck\r\n",
      "quotaoff\r\n",
      "quotaon\r\n",
      "rarp\r\n",
      "raw\r\n",
      "reboot\r\n",
      "request-key\r\n",
      "resize2fs\r\n",
      "resolvconf\r\n",
      "rmmod\r\n",
      "route\r\n",
      "rpc.statd\r\n",
      "rpcbind\r\n",
      "rtacct\r\n",
      "rtmon\r\n",
      "runlevel\r\n",
      "runuser\r\n",
      "setcap\r\n",
      "setvtrgb\r\n",
      "sfdisk\r\n",
      "shadowconfig\r\n",
      "showmount\r\n",
      "shutdown\r\n",
      "slattach\r\n",
      "sm-notify\r\n",
      "start-stop-daemon\r\n",
      "sulogin\r\n",
      "swaplabel\r\n",
      "swapoff\r\n",
      "swapon\r\n",
      "switch_root\r\n",
      "sysctl\r\n",
      "tc\r\n",
      "telinit\r\n",
      "tipc\r\n",
      "tune2fs\r\n",
      "udevadm\r\n",
      "umount.nfs\r\n",
      "umount.nfs4\r\n",
      "unix_chkpwd\r\n",
      "unix_update\r\n",
      "ureadahead\r\n",
      "wipefs\r\n",
      "xtables-multi\r\n",
      "zramctl\r\n",
      "2to3\r\n",
      "2to3-2.7\r\n",
      "2to3-3.5\r\n",
      "411toppm\r\n",
      "GET\r\n",
      "HEAD\r\n",
      "POST\r\n",
      "X11\r\n",
      "a2ping\r\n",
      "a5booklet\r\n",
      "a5toa4\r\n",
      "aa-enabled\r\n",
      "addpart\r\n",
      "addr2line\r\n",
      "adhocfilelist\r\n",
      "afm2afm\r\n",
      "afm2pl\r\n",
      "afm2tfm\r\n",
      "aleph\r\n",
      "allcm\r\n",
      "allec\r\n",
      "allneeded\r\n",
      "amstex\r\n",
      "animate\r\n",
      "animate-im6\r\n",
      "anytopnm\r\n",
      "appres\r\n",
      "apropos\r\n",
      "apt\r\n",
      "apt-cache\r\n",
      "apt-cdrom\r\n",
      "apt-config\r\n",
      "apt-extracttemplates\r\n",
      "apt-ftparchive\r\n",
      "apt-get\r\n",
      "apt-key\r\n",
      "apt-mark\r\n",
      "apt-sortpkgs\r\n",
      "aptitude\r\n",
      "aptitude-create-state-bundle\r\n",
      "aptitude-curses\r\n",
      "aptitude-run-state-bundle\r\n",
      "ar\r\n",
      "arara\r\n",
      "arch\r\n",
      "arlatex\r\n",
      "as\r\n",
      "asciitopgm\r\n",
      "assistant\r\n",
      "atktopbm\r\n",
      "atobm\r\n",
      "authorindex\r\n",
      "autoinst\r\n",
      "awk\r\n",
      "base32\r\n",
      "base64\r\n",
      "basename\r\n",
      "bashbug\r\n",
      "bbox\r\n",
      "bg5+latex\r\n",
      "bg5+pdflatex\r\n",
      "bg5conv\r\n",
      "bg5latex\r\n",
      "bg5pdflatex\r\n",
      "bibdoiadd\r\n",
      "bibexport\r\n",
      "bibtex\r\n",
      "bibtex.original\r\n",
      "bibtex8\r\n",
      "bibtexu\r\n",
      "bibzbladd\r\n",
      "bioradtopgm\r\n",
      "bitmap\r\n",
      "bmptopnm\r\n",
      "bmptoppm\r\n",
      "bmtoa\r\n",
      "bootctl\r\n",
      "broadwayd\r\n",
      "brushtopbm\r\n",
      "bsd-from\r\n",
      "bsd-write\r\n",
      "bundledoc\r\n",
      "busctl\r\n",
      "c++\r\n",
      "c++filt\r\n",
      "c2ph\r\n",
      "c89\r\n",
      "c89-gcc\r\n",
      "c99\r\n",
      "c99-gcc\r\n",
      "c_rehash\r\n",
      "cachepic\r\n",
      "cal\r\n",
      "calc_tickadj\r\n",
      "calendar\r\n",
      "captoinfo\r\n",
      "catchsegv\r\n",
      "catman\r\n",
      "cautious-launcher\r\n",
      "cc\r\n",
      "cd-create-profile\r\n",
      "cd-fix-profile\r\n",
      "cd-iccdump\r\n",
      "cd-it8\r\n",
      "cef5conv\r\n",
      "cef5latex\r\n",
      "cef5pdflatex\r\n",
      "cefconv\r\n",
      "ceflatex\r\n",
      "cefpdflatex\r\n",
      "cefsconv\r\n",
      "cefslatex\r\n",
      "cefspdflatex\r\n",
      "cfftot1\r\n",
      "chacl\r\n",
      "chage\r\n",
      "chattr\r\n",
      "chcon\r\n",
      "check-language-support\r\n",
      "checkcites\r\n",
      "checklistings\r\n",
      "chfn\r\n",
      "chktex\r\n",
      "chkweb\r\n",
      "chrt\r\n",
      "chsh\r\n",
      "chsh.ldap\r\n",
      "cjk-gs-integrate\r\n",
      "ckbcomp\r\n",
      "cksum\r\n",
      "clear\r\n",
      "clear_console\r\n",
      "cmp\r\n",
      "cmuwmtopbm\r\n",
      "codepage\r\n",
      "col\r\n",
      "colcrt\r\n",
      "colormgr\r\n",
      "colrm\r\n",
      "column\r\n",
      "comm\r\n",
      "compare\r\n",
      "compare-im6\r\n",
      "compose\r\n",
      "composite\r\n",
      "composite-im6\r\n",
      "conjure\r\n",
      "conjure-im6\r\n",
      "context\r\n",
      "contextjit\r\n",
      "convbkmk\r\n",
      "convert\r\n",
      "convert-im6\r\n",
      "corelist\r\n",
      "cpan\r\n",
      "cpan5.22-x86_64-linux-gnu\r\n",
      "cpp\r\n",
      "cpp-5\r\n",
      "crontab\r\n",
      "cslatex\r\n",
      "csplain\r\n",
      "csplit\r\n",
      "ctags\r\n",
      "ctags.emacs24\r\n",
      "ctangle\r\n",
      "ctanify\r\n",
      "ctanupload\r\n",
      "ctie\r\n",
      "ctstat\r\n",
      "cut\r\n",
      "cweave\r\n",
      "dbus-cleanup-sockets\r\n",
      "dbus-daemon\r\n",
      "dbus-launch\r\n",
      "dbus-monitor\r\n",
      "dbus-run-session\r\n",
      "dbus-send\r\n",
      "dbus-update-activation-environment\r\n",
      "dbus-uuidgen\r\n",
      "de-macro\r\n",
      "deallocvt\r\n",
      "deb-systemd-helper\r\n",
      "deb-systemd-invoke\r\n",
      "debconf\r\n",
      "debconf-apt-progress\r\n",
      "debconf-communicate\r\n",
      "debconf-copydb\r\n",
      "debconf-escape\r\n",
      "debconf-set-selections\r\n",
      "debconf-show\r\n",
      "delpart\r\n",
      "depythontex\r\n",
      "depythontex3\r\n",
      "designer\r\n",
      "detex\r\n",
      "devnag\r\n",
      "deweb\r\n",
      "dh_bash-completion\r\n",
      "dh_installtex\r\n",
      "dh_installxmlcatalogs\r\n",
      "dh_pypy\r\n",
      "dh_python2\r\n",
      "dh_python3\r\n",
      "diadia\r\n",
      "diff\r\n",
      "diff3\r\n",
      "dig\r\n",
      "dircolors\r\n",
      "dirname\r\n",
      "disdvi\r\n",
      "display\r\n",
      "display-im6\r\n",
      "do-release-upgrade\r\n",
      "dosepsbin\r\n",
      "dotlockfile\r\n",
      "dpkg\r\n",
      "dpkg-architecture\r\n",
      "dpkg-buildflags\r\n",
      "dpkg-buildpackage\r\n",
      "dpkg-checkbuilddeps\r\n",
      "dpkg-deb\r\n",
      "dpkg-distaddfile\r\n",
      "dpkg-divert\r\n",
      "dpkg-genchanges\r\n",
      "dpkg-gencontrol\r\n",
      "dpkg-gensymbols\r\n",
      "dpkg-maintscript-helper\r\n",
      "dpkg-mergechangelogs\r\n",
      "dpkg-name\r\n",
      "dpkg-parsechangelog\r\n",
      "dpkg-query\r\n",
      "dpkg-scanpackages\r\n",
      "dpkg-scansources\r\n",
      "dpkg-shlibdeps\r\n",
      "dpkg-source\r\n",
      "dpkg-split\r\n",
      "dpkg-statoverride\r\n",
      "dpkg-trigger\r\n",
      "dpkg-vendor\r\n",
      "dt2dv\r\n",
      "dtxgen\r\n",
      "du\r\n",
      "dumpkeys\r\n",
      "dv2dt\r\n",
      "dvi2fax\r\n",
      "dvi2tty\r\n",
      "dviasm\r\n",
      "dvibook\r\n",
      "dviconcat\r\n",
      "dvicopy\r\n",
      "dvidvi\r\n",
      "dvigif\r\n",
      "dvihp\r\n",
      "dvilj\r\n",
      "dvilj2p\r\n",
      "dvilj4\r\n",
      "dvilj4l\r\n",
      "dvilj6\r\n",
      "dvilualatex\r\n",
      "dviluatex\r\n",
      "dvipdf\r\n",
      "dvipdfm\r\n",
      "dvipdfmx\r\n",
      "dvipdft\r\n",
      "dvipng\r\n",
      "dvipos\r\n",
      "dvips\r\n",
      "dvired\r\n",
      "dviselect\r\n",
      "dvisvgm\r\n",
      "dvitodvi\r\n",
      "dvitomp\r\n",
      "dvitype\r\n",
      "dwp\r\n",
      "e2pall\r\n",
      "ebb\r\n",
      "ebong\r\n",
      "ebrowse\r\n",
      "ebrowse.emacs24\r\n",
      "echo_supervisord_conf\r\n",
      "edit\r\n",
      "editor\r\n",
      "editres\r\n",
      "eject\r\n",
      "elfedit\r\n",
      "emacs\r\n",
      "emacs24\r\n",
      "emacs24-x\r\n",
      "emacsclient\r\n",
      "emacsclient.emacs24\r\n",
      "enc2xs\r\n",
      "encguess\r\n",
      "env\r\n",
      "envsubst\r\n",
      "eplain\r\n",
      "eps2eps\r\n",
      "epsffit\r\n",
      "epspdf\r\n",
      "epspdftk\r\n",
      "epstopdf\r\n",
      "eptex\r\n",
      "eqn\r\n",
      "erb\r\n",
      "erb2.3\r\n",
      "etags\r\n",
      "etags.emacs24\r\n",
      "etex\r\n",
      "euptex\r\n",
      "ex\r\n",
      "exceltex\r\n",
      "expand\r\n",
      "expiry\r\n",
      "expr\r\n",
      "extconv\r\n",
      "extractbb\r\n",
      "extractres\r\n",
      "eyuvtoppm\r\n",
      "f77\r\n",
      "f95\r\n",
      "factor\r\n",
      "faillog\r\n",
      "faked-sysv\r\n",
      "faked-tcp\r\n",
      "fakeroot\r\n",
      "fakeroot-sysv\r\n",
      "fakeroot-tcp\r\n",
      "fallocate\r\n",
      "fc-cache\r\n",
      "fc-cat\r\n",
      "fc-list\r\n",
      "fc-match\r\n",
      "fc-pattern\r\n",
      "fc-query\r\n",
      "fc-scan\r\n",
      "fc-validate\r\n",
      "feynmf\r\n",
      "fiascotopnm\r\n",
      "fig4latex\r\n",
      "file\r\n",
      "file-rename\r\n",
      "find\r\n",
      "findhyph\r\n",
      "fitstopnm\r\n",
      "fixdlsrps\r\n",
      "fixfmps\r\n",
      "fixmsxpart\r\n",
      "fixpsditps\r\n",
      "fixpspps\r\n",
      "fixscribeps\r\n",
      "fixtpps\r\n",
      "fixwfwps\r\n",
      "fixwpps\r\n",
      "fixwwps\r\n",
      "flock\r\n",
      "fmt\r\n",
      "fmtutil\r\n",
      "fmtutil-sys\r\n",
      "fold\r\n",
      "font2c\r\n",
      "fontinst\r\n",
      "fragmaster\r\n",
      "free\r\n",
      "from\r\n",
      "fstopgm\r\n",
      "ftp\r\n",
      "funzip\r\n",
      "g++\r\n",
      "g++-5\r\n",
      "g3topbm\r\n",
      "gbklatex\r\n",
      "gbkpdflatex\r\n",
      "gcc\r\n",
      "gcc-5\r\n",
      "gcc-ar\r\n",
      "gcc-ar-5\r\n",
      "gcc-nm\r\n",
      "gcc-nm-5\r\n",
      "gcc-ranlib\r\n",
      "gcc-ranlib-5\r\n",
      "gconf-merge-tree\r\n",
      "gconftool\r\n",
      "gconftool-2\r\n",
      "gcov\r\n",
      "gcov-5\r\n",
      "gcov-tool\r\n",
      "gcov-tool-5\r\n",
      "gem\r\n",
      "gem2.3\r\n",
      "gemtopbm\r\n",
      "gemtopnm\r\n",
      "gencat\r\n",
      "geqn\r\n",
      "getafm\r\n",
      "getconf\r\n",
      "getent\r\n",
      "getent.ldap\r\n",
      "getfacl\r\n",
      "getkeycodes\r\n",
      "getmapdl\r\n",
      "getopt\r\n",
      "gettext\r\n",
      "gettext.sh\r\n",
      "gfortran\r\n",
      "gfortran-5\r\n",
      "gftodvi\r\n",
      "gftopk\r\n",
      "gftype\r\n",
      "ghostscript\r\n",
      "giftopnm\r\n",
      "ginstall-info\r\n",
      "git\r\n",
      "git-receive-pack\r\n",
      "git-shell\r\n",
      "git-upload-archive\r\n",
      "git-upload-pack\r\n",
      "gold\r\n",
      "gouldtoppm\r\n",
      "gpasswd\r\n",
      "gpg\r\n",
      "gpg-zip\r\n",
      "gpgsplit\r\n",
      "gpgv\r\n",
      "gpic\r\n",
      "gprof\r\n",
      "grep-changelog\r\n",
      "grep-changelog.emacs24\r\n",
      "groff\r\n",
      "grog\r\n",
      "grops\r\n",
      "grotty\r\n",
      "groups\r\n",
      "gs\r\n",
      "gsbj\r\n",
      "gsdj\r\n",
      "gsdj500\r\n",
      "gsettings-data-convert\r\n",
      "gsettings-schema-convert\r\n",
      "gsftopk\r\n",
      "gslj\r\n",
      "gslp\r\n",
      "gsnd\r\n",
      "gtbl\r\n",
      "gtk-builder-tool\r\n",
      "gtk-launch\r\n",
      "gtk-update-icon-cache\r\n",
      "gtk-update-icon-cache-3.0\r\n",
      "h2ph\r\n",
      "h2xs\r\n",
      "hbf2gf\r\n",
      "hd\r\n",
      "head\r\n",
      "helpztags\r\n",
      "hexdump\r\n",
      "hipstopgm\r\n",
      "host\r\n",
      "hostid\r\n",
      "hostnamectl\r\n",
      "ht\r\n",
      "htlatex\r\n",
      "htop\r\n",
      "httex\r\n",
      "httexi\r\n",
      "i386\r\n",
      "iceauth\r\n",
      "ico\r\n",
      "icontopbm\r\n",
      "iconv\r\n",
      "id\r\n",
      "identify\r\n",
      "identify-im6\r\n",
      "ilbmtoppm\r\n",
      "imagetops\r\n",
      "imgtoppm\r\n",
      "import\r\n",
      "import-im6\r\n",
      "includeres\r\n",
      "info\r\n",
      "infobrowser\r\n",
      "infocmp\r\n",
      "infotocap\r\n",
      "inimf\r\n",
      "initex\r\n",
      "install\r\n",
      "install-info\r\n",
      "installfont-tl\r\n",
      "instmodsh\r\n",
      "ionice\r\n",
      "ipcmk\r\n",
      "ipcrm\r\n",
      "ipcs\r\n",
      "iptables-xml\r\n",
      "irb\r\n",
      "irb2.3\r\n",
      "ischroot\r\n",
      "iscsiadm\r\n",
      "itweb-settings\r\n",
      "jadetex\r\n",
      "jamo-normalize\r\n",
      "java\r\n",
      "javaws\r\n",
      "jexec\r\n",
      "jjs\r\n",
      "join\r\n",
      "jpegtopnm\r\n",
      "json_pp\r\n",
      "kanji-config-updmap\r\n",
      "kanji-config-updmap-sys\r\n",
      "kanji-fontmap-creator\r\n",
      "kbdinfo\r\n",
      "keytool\r\n",
      "killall\r\n",
      "koi8rxterm\r\n",
      "komkindex\r\n",
      "kpseaccess\r\n",
      "kpsepath\r\n",
      "kpsereadlink\r\n",
      "kpsestat\r\n",
      "kpsetool\r\n",
      "kpsewhere\r\n",
      "kpsewhich\r\n",
      "kpsexpand\r\n",
      "lacheck\r\n",
      "lamed\r\n",
      "last\r\n",
      "lastb\r\n",
      "lastlog\r\n",
      "latex\r\n",
      "latex-git-log\r\n",
      "latex2man\r\n",
      "latexdef\r\n",
      "latexdiff\r\n",
      "latexdiff-cvs\r\n",
      "latexdiff-fast\r\n",
      "latexdiff-git\r\n",
      "latexdiff-hg\r\n",
      "latexdiff-rcs\r\n",
      "latexdiff-svn\r\n",
      "latexdiff-vc\r\n",
      "latexfileversion\r\n",
      "latexindent\r\n",
      "latexmk\r\n",
      "latexpand\r\n",
      "latexrevise\r\n",
      "lcf\r\n",
      "lconvert\r\n",
      "ld\r\n",
      "ld.bfd\r\n",
      "ld.gold\r\n",
      "ldapadd\r\n",
      "ldapcompare\r\n",
      "ldapdelete\r\n",
      "ldapexop\r\n",
      "ldapmodify\r\n",
      "ldapmodrdn\r\n",
      "ldappasswd\r\n",
      "ldapsearch\r\n",
      "ldapurl\r\n",
      "ldapwhoami\r\n",
      "ldd\r\n",
      "leaftoppm\r\n",
      "less\r\n",
      "lessecho\r\n",
      "lessfile\r\n",
      "lesskey\r\n",
      "lesspipe\r\n",
      "lexgrog\r\n",
      "libnetcfg\r\n",
      "lily-glyph-commands\r\n",
      "lily-image-commands\r\n",
      "lily-rebuild-pdfs\r\n",
      "line\r\n",
      "linguist\r\n",
      "link\r\n",
      "linux-version\r\n",
      "linux32\r\n",
      "linux64\r\n",
      "lispmtopgm\r\n",
      "listbib\r\n",
      "listings-ext\r\n",
      "listres\r\n",
      "lnstat\r\n",
      "loadkeys\r\n",
      "loadunimap\r\n",
      "locale\r\n",
      "localectl\r\n",
      "localedef\r\n",
      "locate\r\n",
      "logger\r\n",
      "logname\r\n",
      "lollipop\r\n",
      "look\r\n",
      "lorder\r\n",
      "lrelease\r\n",
      "lsattr\r\n",
      "lsb_release\r\n",
      "lscpu\r\n",
      "lshw\r\n",
      "lsinitramfs\r\n",
      "lsipc\r\n",
      "lslocks\r\n",
      "lslogins\r\n",
      "lsof\r\n",
      "lspci\r\n",
      "lspgpot\r\n",
      "lsusb\r\n",
      "ltrace\r\n",
      "ltx2crossrefxml\r\n",
      "ltxfileinfo\r\n",
      "ltximg\r\n",
      "lua2dox_filter\r\n",
      "luajittex\r\n",
      "lualatex\r\n",
      "lualollipop\r\n",
      "luaotfload-tool\r\n",
      "luatex\r\n",
      "luatools\r\n",
      "luit\r\n",
      "lupdate\r\n",
      "lwp-download\r\n",
      "lwp-dump\r\n",
      "lwp-mirror\r\n",
      "lwp-request\r\n",
      "lxterm\r\n",
      "lzcat\r\n",
      "lzcmp\r\n",
      "lzdiff\r\n",
      "lzegrep\r\n",
      "lzfgrep\r\n",
      "lzgrep\r\n",
      "lzless\r\n",
      "lzma\r\n",
      "lzmainfo\r\n",
      "lzmore\r\n",
      "m-tx\r\n",
      "m17n-db\r\n",
      "macptopbm\r\n",
      "mag\r\n",
      "mailq\r\n",
      "make\r\n",
      "make-first-existing-target\r\n",
      "make4ht\r\n",
      "makeglossaries\r\n",
      "makeglossaries-lite\r\n",
      "makeindex\r\n",
      "makeinfo\r\n",
      "makejvf\r\n",
      "man\r\n",
      "mandb\r\n",
      "manpath\r\n",
      "mapscrn\r\n",
      "match_parens\r\n",
      "mathspic\r\n",
      "mawk\r\n",
      "mc\r\n",
      "mcdiff\r\n",
      "mcedit\r\n",
      "mcookie\r\n",
      "mcview\r\n",
      "md5sum\r\n",
      "md5sum.textutils\r\n",
      "mdatopbm\r\n",
      "mendex\r\n",
      "mesg\r\n",
      "mex\r\n",
      "mf\r\n",
      "mf-nowin\r\n",
      "mf2pt1\r\n",
      "mfplain\r\n",
      "mft\r\n",
      "mgrtopbm\r\n",
      "mimeopen\r\n",
      "mimetype\r\n",
      "mk4ht\r\n",
      "mk_modmap\r\n",
      "mkfifo\r\n",
      "mkgrkindex\r\n",
      "mkindex\r\n",
      "mkjobtexmf\r\n",
      "mkocp\r\n",
      "mkofm\r\n",
      "mkpic\r\n",
      "mkt1font\r\n",
      "mktexfmt\r\n",
      "mktexlsr\r\n",
      "mktexmf\r\n",
      "mktexpk\r\n",
      "mktextfm\r\n",
      "mllatex\r\n",
      "mlocate\r\n",
      "mltex\r\n",
      "mmafm\r\n",
      "mmpfb\r\n",
      "moc\r\n",
      "mogrify\r\n",
      "mogrify-im6\r\n",
      "montage\r\n",
      "montage-im6\r\n",
      "mosh\r\n",
      "mosh-client\r\n",
      "mosh-server\r\n",
      "mpost\r\n",
      "mptopdf\r\n",
      "msxlint\r\n",
      "mtr\r\n",
      "mtrace\r\n",
      "mtvtoppm\r\n",
      "mtxrun\r\n",
      "mtxrunjit\r\n",
      "multibibliography\r\n",
      "musixflx\r\n",
      "musixtex\r\n",
      "namei\r\n",
      "nawk\r\n",
      "ncal\r\n",
      "neotoppm\r\n",
      "neqn\r\n",
      "netkit-ftp\r\n",
      "newaliases\r\n",
      "newgrp\r\n",
      "ngettext\r\n",
      "nice\r\n",
      "nl\r\n",
      "nm\r\n",
      "nohup\r\n",
      "nproc\r\n",
      "nroff\r\n",
      "nsenter\r\n",
      "nslookup\r\n",
      "nstat\r\n",
      "nsupdate\r\n",
      "ntfsdecrypt\r\n",
      "ntpdc\r\n",
      "ntpq\r\n",
      "ntpsweep\r\n",
      "ntptrace\r\n",
      "numfmt\r\n",
      "objcopy\r\n",
      "objdump\r\n",
      "oclock\r\n",
      "od\r\n",
      "odvicopy\r\n",
      "odvitype\r\n",
      "ofm2opl\r\n",
      "omfonts\r\n",
      "on_ac_power\r\n",
      "openssl\r\n",
      "opl2ofm\r\n",
      "orbd\r\n",
      "ot2kpx\r\n",
      "otangle\r\n",
      "otfinfo\r\n",
      "otftotfm\r\n",
      "otp2ocp\r\n",
      "outocp\r\n",
      "ovf2ovp\r\n",
      "ovp2ovf\r\n",
      "pack200\r\n",
      "pager\r\n",
      "palmtopnm\r\n",
      "pamcut\r\n",
      "pamdeinterlace\r\n",
      "pamdice\r\n",
      "pamfile\r\n",
      "pamoil\r\n",
      "pamstack\r\n",
      "pamstretch\r\n",
      "pamstretch-gen\r\n",
      "paperconf\r\n",
      "parsechangelog\r\n",
      "partx\r\n",
      "passwd\r\n",
      "paste\r\n",
      "patch\r\n",
      "patgen\r\n",
      "pathchk\r\n",
      "pbibtex\r\n",
      "pbmclean\r\n",
      "pbmlife\r\n",
      "pbmmake\r\n",
      "pbmmask\r\n",
      "pbmpage\r\n",
      "pbmpscale\r\n",
      "pbmreduce\r\n",
      "pbmtext\r\n",
      "pbmtextps\r\n",
      "pbmto10x\r\n",
      "pbmtoascii\r\n",
      "pbmtoatk\r\n",
      "pbmtobbnbg\r\n",
      "pbmtocmuwm\r\n",
      "pbmtoepsi\r\n",
      "pbmtoepson\r\n",
      "pbmtog3\r\n",
      "pbmtogem\r\n",
      "pbmtogo\r\n",
      "pbmtoicon\r\n",
      "pbmtolj\r\n",
      "pbmtomacp\r\n",
      "pbmtomda\r\n",
      "pbmtomgr\r\n",
      "pbmtonokia\r\n",
      "pbmtopgm\r\n",
      "pbmtopi3\r\n",
      "pbmtoplot\r\n",
      "pbmtoppa\r\n",
      "pbmtopsg3\r\n",
      "pbmtoptx\r\n",
      "pbmtowbmp\r\n",
      "pbmtox10bm\r\n",
      "pbmtoxbm\r\n",
      "pbmtoybm\r\n",
      "pbmtozinc\r\n",
      "pbmupc\r\n",
      "pcimodules\r\n",
      "pcxtoppm\r\n",
      "pdb\r\n",
      "pdb2.7\r\n",
      "pdb3\r\n",
      "pdb3.5\r\n",
      "pdf180\r\n",
      "pdf270\r\n",
      "pdf2dsc\r\n",
      "pdf2ps\r\n",
      "pdf90\r\n",
      "pdfannotextractor\r\n",
      "pdfatfi\r\n",
      "pdfbook\r\n",
      "pdfbook2\r\n",
      "pdfclose\r\n",
      "pdfcrop\r\n",
      "pdfcslatex\r\n",
      "pdfcsplain\r\n",
      "pdfetex\r\n",
      "pdfflip\r\n",
      "pdfjadetex\r\n",
      "pdfjam\r\n",
      "pdfjam-pocketmod\r\n",
      "pdfjam-slides3up\r\n",
      "pdfjam-slides6up\r\n",
      "pdfjoin\r\n",
      "pdflatex\r\n",
      "pdfmex\r\n",
      "pdfnup\r\n",
      "pdfopen\r\n",
      "pdfpun\r\n",
      "pdftex\r\n",
      "pdftexi2dvi\r\n",
      "pdftosrc\r\n",
      "pdftrimwhite\r\n",
      "pdfxmltex\r\n",
      "pdvitomp\r\n",
      "pdvitype\r\n",
      "pedigree\r\n",
      "peekfd\r\n",
      "perl\r\n",
      "perl5.22-x86_64-linux-gnu\r\n",
      "perl5.22.1\r\n",
      "perlbug\r\n",
      "perldoc\r\n",
      "perlivp\r\n",
      "perltex\r\n",
      "perlthanks\r\n",
      "pf2afm\r\n",
      "pfarrei\r\n",
      "pfb2pfa\r\n",
      "pfb2t1c\r\n",
      "pfbtopfa\r\n",
      "pftp\r\n",
      "pg\r\n",
      "pgmbentley\r\n",
      "pgmcrater\r\n",
      "pgmedge\r\n",
      "pgmenhance\r\n",
      "pgmhist\r\n",
      "pgmkernel\r\n",
      "pgmnoise\r\n",
      "pgmnorm\r\n",
      "pgmoil\r\n",
      "pgmramp\r\n",
      "pgmslice\r\n",
      "pgmtexture\r\n",
      "pgmtofs\r\n",
      "pgmtolispm\r\n",
      "pgmtopbm\r\n",
      "pgmtoppm\r\n",
      "pgrep\r\n",
      "pi1toppm\r\n",
      "pi3topbm\r\n",
      "pic\r\n",
      "pico\r\n",
      "piconv\r\n",
      "pidproxy\r\n",
      "pinky\r\n",
      "pixeltool\r\n",
      "pjtoppm\r\n",
      "pk2bm\r\n",
      "pkaction\r\n",
      "pkcheck\r\n",
      "pkexec\r\n",
      "pkfix\r\n",
      "pkfix-helper\r\n",
      "pkill\r\n",
      "pktogf\r\n",
      "pkttyagent\r\n",
      "pktype\r\n",
      "pl2pm\r\n",
      "platex\r\n",
      "pldd\r\n",
      "pltotf\r\n",
      "pmap\r\n",
      "pmpost\r\n",
      "pmx2pdf\r\n",
      "pmxab\r\n",
      "pmxchords\r\n",
      "pngtopnm\r\n",
      "pnmalias\r\n",
      "pnmarith\r\n",
      "pnmcat\r\n",
      "pnmcolormap\r\n",
      "pnmcomp\r\n",
      "pnmconvol\r\n",
      "pnmcrop\r\n",
      "pnmcut\r\n",
      "pnmdepth\r\n",
      "pnmenlarge\r\n",
      "pnmfile\r\n",
      "pnmflip\r\n",
      "pnmgamma\r\n",
      "pnmhisteq\r\n",
      "pnmhistmap\r\n",
      "pnmindex\r\n",
      "pnminterp\r\n",
      "pnminterp-gen\r\n",
      "pnminvert\r\n",
      "pnmmargin\r\n",
      "pnmmontage\r\n",
      "pnmnlfilt\r\n",
      "pnmnoraw\r\n",
      "pnmnorm\r\n",
      "pnmpad\r\n",
      "pnmpaste\r\n",
      "pnmpsnr\r\n",
      "pnmquant\r\n",
      "pnmremap\r\n",
      "pnmrotate\r\n",
      "pnmscale\r\n",
      "pnmscalefixed\r\n",
      "pnmshear\r\n",
      "pnmsmooth\r\n",
      "pnmsplit\r\n",
      "pnmtile\r\n",
      "pnmtoddif\r\n",
      "pnmtofiasco\r\n",
      "pnmtofits\r\n",
      "pnmtojpeg\r\n",
      "pnmtopalm\r\n",
      "pnmtoplainpnm\r\n",
      "pnmtopng\r\n",
      "pnmtops\r\n",
      "pnmtorast\r\n",
      "pnmtorle\r\n",
      "pnmtosgi\r\n",
      "pnmtosir\r\n",
      "pnmtotiff\r\n",
      "pnmtotiffcmyk\r\n",
      "pnmtoxwd\r\n",
      "pod2html\r\n",
      "pod2man\r\n",
      "pod2texi\r\n",
      "pod2text\r\n",
      "pod2usage\r\n",
      "podchecker\r\n",
      "podselect\r\n",
      "policyeditor\r\n",
      "policytool\r\n",
      "pooltype\r\n",
      "pphs\r\n",
      "ppltotf\r\n",
      "ppm3d\r\n",
      "ppmbrighten\r\n",
      "ppmchange\r\n",
      "ppmcie\r\n",
      "ppmcolormask\r\n",
      "ppmcolors\r\n",
      "ppmdim\r\n",
      "ppmdist\r\n",
      "ppmdither\r\n",
      "ppmfade\r\n",
      "ppmflash\r\n",
      "ppmforge\r\n",
      "ppmhist\r\n",
      "ppmlabel\r\n",
      "ppmmake\r\n",
      "ppmmix\r\n",
      "ppmnorm\r\n",
      "ppmntsc\r\n",
      "ppmpat\r\n",
      "ppmquant\r\n",
      "ppmquantall\r\n",
      "ppmqvga\r\n",
      "ppmrainbow\r\n",
      "ppmrelief\r\n",
      "ppmshadow\r\n",
      "ppmshift\r\n",
      "ppmspread\r\n",
      "ppmtoacad\r\n",
      "ppmtobmp\r\n",
      "ppmtoeyuv\r\n",
      "ppmtogif\r\n",
      "ppmtoicr\r\n",
      "ppmtoilbm\r\n",
      "ppmtojpeg\r\n",
      "ppmtoleaf\r\n",
      "ppmtolj\r\n",
      "ppmtomap\r\n",
      "ppmtomitsu\r\n",
      "ppmtompeg\r\n",
      "ppmtoneo\r\n",
      "ppmtopcx\r\n",
      "ppmtopgm\r\n",
      "ppmtopi1\r\n",
      "ppmtopict\r\n",
      "ppmtopj\r\n",
      "ppmtopuzz\r\n",
      "ppmtorgb3\r\n",
      "ppmtosixel\r\n",
      "ppmtotga\r\n",
      "ppmtouil\r\n",
      "ppmtowinicon\r\n",
      "ppmtoxpm\r\n",
      "ppmtoyuv\r\n",
      "ppmtoyuvsplit\r\n",
      "ppmtv\r\n",
      "pr\r\n",
      "preconv\r\n",
      "prename\r\n",
      "prepmx\r\n",
      "prerex\r\n",
      "print\r\n",
      "printafm\r\n",
      "printenv\r\n",
      "printerbanner\r\n",
      "printf\r\n",
      "prlimit\r\n",
      "prove\r\n",
      "prtstat\r\n",
      "ps2ascii\r\n",
      "ps2eps\r\n",
      "ps2epsi\r\n",
      "ps2frag\r\n",
      "ps2pdf\r\n",
      "ps2pdf12\r\n",
      "ps2pdf13\r\n",
      "ps2pdf14\r\n",
      "ps2pdfwr\r\n",
      "ps2pk\r\n",
      "ps2ps\r\n",
      "ps2ps2\r\n",
      "ps2txt\r\n",
      "ps4pdf\r\n",
      "psbook\r\n",
      "psfaddtable\r\n",
      "psfgettable\r\n",
      "psfstriptable\r\n",
      "psfxtable\r\n",
      "psidtopgm\r\n",
      "psjoin\r\n",
      "pslatex\r\n",
      "psmerge\r\n",
      "psnup\r\n",
      "psresize\r\n",
      "psselect\r\n",
      "pst2pdf\r\n",
      "pstoedit\r\n",
      "pstopnm\r\n",
      "pstops\r\n",
      "pstree\r\n",
      "pstree.x11\r\n",
      "pstruct\r\n",
      "ptar\r\n",
      "ptardiff\r\n",
      "ptargrep\r\n",
      "ptex\r\n",
      "ptex2pdf\r\n",
      "ptftopl\r\n",
      "ptx\r\n",
      "purifyeps\r\n",
      "pwdx\r\n",
      "py3clean\r\n",
      "py3compile\r\n",
      "py3versions\r\n",
      "pybuild\r\n",
      "pyclean\r\n",
      "pycompile\r\n",
      "pydoc\r\n",
      "pydoc2.7\r\n",
      "pydoc3\r\n",
      "pydoc3.5\r\n",
      "pygettext\r\n",
      "pygettext2.7\r\n",
      "pygettext3\r\n",
      "pygettext3.5\r\n",
      "pygmentex\r\n",
      "python\r\n",
      "python2\r\n",
      "python2.7\r\n",
      "python3\r\n",
      "python3.5\r\n",
      "python3.5m\r\n",
      "python3m\r\n",
      "pythontex\r\n",
      "pythontex3\r\n",
      "pyversions\r\n",
      "qcollectiongenerator\r\n",
      "qdbus\r\n",
      "qdbuscpp2xml\r\n",
      "qdbusviewer\r\n",
      "qdbusxml2cpp\r\n",
      "qdoc\r\n",
      "qdoc3\r\n",
      "qglinfo\r\n",
      "qhelpconverter\r\n",
      "qhelpgenerator\r\n",
      "qlalr\r\n",
      "qmake\r\n",
      "qml\r\n",
      "qml1plugindump\r\n",
      "qmlbundle\r\n",
      "qmleasing\r\n",
      "qmlimportscanner\r\n",
      "qmllint\r\n",
      "qmlmin\r\n",
      "qmlplugindump\r\n",
      "qmlprofiler\r\n",
      "qmlscene\r\n",
      "qmltestrunner\r\n",
      "qmlviewer\r\n",
      "qrttoppm\r\n",
      "qtchooser\r\n",
      "qtconfig\r\n",
      "qtdiag\r\n",
      "qtpaths\r\n",
      "quota\r\n",
      "quotasync\r\n",
      "rake\r\n",
      "ranlib\r\n",
      "rasttopnm\r\n",
      "rawtopgm\r\n",
      "rawtoppm\r\n",
      "rcc\r\n",
      "rcp\r\n",
      "rdoc\r\n",
      "rdoc2.3\r\n",
      "readelf\r\n",
      "realpath\r\n",
      "rename\r\n",
      "rename.ul\r\n",
      "rendercheck\r\n",
      "renice\r\n",
      "repstopdf\r\n",
      "reset\r\n",
      "resize\r\n",
      "resizecons\r\n",
      "resizepart\r\n",
      "rev\r\n",
      "rgb3toppm\r\n",
      "rgrep\r\n",
      "ri\r\n",
      "ri2.3\r\n",
      "rletopnm\r\n",
      "rlogin\r\n",
      "rmail\r\n",
      "rmid\r\n",
      "rmiregistry\r\n",
      "routef\r\n",
      "routel\r\n",
      "rpcgen\r\n",
      "rpdfcrop\r\n",
      "rsh\r\n",
      "rstart\r\n",
      "rstartd\r\n",
      "rsync\r\n",
      "rtstat\r\n",
      "rubibtex\r\n",
      "rubikrotation\r\n",
      "ruby\r\n",
      "ruby2.3\r\n",
      "rumakeindex\r\n",
      "run-mailcap\r\n",
      "runcon\r\n",
      "rview\r\n",
      "rvim\r\n",
      "sage\r\n",
      "sagemath\r\n",
      "savelog\r\n",
      "sbigtopgm\r\n",
      "scor2prt\r\n",
      "scp\r\n",
      "screendump\r\n",
      "script\r\n",
      "scriptreplay\r\n",
      "sdiff\r\n",
      "see\r\n",
      "select-editor\r\n",
      "sensible-browser\r\n",
      "sensible-editor\r\n",
      "sensible-pager\r\n",
      "seq\r\n",
      "servertool\r\n",
      "sessreg\r\n",
      "setarch\r\n",
      "setfacl\r\n",
      "setkeycodes\r\n",
      "setleds\r\n",
      "setlogcons\r\n",
      "setmetamode\r\n",
      "setpci\r\n",
      "setsid\r\n",
      "setterm\r\n",
      "setxkbmap\r\n",
      "sftp\r\n",
      "sg\r\n",
      "sgitopnm\r\n",
      "sha1sum\r\n",
      "sha224sum\r\n",
      "sha256sum\r\n",
      "sha384sum\r\n",
      "sha512sum\r\n",
      "shasum\r\n",
      "showchar\r\n",
      "showconsolefont\r\n",
      "showkey\r\n",
      "showrgb\r\n",
      "shred\r\n",
      "shuf\r\n",
      "simpdftex\r\n",
      "sirtopnm\r\n",
      "size\r\n",
      "sjisconv\r\n",
      "sjislatex\r\n",
      "sjispdflatex\r\n",
      "skill\r\n",
      "slabtop\r\n",
      "sldtoppm\r\n",
      "slogin\r\n",
      "smproxy\r\n",
      "snice\r\n",
      "soelim\r\n",
      "sort\r\n",
      "sotruss\r\n",
      "spctoppm\r\n",
      "splain\r\n",
      "split\r\n",
      "splitfont\r\n",
      "splitindex\r\n",
      "sprof\r\n",
      "sputoppm\r\n",
      "ssh\r\n",
      "ssh-add\r\n",
      "ssh-agent\r\n",
      "ssh-argv0\r\n",
      "ssh-copy-id\r\n",
      "ssh-keygen\r\n",
      "ssh-keyscan\r\n",
      "st4topgm\r\n",
      "startx\r\n",
      "stat\r\n",
      "stdbuf\r\n",
      "strace\r\n",
      "stream\r\n",
      "stream-im6\r\n",
      "strings\r\n",
      "strip\r\n",
      "sty2dtx\r\n",
      "sudo\r\n",
      "sudoedit\r\n",
      "sudoreplay\r\n",
      "sum\r\n",
      "supervisorctl\r\n",
      "supervisord\r\n",
      "svn-multi\r\n",
      "synctex\r\n",
      "systemd-analyze\r\n",
      "systemd-cat\r\n",
      "systemd-cgls\r\n",
      "systemd-cgtop\r\n",
      "systemd-delta\r\n",
      "systemd-detect-virt\r\n",
      "systemd-path\r\n",
      "systemd-resolve\r\n",
      "systemd-run\r\n",
      "systemd-stdio-bridge\r\n",
      "t1ascii\r\n",
      "t1asm\r\n",
      "t1binary\r\n",
      "t1c2pfb\r\n",
      "t1disasm\r\n",
      "t1dotlessj\r\n",
      "t1lint\r\n",
      "t1mac\r\n",
      "t1rawafm\r\n",
      "t1reencode\r\n",
      "t1testpage\r\n",
      "t1unmac\r\n",
      "t4ht\r\n",
      "tabs\r\n",
      "tac\r\n",
      "tail\r\n",
      "tangle\r\n",
      "taskset\r\n",
      "tbl\r\n",
      "tclsh\r\n",
      "tclsh8.6\r\n",
      "teckit_compile\r\n",
      "tee\r\n",
      "telnet\r\n",
      "telnet.netkit\r\n",
      "test\r\n",
      "tex\r\n",
      "tex4ebook\r\n",
      "tex4ht\r\n",
      "texcount\r\n",
      "texdef\r\n",
      "texdiff\r\n",
      "texdirflatten\r\n",
      "texdoc\r\n",
      "texdoctk\r\n",
      "texexec\r\n",
      "texfind\r\n",
      "texfont\r\n",
      "texfot\r\n",
      "texhash\r\n",
      "texi2any\r\n",
      "texi2dvi\r\n",
      "texi2pdf\r\n",
      "texindex\r\n",
      "texliveonfly\r\n",
      "texloganalyser\r\n",
      "texlua\r\n",
      "texluac\r\n",
      "texluajit\r\n",
      "texluajitc\r\n",
      "texmfstart\r\n",
      "texsis\r\n",
      "tftopl\r\n",
      "tgatoppm\r\n",
      "thinkjettopbm\r\n",
      "thumbpdf\r\n",
      "tic\r\n",
      "tie\r\n",
      "tifftopnm\r\n",
      "time\r\n",
      "timedatectl\r\n",
      "timeout\r\n",
      "tl-paper\r\n",
      "tlmgr\r\n",
      "tload\r\n",
      "tnameserv\r\n",
      "toe\r\n",
      "top\r\n",
      "touch\r\n",
      "tpic2pdftex\r\n",
      "tput\r\n",
      "tr\r\n",
      "tracepath\r\n",
      "tracepath6\r\n",
      "traceroute6\r\n",
      "traceroute6.iputils\r\n",
      "transset\r\n",
      "tree\r\n",
      "troff\r\n",
      "truncate\r\n",
      "tset\r\n",
      "tsort\r\n",
      "ttf2afm\r\n",
      "ttf2kotexfont\r\n",
      "ttf2pk\r\n",
      "ttf2tfm\r\n",
      "ttfdump\r\n",
      "ttftotype42\r\n",
      "tty\r\n",
      "txixml2texi\r\n",
      "typeoutfileinfo\r\n",
      "tzselect\r\n",
      "ubuntu-support-status\r\n",
      "ucf\r\n",
      "ucfq\r\n",
      "ucfr\r\n",
      "uic\r\n",
      "uic3\r\n",
      "ul\r\n",
      "ulqda\r\n",
      "unexpand\r\n",
      "unicode_stop\r\n",
      "uniq\r\n",
      "unlink\r\n",
      "unlzma\r\n",
      "unpack200\r\n",
      "unshare\r\n",
      "unxz\r\n",
      "unzip\r\n",
      "unzipsfx\r\n",
      "upbibtex\r\n",
      "update-alternatives\r\n",
      "update-gconf-defaults\r\n",
      "update-leap\r\n",
      "update-mime-database\r\n",
      "update-mime-database.real\r\n",
      "update-perl-sax-parsers\r\n",
      "updatedb\r\n",
      "updatedb.mlocate\r\n",
      "updmap\r\n",
      "updmap-sys\r\n",
      "updvitomp\r\n",
      "updvitype\r\n",
      "uplatex\r\n",
      "upmpost\r\n",
      "uppltotf\r\n",
      "uptex\r\n",
      "uptftopl\r\n",
      "uptime\r\n",
      "urlbst\r\n",
      "usb-devices\r\n",
      "usbhid-dump\r\n",
      "users\r\n",
      "utf8mex\r\n",
      "utmpdump\r\n",
      "uuidgen\r\n",
      "uxterm\r\n",
      "vftovp\r\n",
      "vi\r\n",
      "view\r\n",
      "viewres\r\n",
      "vim\r\n",
      "vim.basic\r\n",
      "vim.tiny\r\n",
      "vimdiff\r\n",
      "vimtutor\r\n",
      "vlna\r\n",
      "vmstat\r\n",
      "volname\r\n",
      "vpe\r\n",
      "vpl2ovp\r\n",
      "vpl2vpl\r\n",
      "vprerex\r\n",
      "vptovf\r\n",
      "w\r\n",
      "w.procps\r\n",
      "wall\r\n",
      "watch\r\n",
      "wbmptopbm\r\n",
      "wc\r\n",
      "weave\r\n",
      "wftopfa\r\n",
      "wget\r\n",
      "whatis\r\n",
      "whereis\r\n",
      "which\r\n",
      "who\r\n",
      "whoami\r\n",
      "winicontoppm\r\n",
      "wish\r\n",
      "wish8.6\r\n",
      "wofm2opl\r\n",
      "wopl2ofm\r\n",
      "wovf2ovp\r\n",
      "wovp2ovf\r\n",
      "write\r\n",
      "x-terminal-emulator\r\n",
      "x11perf\r\n",
      "x11perfcomp\r\n",
      "x86_64\r\n",
      "x86_64-linux-gnu-addr2line\r\n",
      "x86_64-linux-gnu-ar\r\n",
      "x86_64-linux-gnu-as\r\n",
      "x86_64-linux-gnu-c++filt\r\n",
      "x86_64-linux-gnu-cpp\r\n",
      "x86_64-linux-gnu-cpp-5\r\n",
      "x86_64-linux-gnu-dwp\r\n",
      "x86_64-linux-gnu-elfedit\r\n",
      "x86_64-linux-gnu-g++\r\n",
      "x86_64-linux-gnu-g++-5\r\n",
      "x86_64-linux-gnu-gcc\r\n",
      "x86_64-linux-gnu-gcc-5\r\n",
      "x86_64-linux-gnu-gcc-ar\r\n",
      "x86_64-linux-gnu-gcc-ar-5\r\n",
      "x86_64-linux-gnu-gcc-nm\r\n",
      "x86_64-linux-gnu-gcc-nm-5\r\n",
      "x86_64-linux-gnu-gcc-ranlib\r\n",
      "x86_64-linux-gnu-gcc-ranlib-5\r\n",
      "x86_64-linux-gnu-gcov\r\n",
      "x86_64-linux-gnu-gcov-5\r\n",
      "x86_64-linux-gnu-gcov-tool\r\n",
      "x86_64-linux-gnu-gcov-tool-5\r\n",
      "x86_64-linux-gnu-gfortran\r\n",
      "x86_64-linux-gnu-gfortran-5\r\n",
      "x86_64-linux-gnu-gprof\r\n",
      "x86_64-linux-gnu-ld\r\n",
      "x86_64-linux-gnu-ld.bfd\r\n",
      "x86_64-linux-gnu-ld.gold\r\n",
      "x86_64-linux-gnu-nm\r\n",
      "x86_64-linux-gnu-objcopy\r\n",
      "x86_64-linux-gnu-objdump\r\n",
      "x86_64-linux-gnu-ranlib\r\n",
      "x86_64-linux-gnu-readelf\r\n",
      "x86_64-linux-gnu-size\r\n",
      "x86_64-linux-gnu-strings\r\n",
      "x86_64-linux-gnu-strip\r\n",
      "xargs\r\n",
      "xauth\r\n",
      "xbiff\r\n",
      "xbmtopbm\r\n",
      "xcalc\r\n",
      "xclipboard\r\n",
      "xclock\r\n",
      "xcmsdb\r\n",
      "xconsole\r\n",
      "xcursorgen\r\n",
      "xcutsel\r\n",
      "xdg-desktop-icon\r\n",
      "xdg-desktop-menu\r\n",
      "xdg-email\r\n",
      "xdg-icon-resource\r\n",
      "xdg-mime\r\n",
      "xdg-open\r\n",
      "xdg-screensaver\r\n",
      "xdg-settings\r\n",
      "xdg-user-dir\r\n",
      "xdg-user-dirs-update\r\n",
      "xditview\r\n",
      "xdpyinfo\r\n",
      "xdriinfo\r\n",
      "xdvi\r\n",
      "xdvi-xaw\r\n",
      "xdvi.bin\r\n",
      "xdvipdfmx\r\n",
      "xedit\r\n",
      "xelatex\r\n",
      "xelollipop\r\n",
      "xetex\r\n",
      "xev\r\n",
      "xeyes\r\n",
      "xfd\r\n",
      "xfontsel\r\n",
      "xgamma\r\n",
      "xgc\r\n",
      "xhost\r\n",
      "ximtoppm\r\n",
      "xinit\r\n",
      "xkbbell\r\n",
      "xkbcomp\r\n",
      "xkbevd\r\n",
      "xkbprint\r\n",
      "xkbvleds\r\n",
      "xkbwatch\r\n",
      "xkeystone\r\n",
      "xkill\r\n",
      "xload\r\n",
      "xlogo\r\n",
      "xlsatoms\r\n",
      "xlsclients\r\n",
      "xlsfonts\r\n",
      "xmag\r\n",
      "xman\r\n",
      "xmessage\r\n",
      "xmlpatterns\r\n",
      "xmlpatternsvalidator\r\n",
      "xmltex\r\n",
      "xmodmap\r\n",
      "xmore\r\n",
      "xpmtoppm\r\n",
      "xprop\r\n",
      "xrandr\r\n",
      "xrdb\r\n",
      "xrefresh\r\n",
      "xset\r\n",
      "xsetmode\r\n",
      "xsetpointer\r\n",
      "xsetroot\r\n",
      "xsm\r\n",
      "xstdcmap\r\n",
      "xsubpp\r\n",
      "xterm\r\n",
      "xvidtune\r\n",
      "xvinfo\r\n",
      "xvminitoppm\r\n",
      "xwd\r\n",
      "xwdtopnm\r\n",
      "xwininfo\r\n",
      "xwud\r\n",
      "xxd\r\n",
      "xz\r\n",
      "xzcat\r\n",
      "xzcmp\r\n",
      "xzdiff\r\n",
      "xzegrep\r\n",
      "xzfgrep\r\n",
      "xzgrep\r\n",
      "xzless\r\n",
      "xzmore\r\n",
      "ybmtopbm\r\n",
      "yes\r\n",
      "yplan\r\n",
      "yuvsplittoppm\r\n",
      "yuvtoppm\r\n",
      "zathura\r\n",
      "zdump\r\n",
      "zeisstopnm\r\n",
      "zip\r\n",
      "zipcloak\r\n",
      "zipdetails\r\n",
      "zipgrep\r\n",
      "zipinfo\r\n",
      "zipnote\r\n",
      "zipsplit\r\n",
      "aa-exec\r\n",
      "aa-status\r\n",
      "accessdb\r\n",
      "add-shell\r\n",
      "addgroup\r\n",
      "adduser\r\n",
      "apparmor_status\r\n",
      "arp\r\n",
      "arpd\r\n",
      "biosdecode\r\n",
      "blkmapd\r\n",
      "chgpasswd\r\n",
      "chpasswd\r\n",
      "chroot\r\n",
      "convertquota\r\n",
      "cpgr\r\n",
      "cppw\r\n",
      "cron\r\n",
      "delgroup\r\n",
      "deluser\r\n",
      "dmidecode\r\n",
      "dpkg-divert\r\n",
      "dpkg-preconfigure\r\n",
      "dpkg-reconfigure\r\n",
      "dpkg-statoverride\r\n",
      "e2freefrag\r\n",
      "e4defrag\r\n",
      "edquota\r\n",
      "fdformat\r\n",
      "filefrag\r\n",
      "gconf-schemas\r\n",
      "genl\r\n",
      "groupadd\r\n",
      "groupdel\r\n",
      "groupmod\r\n",
      "grpck\r\n",
      "grpconv\r\n",
      "grpunconv\r\n",
      "gss_clnt_send_err\r\n",
      "gss_destroy_creds\r\n",
      "iconvconfig\r\n",
      "install-sgmlcatalog\r\n",
      "invoke-rc.d\r\n",
      "ip6tables-apply\r\n",
      "iptables-apply\r\n",
      "irqbalance\r\n",
      "iscsi-iname\r\n",
      "iscsi_discovery\r\n",
      "iscsid\r\n",
      "iscsistart\r\n",
      "ldattach\r\n",
      "locale-gen\r\n",
      "logrotate\r\n",
      "make-ssl-cert\r\n",
      "mkinitramfs\r\n",
      "mklost+found\r\n",
      "mountstats\r\n",
      "newusers\r\n",
      "nfnl_osf\r\n",
      "nfsidmap\r\n",
      "nfsiostat\r\n",
      "nfsstat\r\n",
      "nginx\r\n",
      "nologin\r\n",
      "nslcd\r\n",
      "ntp-keygen\r\n",
      "ntp-wait\r\n",
      "ntpd\r\n",
      "ntptime\r\n",
      "ownership\r\n",
      "pam-auth-update\r\n",
      "pam_getenv\r\n",
      "pam_timestamp_check\r\n",
      "paperconfig\r\n",
      "popcon-largest-unused\r\n",
      "popularity-contest\r\n",
      "postalias\r\n",
      "postcat\r\n",
      "postconf\r\n",
      "postdrop\r\n",
      "postfix\r\n",
      "postfix-add-filter\r\n",
      "postfix-add-policy\r\n",
      "postkick\r\n",
      "postlock\r\n",
      "postlog\r\n",
      "postmap\r\n",
      "postmulti\r\n",
      "postqueue\r\n",
      "postsuper\r\n",
      "posttls-finger\r\n",
      "pwck\r\n",
      "pwconv\r\n",
      "pwunconv\r\n",
      "qmqp-sink\r\n",
      "qmqp-source\r\n",
      "qshape\r\n",
      "quot\r\n",
      "quota_nld\r\n",
      "quotastats\r\n",
      "readprofile\r\n",
      "remove-shell\r\n",
      "repquota\r\n",
      "rmail\r\n",
      "rmt\r\n",
      "rmt-tar\r\n",
      "rpc.gssd\r\n",
      "rpc.idmapd\r\n",
      "rpc.rquotad\r\n",
      "rpc.svcgssd\r\n",
      "rpcdebug\r\n",
      "rpcinfo\r\n",
      "rsyslogd\r\n",
      "rtcwake\r\n",
      "sendmail\r\n",
      "service\r\n",
      "setquota\r\n",
      "setvesablank\r\n",
      "smtp-sink\r\n",
      "smtp-source\r\n",
      "sshd\r\n",
      "start-statd\r\n",
      "tarcat\r\n",
      "tcpdump\r\n",
      "tunelp\r\n",
      "tzconfig\r\n",
      "ufw\r\n",
      "update-alternatives\r\n",
      "update-ca-certificates\r\n",
      "update-catalog\r\n",
      "update-fmtutil\r\n",
      "update-gsfontmap\r\n",
      "update-icon-caches\r\n",
      "update-icon-caches.gtk2\r\n",
      "update-info-dir\r\n",
      "update-initramfs\r\n",
      "update-java-alternatives\r\n",
      "update-language\r\n",
      "update-language-dat\r\n",
      "update-language-def\r\n",
      "update-language-lua\r\n",
      "update-locale\r\n",
      "update-mime\r\n",
      "update-passwd\r\n",
      "update-pciids\r\n",
      "update-rc.d\r\n",
      "update-texmf\r\n",
      "update-texmf-config\r\n",
      "update-tl-stacked-conffile\r\n",
      "update-updmap\r\n",
      "update-usbids\r\n",
      "update-xmlcatalog\r\n",
      "useradd\r\n",
      "userdel\r\n",
      "usermod\r\n",
      "uuidd\r\n",
      "validlocale\r\n",
      "vcstime\r\n",
      "vigr\r\n",
      "vipw\r\n",
      "visudo\r\n",
      "vpddecode\r\n",
      "warnquota\r\n",
      "xqmstats\r\n",
      "zic\r\n"
     ]
    }
   ],
   "source": [
    "grep -h '^[A-Za-z0-9]' dirlist*.txt"
   ]
  },
  {
   "cell_type": "code",
   "execution_count": 18,
   "metadata": {
    "collapsed": false,
    "slideshow": {
     "slide_type": "slide"
    }
   },
   "outputs": [
    {
     "name": "stdout",
     "output_type": "stream",
     "text": [
      "MAKEDEV\r\n",
      "GET\r\n",
      "HEAD\r\n",
      "POST\r\n",
      "X11\r\n"
     ]
    }
   ],
   "source": [
    "grep -h '[A-Z]' dirlist*.txt"
   ]
  },
  {
   "cell_type": "code",
   "execution_count": 1,
   "metadata": {
    "collapsed": false,
    "slideshow": {
     "slide_type": "slide"
    }
   },
   "outputs": [
    {
     "name": "stdout",
     "output_type": "stream",
     "text": [
      "lowntfs-3g\r\n",
      "mt-gnu\r\n",
      "ntfs-3g\r\n",
      "ntfs-3g.probe\r\n",
      "ntfs-3g.secaudit\r\n",
      "ntfs-3g.usermap\r\n",
      "run-parts\r\n",
      "static-sh\r\n",
      "systemd-ask-password\r\n",
      "systemd-escape\r\n",
      "systemd-hwdb\r\n",
      "systemd-inhibit\r\n",
      "systemd-machine-id-setup\r\n",
      "systemd-notify\r\n",
      "systemd-tmpfiles\r\n",
      "systemd-tty-ask-password-agent\r\n",
      "MAKEDEV\r\n",
      "dhclient-script\r\n",
      "fstab-decode\r\n",
      "ip6tables-restore\r\n",
      "ip6tables-save\r\n",
      "iptables-restore\r\n",
      "iptables-save\r\n",
      "iscsi-iname\r\n",
      "mii-tool\r\n",
      "mount.lowntfs-3g\r\n",
      "mount.ntfs-3g\r\n",
      "request-key\r\n",
      "sm-notify\r\n",
      "start-stop-daemon\r\n",
      "xtables-multi\r\n",
      "2to3-2.7\r\n",
      "2to3-3.5\r\n",
      "HEAD\r\n",
      "aa-enabled\r\n",
      "animate-im6\r\n",
      "apt-cache\r\n",
      "apt-cdrom\r\n",
      "apt-config\r\n",
      "apt-extracttemplates\r\n",
      "apt-ftparchive\r\n",
      "apt-get\r\n",
      "apt-key\r\n",
      "apt-mark\r\n",
      "apt-sortpkgs\r\n",
      "aptitude-create-state-bundle\r\n",
      "aptitude-curses\r\n",
      "aptitude-run-state-bundle\r\n",
      "bsd-from\r\n",
      "bsd-write\r\n",
      "c89-gcc\r\n",
      "c99-gcc\r\n",
      "cautious-launcher\r\n",
      "cd-create-profile\r\n",
      "cd-fix-profile\r\n",
      "cd-iccdump\r\n",
      "cd-it8\r\n",
      "check-language-support\r\n",
      "cjk-gs-integrate\r\n",
      "compare-im6\r\n",
      "composite-im6\r\n",
      "conjure-im6\r\n",
      "convert-im6\r\n",
      "cpan5.22-x86_64-linux-gnu\r\n",
      "cpp-5\r\n",
      "dbus-cleanup-sockets\r\n",
      "dbus-daemon\r\n",
      "dbus-launch\r\n",
      "dbus-monitor\r\n",
      "dbus-run-session\r\n",
      "dbus-send\r\n",
      "dbus-update-activation-environment\r\n",
      "dbus-uuidgen\r\n",
      "de-macro\r\n",
      "deb-systemd-helper\r\n",
      "deb-systemd-invoke\r\n",
      "debconf-apt-progress\r\n",
      "debconf-communicate\r\n",
      "debconf-copydb\r\n",
      "debconf-escape\r\n",
      "debconf-set-selections\r\n",
      "debconf-show\r\n",
      "dh_bash-completion\r\n",
      "display-im6\r\n",
      "do-release-upgrade\r\n",
      "dpkg-architecture\r\n",
      "dpkg-buildflags\r\n",
      "dpkg-buildpackage\r\n",
      "dpkg-checkbuilddeps\r\n",
      "dpkg-deb\r\n",
      "dpkg-distaddfile\r\n",
      "dpkg-divert\r\n",
      "dpkg-genchanges\r\n",
      "dpkg-gencontrol\r\n",
      "dpkg-gensymbols\r\n",
      "dpkg-maintscript-helper\r\n",
      "dpkg-mergechangelogs\r\n",
      "dpkg-name\r\n",
      "dpkg-parsechangelog\r\n",
      "dpkg-query\r\n",
      "dpkg-scanpackages\r\n",
      "dpkg-scansources\r\n",
      "dpkg-shlibdeps\r\n",
      "dpkg-source\r\n",
      "dpkg-split\r\n",
      "dpkg-statoverride\r\n",
      "dpkg-trigger\r\n",
      "dpkg-vendor\r\n",
      "emacs24-x\r\n",
      "faked-sysv\r\n",
      "faked-tcp\r\n",
      "fakeroot-sysv\r\n",
      "fakeroot-tcp\r\n",
      "fc-cache\r\n",
      "fc-cat\r\n",
      "fc-list\r\n",
      "fc-match\r\n",
      "fc-pattern\r\n",
      "fc-query\r\n",
      "fc-scan\r\n",
      "fc-validate\r\n",
      "file-rename\r\n",
      "fmtutil-sys\r\n",
      "g++-5\r\n",
      "gcc-5\r\n",
      "gcc-ar\r\n",
      "gcc-ar-5\r\n",
      "gcc-nm\r\n",
      "gcc-nm-5\r\n",
      "gcc-ranlib\r\n",
      "gcc-ranlib-5\r\n",
      "gconf-merge-tree\r\n",
      "gconftool-2\r\n",
      "gcov-5\r\n",
      "gcov-tool\r\n",
      "gcov-tool-5\r\n",
      "gfortran-5\r\n",
      "ginstall-info\r\n",
      "git-receive-pack\r\n",
      "git-shell\r\n",
      "git-upload-archive\r\n",
      "git-upload-pack\r\n",
      "gpg-zip\r\n",
      "grep-changelog\r\n",
      "grep-changelog.emacs24\r\n",
      "gsettings-data-convert\r\n",
      "gsettings-schema-convert\r\n",
      "gtk-builder-tool\r\n",
      "gtk-launch\r\n",
      "gtk-update-icon-cache\r\n",
      "gtk-update-icon-cache-3.0\r\n",
      "identify-im6\r\n",
      "import-im6\r\n",
      "install-info\r\n",
      "installfont-tl\r\n",
      "iptables-xml\r\n",
      "itweb-settings\r\n",
      "jamo-normalize\r\n",
      "kanji-config-updmap\r\n",
      "kanji-config-updmap-sys\r\n",
      "kanji-fontmap-creator\r\n",
      "latex-git-log\r\n",
      "latexdiff-cvs\r\n",
      "latexdiff-fast\r\n",
      "latexdiff-git\r\n",
      "latexdiff-hg\r\n",
      "latexdiff-rcs\r\n",
      "latexdiff-svn\r\n",
      "latexdiff-vc\r\n",
      "lily-glyph-commands\r\n",
      "lily-image-commands\r\n",
      "lily-rebuild-pdfs\r\n",
      "linux-version\r\n",
      "listings-ext\r\n",
      "luaotfload-tool\r\n",
      "lwp-download\r\n",
      "lwp-dump\r\n",
      "lwp-mirror\r\n",
      "lwp-request\r\n",
      "m-tx\r\n",
      "m17n-db\r\n",
      "make-first-existing-target\r\n",
      "makeglossaries-lite\r\n",
      "mf-nowin\r\n",
      "mogrify-im6\r\n",
      "montage-im6\r\n",
      "mosh-client\r\n",
      "mosh-server\r\n",
      "netkit-ftp\r\n",
      "pamstretch-gen\r\n",
      "pdfjam-pocketmod\r\n",
      "pdfjam-slides3up\r\n",
      "pdfjam-slides6up\r\n",
      "perl5.22-x86_64-linux-gnu\r\n",
      "pkfix-helper\r\n",
      "pnminterp-gen\r\n",
      "run-mailcap\r\n",
      "select-editor\r\n",
      "sensible-browser\r\n",
      "sensible-editor\r\n",
      "sensible-pager\r\n",
      "ssh-add\r\n",
      "ssh-agent\r\n",
      "ssh-argv0\r\n",
      "ssh-copy-id\r\n",
      "ssh-keygen\r\n",
      "ssh-keyscan\r\n",
      "stream-im6\r\n",
      "svn-multi\r\n",
      "systemd-analyze\r\n",
      "systemd-cat\r\n",
      "systemd-cgls\r\n",
      "systemd-cgtop\r\n",
      "systemd-delta\r\n",
      "systemd-detect-virt\r\n",
      "systemd-path\r\n",
      "systemd-resolve\r\n",
      "systemd-run\r\n",
      "systemd-stdio-bridge\r\n",
      "tl-paper\r\n",
      "ubuntu-support-status\r\n",
      "update-alternatives\r\n",
      "update-gconf-defaults\r\n",
      "update-leap\r\n",
      "update-mime-database\r\n",
      "update-mime-database.real\r\n",
      "update-perl-sax-parsers\r\n",
      "updmap-sys\r\n",
      "usb-devices\r\n",
      "usbhid-dump\r\n",
      "x-terminal-emulator\r\n",
      "x86_64-linux-gnu-addr2line\r\n",
      "x86_64-linux-gnu-ar\r\n",
      "x86_64-linux-gnu-as\r\n",
      "x86_64-linux-gnu-c++filt\r\n",
      "x86_64-linux-gnu-cpp\r\n",
      "x86_64-linux-gnu-cpp-5\r\n",
      "x86_64-linux-gnu-dwp\r\n",
      "x86_64-linux-gnu-elfedit\r\n",
      "x86_64-linux-gnu-g++\r\n",
      "x86_64-linux-gnu-g++-5\r\n",
      "x86_64-linux-gnu-gcc\r\n",
      "x86_64-linux-gnu-gcc-5\r\n",
      "x86_64-linux-gnu-gcc-ar\r\n",
      "x86_64-linux-gnu-gcc-ar-5\r\n",
      "x86_64-linux-gnu-gcc-nm\r\n",
      "x86_64-linux-gnu-gcc-nm-5\r\n",
      "x86_64-linux-gnu-gcc-ranlib\r\n",
      "x86_64-linux-gnu-gcc-ranlib-5\r\n",
      "x86_64-linux-gnu-gcov\r\n",
      "x86_64-linux-gnu-gcov-5\r\n",
      "x86_64-linux-gnu-gcov-tool\r\n",
      "x86_64-linux-gnu-gcov-tool-5\r\n",
      "x86_64-linux-gnu-gfortran\r\n",
      "x86_64-linux-gnu-gfortran-5\r\n",
      "x86_64-linux-gnu-gprof\r\n",
      "x86_64-linux-gnu-ld\r\n",
      "x86_64-linux-gnu-ld.bfd\r\n",
      "x86_64-linux-gnu-ld.gold\r\n",
      "x86_64-linux-gnu-nm\r\n",
      "x86_64-linux-gnu-objcopy\r\n",
      "x86_64-linux-gnu-objdump\r\n",
      "x86_64-linux-gnu-ranlib\r\n",
      "x86_64-linux-gnu-readelf\r\n",
      "x86_64-linux-gnu-size\r\n",
      "x86_64-linux-gnu-strings\r\n",
      "x86_64-linux-gnu-strip\r\n",
      "xdg-desktop-icon\r\n",
      "xdg-desktop-menu\r\n",
      "xdg-email\r\n",
      "xdg-icon-resource\r\n",
      "xdg-mime\r\n",
      "xdg-open\r\n",
      "xdg-screensaver\r\n",
      "xdg-settings\r\n",
      "xdg-user-dir\r\n",
      "xdg-user-dirs-update\r\n",
      "xdvi-xaw\r\n",
      "aa-exec\r\n",
      "aa-status\r\n",
      "add-shell\r\n",
      "dpkg-divert\r\n",
      "dpkg-preconfigure\r\n",
      "dpkg-reconfigure\r\n",
      "dpkg-statoverride\r\n",
      "gconf-schemas\r\n",
      "install-sgmlcatalog\r\n",
      "invoke-rc.d\r\n",
      "ip6tables-apply\r\n",
      "iptables-apply\r\n",
      "iscsi-iname\r\n",
      "locale-gen\r\n",
      "make-ssl-cert\r\n",
      "ntp-keygen\r\n",
      "ntp-wait\r\n",
      "pam-auth-update\r\n",
      "popcon-largest-unused\r\n",
      "popularity-contest\r\n",
      "postfix-add-filter\r\n",
      "postfix-add-policy\r\n",
      "posttls-finger\r\n",
      "qmqp-sink\r\n",
      "qmqp-source\r\n",
      "remove-shell\r\n",
      "rmt-tar\r\n",
      "smtp-sink\r\n",
      "smtp-source\r\n",
      "start-statd\r\n",
      "update-alternatives\r\n",
      "update-ca-certificates\r\n",
      "update-catalog\r\n",
      "update-fmtutil\r\n",
      "update-gsfontmap\r\n",
      "update-icon-caches\r\n",
      "update-icon-caches.gtk2\r\n",
      "update-info-dir\r\n",
      "update-initramfs\r\n",
      "update-java-alternatives\r\n",
      "update-language\r\n",
      "update-language-dat\r\n",
      "update-language-def\r\n",
      "update-language-lua\r\n",
      "update-locale\r\n",
      "update-mime\r\n",
      "update-passwd\r\n",
      "update-pciids\r\n",
      "update-rc.d\r\n",
      "update-texmf\r\n",
      "update-texmf-config\r\n",
      "update-tl-stacked-conffile\r\n",
      "update-updmap\r\n",
      "update-usbids\r\n",
      "update-xmlcatalog\r\n"
     ]
    }
   ],
   "source": [
    "grep -h '[-AZ]' dirlist*.txt"
   ]
  },
  {
   "cell_type": "markdown",
   "metadata": {
    "slideshow": {
     "slide_type": "slide"
    }
   },
   "source": [
    "# Klasy znakow POSIX\n",
    "\n",
    "* [:alnum:] alfanumeryczne, [A-Za-z0-9]\n",
    "* [:alpha:] alfabet, [A-Za-z]\n",
    "* [:blank:] spacje, taby\n",
    "* [:digit:] cyfry 0-9\n",
    "* [:lower:] male litery\n",
    "* [:punct:] interpunkcja, [-!\"#$%&'()*+,./:;<=>?@[\\\\\\]_`{|}~]\n",
    "* [:space:] spacje, taby, nowa linia etc., [ \\t\\r\\n\\v\\f]\n",
    "* [:upper:] duze litery\n",
    "* [:xdigit:] reprezentacja heksadecymalna,[0-9A-Fa-f]"
   ]
  },
  {
   "cell_type": "code",
   "execution_count": 24,
   "metadata": {
    "collapsed": false,
    "slideshow": {
     "slide_type": "slide"
    }
   },
   "outputs": [
    {
     "name": "stdout",
     "output_type": "stream",
     "text": [
      "/usr/bin/GET  /usr/bin/HEAD  /usr/bin/POST  /usr/bin/X11\r\n"
     ]
    }
   ],
   "source": [
    "ls -d /usr/bin/[[:upper:]]*"
   ]
  },
  {
   "cell_type": "markdown",
   "metadata": {
    "slideshow": {
     "slide_type": "slide"
    }
   },
   "source": [
    "# POSIX \n",
    "\n",
    "* Basic Regular Expressions (BRE) ^ $ . [ ] *\n",
    "* Extended Regular Expressions (ERE), dodatkowo ( ) { } ? + |, grep -E"
   ]
  },
  {
   "cell_type": "markdown",
   "metadata": {
    "slideshow": {
     "slide_type": "slide"
    }
   },
   "source": [
    "# | Alternatywa"
   ]
  },
  {
   "cell_type": "code",
   "execution_count": 25,
   "metadata": {
    "collapsed": false,
    "slideshow": {
     "slide_type": "fragment"
    }
   },
   "outputs": [
    {
     "name": "stdout",
     "output_type": "stream",
     "text": [
      "AAA\r\n"
     ]
    }
   ],
   "source": [
    "echo \"AAA\" | grep AAA"
   ]
  },
  {
   "cell_type": "code",
   "execution_count": 26,
   "metadata": {
    "collapsed": false,
    "slideshow": {
     "slide_type": "fragment"
    }
   },
   "outputs": [
    {
     "name": "stdout",
     "output_type": "stream",
     "text": []
    }
   ],
   "source": [
    "echo \"BBB\" | grep AAA"
   ]
  },
  {
   "cell_type": "code",
   "execution_count": 27,
   "metadata": {
    "collapsed": false,
    "slideshow": {
     "slide_type": "fragment"
    }
   },
   "outputs": [
    {
     "name": "stdout",
     "output_type": "stream",
     "text": [
      "AAA\r\n"
     ]
    }
   ],
   "source": [
    "echo \"AAA\" | grep -E 'AAA|BBB'"
   ]
  },
  {
   "cell_type": "code",
   "execution_count": 28,
   "metadata": {
    "collapsed": false,
    "slideshow": {
     "slide_type": "fragment"
    }
   },
   "outputs": [
    {
     "name": "stdout",
     "output_type": "stream",
     "text": [
      "BBB\r\n"
     ]
    }
   ],
   "source": [
    "echo \"BBB\" | grep -E 'AAA|BBB'"
   ]
  },
  {
   "cell_type": "code",
   "execution_count": 29,
   "metadata": {
    "collapsed": false,
    "slideshow": {
     "slide_type": "fragment"
    }
   },
   "outputs": [
    {
     "name": "stdout",
     "output_type": "stream",
     "text": []
    }
   ],
   "source": [
    "echo \"CCC\" | grep -E 'AAA|BBB'"
   ]
  },
  {
   "cell_type": "code",
   "execution_count": 30,
   "metadata": {
    "collapsed": false,
    "slideshow": {
     "slide_type": "slide"
    }
   },
   "outputs": [
    {
     "name": "stdout",
     "output_type": "stream",
     "text": [
      "bzcat\r\n",
      "bzcmp\r\n",
      "bzdiff\r\n",
      "bzegrep\r\n",
      "bzexe\r\n",
      "bzfgrep\r\n",
      "bzgrep\r\n",
      "bzip2\r\n",
      "bzip2recover\r\n",
      "bzless\r\n",
      "bzmore\r\n",
      "gzexe\r\n",
      "gzip\r\n",
      "zip\r\n",
      "zipcloak\r\n",
      "zipdetails\r\n",
      "zipgrep\r\n",
      "zipinfo\r\n",
      "zipnote\r\n",
      "zipsplit\r\n"
     ]
    }
   ],
   "source": [
    "grep -Eh '^(bz|gz|zip)' dirlist*.txt"
   ]
  },
  {
   "cell_type": "code",
   "execution_count": 31,
   "metadata": {
    "collapsed": false,
    "slideshow": {
     "slide_type": "slide"
    }
   },
   "outputs": [
    {
     "name": "stdout",
     "output_type": "stream",
     "text": [
      "bunzip2\r\n",
      "bzcat\r\n",
      "bzcmp\r\n",
      "bzdiff\r\n",
      "bzegrep\r\n",
      "bzexe\r\n",
      "bzfgrep\r\n",
      "bzgrep\r\n",
      "bzip2\r\n",
      "bzip2recover\r\n",
      "bzless\r\n",
      "bzmore\r\n",
      "gunzip\r\n",
      "gzexe\r\n",
      "gzip\r\n",
      "funzip\r\n",
      "gpg-zip\r\n",
      "unzip\r\n",
      "unzipsfx\r\n",
      "zip\r\n",
      "zipcloak\r\n",
      "zipdetails\r\n",
      "zipgrep\r\n",
      "zipinfo\r\n",
      "zipnote\r\n",
      "zipsplit\r\n"
     ]
    }
   ],
   "source": [
    "grep -Eh '^bz|gz|zip' dirlist*.txt"
   ]
  },
  {
   "cell_type": "markdown",
   "metadata": {
    "slideshow": {
     "slide_type": "slide"
    }
   },
   "source": [
    "# ? Opcjonalny lub jednokrotne wystapienie\n",
    "\n",
    "Numery telefonow w formacie (nnn) nnn-nnnn lub nnn nnn-nnnn\n",
    "\n",
    "\\(?[0-9][0-9][0-9]\\)? [0-9][0-9][0-9]-[0-9][0-9][0-9][0-9]"
   ]
  },
  {
   "cell_type": "code",
   "execution_count": 43,
   "metadata": {
    "collapsed": false,
    "slideshow": {
     "slide_type": "fragment"
    }
   },
   "outputs": [
    {
     "name": "stdout",
     "output_type": "stream",
     "text": [
      "(555) 123-4567\r\n"
     ]
    }
   ],
   "source": [
    "echo \"(555) 123-4567\" | grep -E '\\(?[0-9][0-9][0-9]\\)? [0-9][0-9][0-9]'"
   ]
  },
  {
   "cell_type": "code",
   "execution_count": 44,
   "metadata": {
    "collapsed": false,
    "slideshow": {
     "slide_type": "fragment"
    }
   },
   "outputs": [
    {
     "name": "stdout",
     "output_type": "stream",
     "text": [
      "555 123-4567\r\n"
     ]
    }
   ],
   "source": [
    "echo \"555 123-4567\" | grep -E '\\(?[0-9][0-9][0-9]\\)? [0-9][0-9][0-9]-[0-9][0-9][0-9][0-9]'"
   ]
  },
  {
   "cell_type": "code",
   "execution_count": 45,
   "metadata": {
    "collapsed": false,
    "slideshow": {
     "slide_type": "fragment"
    }
   },
   "outputs": [
    {
     "name": "stdout",
     "output_type": "stream",
     "text": []
    }
   ],
   "source": [
    "echo \"AAA 123-4567\" | grep -E '^\\(?[0-9][0-9][0-9]\\)? [0-9][0-9][0-9]-[0-9][0-9][0-9][0-9]'"
   ]
  },
  {
   "cell_type": "markdown",
   "metadata": {
    "slideshow": {
     "slide_type": "slide"
    }
   },
   "source": [
    "# * Opcjonalny lub wielokrotne wystapienie\n",
    "\n",
    "Zdanie zaczynajace sie od duzej litery i konczace sie kropka\n",
    "\n",
    "[[:upper:]][[:upper:][:lower:] ]*\\\\."
   ]
  },
  {
   "cell_type": "code",
   "execution_count": 47,
   "metadata": {
    "collapsed": false,
    "slideshow": {
     "slide_type": "fragment"
    }
   },
   "outputs": [
    {
     "name": "stdout",
     "output_type": "stream",
     "text": [
      "To dziala.\r\n"
     ]
    }
   ],
   "source": [
    "echo \"To dziala.\" | grep -E '[[:upper:]][[:upper:][:lower:] ]*\\.'"
   ]
  },
  {
   "cell_type": "code",
   "execution_count": 48,
   "metadata": {
    "collapsed": false,
    "slideshow": {
     "slide_type": "fragment"
    }
   },
   "outputs": [
    {
     "name": "stdout",
     "output_type": "stream",
     "text": [
      "To Tez Dziala.\r\n"
     ]
    }
   ],
   "source": [
    "echo \"To Tez Dziala.\" | grep -E '[[:upper:]][[:upper:][:lower:] ]*\\.'"
   ]
  },
  {
   "cell_type": "code",
   "execution_count": 49,
   "metadata": {
    "collapsed": false,
    "slideshow": {
     "slide_type": "fragment"
    }
   },
   "outputs": [
    {
     "name": "stdout",
     "output_type": "stream",
     "text": []
    }
   ],
   "source": [
    "echo \"a to juz nie.\" | grep -E '[[:upper:]][[:upper:][:lower:] ]*\\.'"
   ]
  },
  {
   "cell_type": "markdown",
   "metadata": {
    "slideshow": {
     "slide_type": "slide"
    }
   },
   "source": [
    "# + Jedno lub wielokrotne wystapienie\n",
    "\n",
    "Grupa jednej lub wielu znakow oddzielonych pojedyncza spacja\n",
    "\n",
    "^([[:alpha:]]+ ?)+$"
   ]
  },
  {
   "cell_type": "code",
   "execution_count": 59,
   "metadata": {
    "collapsed": false,
    "slideshow": {
     "slide_type": "fragment"
    }
   },
   "outputs": [
    {
     "name": "stdout",
     "output_type": "stream",
     "text": [
      "To i tamto\r\n"
     ]
    }
   ],
   "source": [
    "echo \"To i tamto\" | grep -E '^([[:alpha:]]+ ?)+$'"
   ]
  },
  {
   "cell_type": "code",
   "execution_count": 60,
   "metadata": {
    "collapsed": false,
    "slideshow": {
     "slide_type": "fragment"
    }
   },
   "outputs": [
    {
     "name": "stdout",
     "output_type": "stream",
     "text": [
      "a b c\r\n"
     ]
    }
   ],
   "source": [
    "echo \"a b c\" | grep -E '^([[:alpha:]]+ ?)+$'"
   ]
  },
  {
   "cell_type": "code",
   "execution_count": 61,
   "metadata": {
    "collapsed": false,
    "slideshow": {
     "slide_type": "fragment"
    }
   },
   "outputs": [
    {
     "name": "stdout",
     "output_type": "stream",
     "text": []
    }
   ],
   "source": [
    "echo \"a b 9\" | grep -E '^([[:alpha:]]+ ?)+$'"
   ]
  },
  {
   "cell_type": "code",
   "execution_count": 62,
   "metadata": {
    "collapsed": false,
    "slideshow": {
     "slide_type": "fragment"
    }
   },
   "outputs": [
    {
     "name": "stdout",
     "output_type": "stream",
     "text": []
    }
   ],
   "source": [
    "echo \"abc  d\" | grep -E '^([[:alpha:]]+ ?)+$'"
   ]
  },
  {
   "cell_type": "markdown",
   "metadata": {
    "slideshow": {
     "slide_type": "slide"
    }
   },
   "source": [
    "# \\{ \\} Okreslona liczba wystapien\n",
    "\n",
    "* {n} dokladnie n wystapien\n",
    "* {n,m} przynajmniej n razy, ale mniej niz m razy\n",
    "* {n,} przynajmniej n razy\n",
    "* {,m} co najwyzej m razy\n",
    "\n",
    "Przyklad z numerami telefonow  \n",
    "^\\(?[0-9]{3}\\)? [0-9]{3}-[0-9]{4}$"
   ]
  },
  {
   "cell_type": "code",
   "execution_count": 63,
   "metadata": {
    "collapsed": false,
    "slideshow": {
     "slide_type": "fragment"
    }
   },
   "outputs": [
    {
     "name": "stdout",
     "output_type": "stream",
     "text": [
      "(555) 123-4567\r\n"
     ]
    }
   ],
   "source": [
    "echo \"(555) 123-4567\" | grep -E '^\\(?[0-9]{3}\\)? [0-9]{3}-[0-9]{4}$'"
   ]
  },
  {
   "cell_type": "code",
   "execution_count": 64,
   "metadata": {
    "collapsed": false,
    "slideshow": {
     "slide_type": "fragment"
    }
   },
   "outputs": [
    {
     "name": "stdout",
     "output_type": "stream",
     "text": [
      "555 123-4567\r\n"
     ]
    }
   ],
   "source": [
    "echo \"555 123-4567\" | grep -E '^\\(?[0-9]{3}\\)? [0-9]{3}-[0-9]{4}$'"
   ]
  },
  {
   "cell_type": "code",
   "execution_count": 93,
   "metadata": {
    "collapsed": false,
    "slideshow": {
     "slide_type": "slide"
    }
   },
   "outputs": [
    {
     "name": "stdout",
     "output_type": "stream",
     "text": []
    }
   ],
   "source": [
    "for i in {1..10}; do echo \"(${RANDOM:0:3}) ${RANDOM:0:3}-${RANDOM:0:4}\" >> phonelist.txt; done"
   ]
  },
  {
   "cell_type": "code",
   "execution_count": 94,
   "metadata": {
    "collapsed": false,
    "slideshow": {
     "slide_type": "fragment"
    }
   },
   "outputs": [
    {
     "name": "stdout",
     "output_type": "stream",
     "text": [
      "(582) 891-2487\r\n",
      "(185) 196-1602\r\n",
      "(262) 152-2470\r\n",
      "(315) 644-1320\r\n",
      "(157) 713-1697\r\n",
      "(877) 245-386\r\n",
      "(133) 526-2578\r\n",
      "(27) 268-1264\r\n",
      "(258) 441-1876\r\n",
      "(272) 100-1134\r\n",
      "(680) 861-2908\r\n",
      "(267) 186-1384\r\n",
      "(224) 283-1755\r\n",
      "(371) 260-2075\r\n",
      "(307) 239-1730\r\n",
      "(245) 313-5276\r\n",
      "(100) 301-2590\r\n",
      "(133) 108-3053\r\n",
      "(220) 109-1668\r\n",
      "(227) 255-2948\r\n"
     ]
    }
   ],
   "source": [
    "cat phonelist.txt"
   ]
  },
  {
   "cell_type": "code",
   "execution_count": 95,
   "metadata": {
    "collapsed": false,
    "slideshow": {
     "slide_type": "slide"
    }
   },
   "outputs": [
    {
     "name": "stdout",
     "output_type": "stream",
     "text": [
      "(877) 245-386\r\n",
      "(27) 268-1264\r\n"
     ]
    }
   ],
   "source": [
    "grep -Ev '^\\([0-9]{3}\\) [0-9]{3}-[0-9]{4}$' phonelist.txt"
   ]
  },
  {
   "cell_type": "code",
   "execution_count": 96,
   "metadata": {
    "collapsed": false,
    "slideshow": {
     "slide_type": "fragment"
    }
   },
   "outputs": [
    {
     "name": "stdout",
     "output_type": "stream",
     "text": []
    }
   ],
   "source": [
    "find . -regex '.*[^-_./0-9a-zA-Z].*'"
   ]
  },
  {
   "cell_type": "code",
   "execution_count": 99,
   "metadata": {
    "collapsed": false,
    "slideshow": {
     "slide_type": "fragment"
    }
   },
   "outputs": [
    {
     "name": "stdout",
     "output_type": "stream",
     "text": [
      "/bin/bzcat\r\n",
      "/bin/bzcmp\r\n",
      "/bin/bzdiff\r\n",
      "/bin/bzegrep\r\n",
      "/bin/bzexe\r\n",
      "/bin/bzfgrep\r\n",
      "/bin/bzgrep\r\n",
      "/bin/bzip2\r\n",
      "/bin/bzip2recover\r\n",
      "/bin/bzless\r\n",
      "/bin/bzmore\r\n",
      "/bin/gzexe\r\n",
      "/bin/gzip\r\n"
     ]
    }
   ],
   "source": [
    "locate --regex '^/bin/(bz|gz)'"
   ]
  },
  {
   "cell_type": "markdown",
   "metadata": {
    "slideshow": {
     "slide_type": "slide"
    }
   },
   "source": [
    "# Przetwarzanie tekstu\n",
    "\n",
    "Tekst w Linuxie, m.in.\n",
    "\n",
    "* Konfiguracja\n",
    "* Kody zrodlowe programow/skryptow"
   ]
  },
  {
   "cell_type": "markdown",
   "metadata": {
    "slideshow": {
     "slide_type": "slide"
    }
   },
   "source": [
    "# cat\n",
    "\n",
    "Konkatenacja plikow i wypisywanie na stdout"
   ]
  },
  {
   "cell_type": "code",
   "execution_count": 17,
   "metadata": {
    "collapsed": false,
    "slideshow": {
     "slide_type": "fragment"
    }
   },
   "outputs": [
    {
     "name": "stdout",
     "output_type": "stream",
     "text": [
      "\tto jest jakis tekst\r\n"
     ]
    }
   ],
   "source": [
    "echo -e '\\tto jest jakis tekst' | cat"
   ]
  },
  {
   "cell_type": "code",
   "execution_count": 16,
   "metadata": {
    "collapsed": false,
    "slideshow": {
     "slide_type": "fragment"
    }
   },
   "outputs": [
    {
     "name": "stdout",
     "output_type": "stream",
     "text": [
      "^Ito jest jakis tekst$\r\n"
     ]
    }
   ],
   "source": [
    "echo -e '\\tto jest jakis tekst' | cat -A"
   ]
  },
  {
   "cell_type": "code",
   "execution_count": 19,
   "metadata": {
    "collapsed": false,
    "slideshow": {
     "slide_type": "fragment"
    }
   },
   "outputs": [
    {
     "name": "stdout",
     "output_type": "stream",
     "text": [
      "     1\tto jest tekst \r\n",
      "     2\t\r\n",
      "     3\twielolinijkowy\r\n"
     ]
    }
   ],
   "source": [
    "echo -e 'to jest tekst \\n\\nwielolinijkowy' | cat -ns"
   ]
  },
  {
   "cell_type": "markdown",
   "metadata": {
    "slideshow": {
     "slide_type": "slide"
    }
   },
   "source": [
    "# sort\n",
    "\n",
    "sortowanie linii plikow tekstowych"
   ]
  },
  {
   "cell_type": "code",
   "execution_count": 21,
   "metadata": {
    "collapsed": false,
    "slideshow": {
     "slide_type": "fragment"
    }
   },
   "outputs": [
    {
     "name": "stdout",
     "output_type": "stream",
     "text": [
      "a\r\n",
      "b\r\n",
      "c\r\n"
     ]
    }
   ],
   "source": [
    "echo -e 'c\\nb\\na' | sort | cat"
   ]
  },
  {
   "cell_type": "markdown",
   "metadata": {
    "slideshow": {
     "slide_type": "fragment"
    }
   },
   "source": [
    "Opcje\n",
    "\n",
    "* -f pomija wielkosc liter\n",
    "* -n sortowanie numeryczne\n",
    "* -r odwrotna kolejnosc sortowania\n",
    "* -k numer sortowanie ze wzgledu na pole o numerze numer\n",
    "* -t znak definiuje separator pol (defaultowo spacje, taby)"
   ]
  },
  {
   "cell_type": "code",
   "execution_count": 20,
   "metadata": {
    "collapsed": false,
    "slideshow": {
     "slide_type": "slide"
    }
   },
   "outputs": [
    {
     "name": "stdout",
     "output_type": "stream",
     "text": [
      "32\t/usr/share/GConf\r\n",
      "5432\t/usr/share/GeoIP\r\n",
      "108\t/usr/share/ImageMagick-6\r\n"
     ]
    }
   ],
   "source": [
    "du -s /usr/share/* 2>/dev/null | head -n 3"
   ]
  },
  {
   "cell_type": "code",
   "execution_count": 19,
   "metadata": {
    "collapsed": false,
    "slideshow": {
     "slide_type": "fragment"
    }
   },
   "outputs": [
    {
     "name": "stdout",
     "output_type": "stream",
     "text": [
      "1695152\t/usr/share/doc\r\n",
      "1644040\t/usr/share/texlive\r\n",
      "304984\t/usr/share/texmf\r\n"
     ]
    }
   ],
   "source": [
    "du -s /usr/share/* | sort -nr | head -n 3"
   ]
  },
  {
   "cell_type": "code",
   "execution_count": 26,
   "metadata": {
    "collapsed": false,
    "slideshow": {
     "slide_type": "fragment"
    }
   },
   "outputs": [
    {
     "name": "stdout",
     "output_type": "stream",
     "text": [
      "total 136136\r\n",
      "lrwxrwxrwx 1 root root           8 Dec 10  2015 2to3 -> 2to3-2.7\r\n",
      "-rwxr-xr-x 1 root root          96 Jul  2 19:02 2to3-2.7\r\n",
      "-rwxr-xr-x 1 root root          96 Sep 14 21:21 2to3-3.5\r\n"
     ]
    }
   ],
   "source": [
    "ls -l /usr/bin/ 2>/dev/null | head -n 4"
   ]
  },
  {
   "cell_type": "code",
   "execution_count": 27,
   "metadata": {
    "collapsed": false,
    "slideshow": {
     "slide_type": "fragment"
    }
   },
   "outputs": [
    {
     "name": "stdout",
     "output_type": "stream",
     "text": [
      "-rwxr-xr-x 1 root root    15165632 Apr 17  2016 emacs24-x\r\n",
      "-rwxr-xr-x 1 root root     6520720 Mar 12  2016 luatex\r\n",
      "-rwxr-xr-x 1 root root     6512592 Mar 12  2016 luajittex\r\n"
     ]
    }
   ],
   "source": [
    "ls -l /usr/bin/ | sort -nr -k 5 2>/dev/null | head -n 3"
   ]
  },
  {
   "cell_type": "code",
   "execution_count": 31,
   "metadata": {
    "collapsed": false,
    "slideshow": {
     "slide_type": "slide"
    }
   },
   "outputs": [
    {
     "name": "stdout",
     "output_type": "stream",
     "text": [
      "SUSE    10.2    12/07/2006\r\n",
      "Fedora  10      11/25/2008\r\n",
      "SUSE    11.0    06/19/2008\r\n",
      "Ubuntu  8.04    04/24/2008\r\n",
      "Fedora  8       11/08/2007\r\n",
      "SUSE    10.3    10/04/2007\r\n",
      "Ubuntu  6.10    10/26/2006\r\n",
      "Fedora  7       05/31/2007\r\n",
      "Ubuntu  7.10    10/18/2007\r\n",
      "Ubuntu  7.04    04/19/2007\r\n",
      "SUSE    10.1    05/11/2006\r\n",
      "Fedora  6       10/24/2006\r\n",
      "Fedora  9       05/13/2008\r\n",
      "Ubuntu  6.06    06/01/2006\r\n",
      "Ubuntu  8.10    10/30/2008\r\n",
      "Fedora  5       03/20/2006"
     ]
    }
   ],
   "source": [
    "cat distros.txt"
   ]
  },
  {
   "cell_type": "code",
   "execution_count": 32,
   "metadata": {
    "collapsed": false,
    "slideshow": {
     "slide_type": "slide"
    }
   },
   "outputs": [
    {
     "name": "stdout",
     "output_type": "stream",
     "text": [
      "Fedora  10      11/25/2008\r\n",
      "Fedora  5       03/20/2006\r\n",
      "Fedora  6       10/24/2006\r\n",
      "Fedora  7       05/31/2007\r\n",
      "Fedora  8       11/08/2007\r\n",
      "Fedora  9       05/13/2008\r\n",
      "SUSE    10.1    05/11/2006\r\n",
      "SUSE    10.2    12/07/2006\r\n",
      "SUSE    10.3    10/04/2007\r\n",
      "SUSE    11.0    06/19/2008\r\n",
      "Ubuntu  6.06    06/01/2006\r\n",
      "Ubuntu  6.10    10/26/2006\r\n",
      "Ubuntu  7.04    04/19/2007\r\n",
      "Ubuntu  7.10    10/18/2007\r\n",
      "Ubuntu  8.04    04/24/2008\r\n",
      "Ubuntu  8.10    10/30/2008\r\n"
     ]
    }
   ],
   "source": [
    "sort distros.txt"
   ]
  },
  {
   "cell_type": "code",
   "execution_count": 34,
   "metadata": {
    "collapsed": false,
    "slideshow": {
     "slide_type": "slide"
    }
   },
   "outputs": [
    {
     "name": "stdout",
     "output_type": "stream",
     "text": [
      "Fedora  5       03/20/2006\r\n",
      "Fedora  6       10/24/2006\r\n",
      "Fedora  7       05/31/2007\r\n",
      "Fedora  8       11/08/2007\r\n",
      "Fedora  9       05/13/2008\r\n",
      "Fedora  10      11/25/2008\r\n",
      "SUSE    10.1    05/11/2006\r\n",
      "SUSE    10.2    12/07/2006\r\n",
      "SUSE    10.3    10/04/2007\r\n",
      "SUSE    11.0    06/19/2008\r\n",
      "Ubuntu  6.06    06/01/2006\r\n",
      "Ubuntu  6.10    10/26/2006\r\n",
      "Ubuntu  7.04    04/19/2007\r\n",
      "Ubuntu  7.10    10/18/2007\r\n",
      "Ubuntu  8.04    04/24/2008\r\n",
      "Ubuntu  8.10    10/30/2008\r\n"
     ]
    }
   ],
   "source": [
    "sort -k 1,1 -k 2n distros.txt"
   ]
  },
  {
   "cell_type": "code",
   "execution_count": 38,
   "metadata": {
    "collapsed": false,
    "slideshow": {
     "slide_type": "slide"
    }
   },
   "outputs": [
    {
     "name": "stdout",
     "output_type": "stream",
     "text": [
      "Fedora  5       03/20/2006\r\n",
      "SUSE    10.1    05/11/2006\r\n",
      "Ubuntu  6.06    06/01/2006\r\n",
      "Fedora  6       10/24/2006\r\n",
      "Ubuntu  6.10    10/26/2006\r\n",
      "SUSE    10.2    12/07/2006\r\n",
      "Ubuntu  7.04    04/19/2007\r\n",
      "Fedora  7       05/31/2007\r\n",
      "SUSE    10.3    10/04/2007\r\n",
      "Ubuntu  7.10    10/18/2007\r\n",
      "Fedora  8       11/08/2007\r\n",
      "Ubuntu  8.04    04/24/2008\r\n",
      "Fedora  9       05/13/2008\r\n",
      "SUSE    11.0    06/19/2008\r\n",
      "Ubuntu  8.10    10/30/2008\r\n",
      "Fedora  10      11/25/2008\r\n"
     ]
    }
   ],
   "source": [
    "sort -k 3.7nb -k 3.1nb -k 3.4nb distros.txt"
   ]
  },
  {
   "cell_type": "markdown",
   "metadata": {
    "slideshow": {
     "slide_type": "slide"
    }
   },
   "source": [
    "# uniq\n",
    "\n",
    "usuwanie duplikatow linii w posortowanym pliku"
   ]
  },
  {
   "cell_type": "code",
   "execution_count": 40,
   "metadata": {
    "collapsed": false,
    "slideshow": {
     "slide_type": "fragment"
    }
   },
   "outputs": [
    {
     "name": "stdout",
     "output_type": "stream",
     "text": [
      "a\r\n",
      "b\r\n",
      "c\r\n",
      "a\r\n"
     ]
    }
   ],
   "source": [
    "echo -e 'a\\nb\\nc\\na'"
   ]
  },
  {
   "cell_type": "code",
   "execution_count": 41,
   "metadata": {
    "collapsed": false,
    "slideshow": {
     "slide_type": "fragment"
    }
   },
   "outputs": [
    {
     "name": "stdout",
     "output_type": "stream",
     "text": [
      "a\r\n",
      "b\r\n",
      "c\r\n"
     ]
    }
   ],
   "source": [
    "echo -e 'a\\nb\\nc\\na' | sort | uniq"
   ]
  },
  {
   "cell_type": "markdown",
   "metadata": {
    "slideshow": {
     "slide_type": "fragment"
    }
   },
   "source": [
    "Opcje\n",
    "\n",
    "* -c wyswietla liste duplikatow wraz z liczba ich wystapien\n",
    "* -i pomija wielkosc liter"
   ]
  },
  {
   "cell_type": "markdown",
   "metadata": {
    "slideshow": {
     "slide_type": "slide"
    }
   },
   "source": [
    "# cut\n",
    "\n",
    "wycina fragment z kazdej linii pliku\n",
    "\n",
    "Opcje\n",
    "\n",
    "* -c zakres wycina fragment linii pliku w podanym zakresie\n",
    "* -f numer wycina pole linii po podanym numerze\n",
    "* -d separator ustala typ separatora pol"
   ]
  },
  {
   "cell_type": "code",
   "execution_count": 53,
   "metadata": {
    "collapsed": false,
    "slideshow": {
     "slide_type": "slide"
    }
   },
   "outputs": [
    {
     "name": "stdout",
     "output_type": "stream",
     "text": [
      "SUSE 10.2 12/07/2006\r\n",
      "Fedora 10 11/25/2008\r\n",
      "SUSE 11.0 06/19/2008\r\n",
      "Ubuntu 8.04 04/24/2008\r\n",
      "Fedora 8 11/08/2007\r\n",
      "SUSE 10.3 10/04/2007\r\n",
      "Ubuntu 6.10 10/26/2006\r\n",
      "Fedora 7 05/31/2007\r\n",
      "Ubuntu 7.10 10/18/2007\r\n",
      "Ubuntu 7.04 04/19/2007\r\n",
      "SUSE 10.1 05/11/2006\r\n",
      "Fedora 6 10/24/2006\r\n",
      "Fedora 9 05/13/2008\r\n",
      "Ubuntu 6.06 06/01/2006\r\n",
      "Ubuntu 8.10 10/30/2008\r\n",
      "Fedora 5 03/20/2006"
     ]
    }
   ],
   "source": [
    "cat distros.txt"
   ]
  },
  {
   "cell_type": "code",
   "execution_count": 54,
   "metadata": {
    "collapsed": false,
    "slideshow": {
     "slide_type": "slide"
    }
   },
   "outputs": [
    {
     "name": "stdout",
     "output_type": "stream",
     "text": [
      "12/07/2006\r\n",
      "11/25/2008\r\n",
      "06/19/2008\r\n",
      "04/24/2008\r\n",
      "11/08/2007\r\n",
      "10/04/2007\r\n",
      "10/26/2006\r\n",
      "05/31/2007\r\n",
      "10/18/2007\r\n",
      "04/19/2007\r\n",
      "05/11/2006\r\n",
      "10/24/2006\r\n",
      "05/13/2008\r\n",
      "06/01/2006\r\n",
      "10/30/2008\r\n",
      "03/20/2006\r\n"
     ]
    }
   ],
   "source": [
    "cut -d ' ' -f 3 distros.txt"
   ]
  },
  {
   "cell_type": "code",
   "execution_count": 55,
   "metadata": {
    "collapsed": false,
    "slideshow": {
     "slide_type": "slide"
    }
   },
   "outputs": [
    {
     "name": "stdout",
     "output_type": "stream",
     "text": [
      "2006\r\n",
      "2008\r\n",
      "2008\r\n",
      "2008\r\n",
      "2007\r\n",
      "2007\r\n",
      "2006\r\n",
      "2007\r\n",
      "2007\r\n",
      "2007\r\n",
      "2006\r\n",
      "2006\r\n",
      "2008\r\n",
      "2006\r\n",
      "2008\r\n",
      "2006\r\n"
     ]
    }
   ],
   "source": [
    "cut -d ' ' -f 3 distros.txt | cut -c 7-10"
   ]
  },
  {
   "cell_type": "markdown",
   "metadata": {
    "slideshow": {
     "slide_type": "slide"
    }
   },
   "source": [
    "# paste\n",
    "\n",
    "laczenie linii plikow"
   ]
  },
  {
   "cell_type": "code",
   "execution_count": 56,
   "metadata": {
    "collapsed": false,
    "slideshow": {
     "slide_type": "fragment"
    }
   },
   "outputs": [
    {
     "name": "stdout",
     "output_type": "stream",
     "text": []
    }
   ],
   "source": [
    "sort -k 3.7nbr -k 3.1nbr -k 3.4nbr distros.txt > distros-by-date.txt"
   ]
  },
  {
   "cell_type": "code",
   "execution_count": 59,
   "metadata": {
    "collapsed": false,
    "slideshow": {
     "slide_type": "fragment"
    }
   },
   "outputs": [
    {
     "name": "stdout",
     "output_type": "stream",
     "text": [
      "Fedora 10 11/25/2008\r\n",
      "Ubuntu 8.10 10/30/2008\r\n",
      "SUSE 11.0 06/19/2008\r\n",
      "Fedora 9 05/13/2008\r\n",
      "Ubuntu 8.04 04/24/2008\r\n"
     ]
    }
   ],
   "source": [
    "head -n 5 distros-by-date.txt"
   ]
  },
  {
   "cell_type": "code",
   "execution_count": 63,
   "metadata": {
    "collapsed": false,
    "slideshow": {
     "slide_type": "slide"
    }
   },
   "outputs": [
    {
     "name": "stdout",
     "output_type": "stream",
     "text": []
    }
   ],
   "source": [
    "cut -d ' ' -f 1,2 distros-by-date.txt > distros-versions.txt"
   ]
  },
  {
   "cell_type": "code",
   "execution_count": 64,
   "metadata": {
    "collapsed": false,
    "slideshow": {
     "slide_type": "fragment"
    }
   },
   "outputs": [
    {
     "name": "stdout",
     "output_type": "stream",
     "text": [
      "Fedora 10\r\n",
      "Ubuntu 8.10\r\n",
      "SUSE 11.0\r\n",
      "Fedora 9\r\n",
      "Ubuntu 8.04\r\n"
     ]
    }
   ],
   "source": [
    "head -n 5 distros-versions.txt"
   ]
  },
  {
   "cell_type": "code",
   "execution_count": 65,
   "metadata": {
    "collapsed": false,
    "slideshow": {
     "slide_type": "fragment"
    }
   },
   "outputs": [
    {
     "name": "stdout",
     "output_type": "stream",
     "text": []
    }
   ],
   "source": [
    "cut -d ' ' -f 3 distros-by-date.txt > distros-dates.txt"
   ]
  },
  {
   "cell_type": "code",
   "execution_count": 66,
   "metadata": {
    "collapsed": false,
    "slideshow": {
     "slide_type": "fragment"
    }
   },
   "outputs": [
    {
     "name": "stdout",
     "output_type": "stream",
     "text": [
      "11/25/2008\r\n",
      "10/30/2008\r\n",
      "06/19/2008\r\n",
      "05/13/2008\r\n",
      "04/24/2008\r\n"
     ]
    }
   ],
   "source": [
    "head -n 5 distros-dates.txt"
   ]
  },
  {
   "cell_type": "code",
   "execution_count": 68,
   "metadata": {
    "collapsed": false,
    "slideshow": {
     "slide_type": "slide"
    }
   },
   "outputs": [
    {
     "name": "stdout",
     "output_type": "stream",
     "text": [
      "11/25/2008\tFedora 10\r\n",
      "10/30/2008\tUbuntu 8.10\r\n",
      "06/19/2008\tSUSE 11.0\r\n",
      "05/13/2008\tFedora 9\r\n",
      "04/24/2008\tUbuntu 8.04\r\n",
      "11/08/2007\tFedora 8\r\n",
      "10/18/2007\tUbuntu 7.10\r\n",
      "10/04/2007\tSUSE 10.3\r\n",
      "05/31/2007\tFedora 7\r\n",
      "04/19/2007\tUbuntu 7.04\r\n",
      "12/07/2006\tSUSE 10.2\r\n",
      "10/26/2006\tUbuntu 6.10\r\n",
      "10/24/2006\tFedora 6\r\n",
      "06/01/2006\tUbuntu 6.06\r\n",
      "05/11/2006\tSUSE 10.1\r\n",
      "03/20/2006\tFedora 5\r\n"
     ]
    }
   ],
   "source": [
    "paste distros-dates.txt distros-versions.txt"
   ]
  }
 ],
 "metadata": {
  "celltoolbar": "Slideshow",
  "kernelspec": {
   "display_name": "Bash",
   "language": "bash",
   "name": "bash"
  },
  "language_info": {
   "codemirror_mode": "shell",
   "file_extension": ".sh",
   "mimetype": "text/x-sh",
   "name": "bash"
  }
 },
 "nbformat": 4,
 "nbformat_minor": 1
}
