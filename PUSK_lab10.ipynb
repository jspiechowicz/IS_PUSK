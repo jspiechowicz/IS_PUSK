{
 "cells": [
  {
   "cell_type": "markdown",
   "metadata": {
    "slideshow": {
     "slide_type": "slide"
    }
   },
   "source": [
    "<img src=\"https://upload.wikimedia.org/wikipedia/commons/thumb/3/35/Tux.svg/280px-Tux.svg.png\" width=20% align='right'>\n",
    "\n",
    "# Podstawy uzytkowania\n",
    "# systemow komputerowych\n",
    "\n",
    "Jakub Spiechowicz\n",
    "\n",
    "Laboratorium 10, Programowanie w bashu"
   ]
  },
  {
   "cell_type": "markdown",
   "metadata": {
    "slideshow": {
     "slide_type": "slide"
    }
   },
   "source": [
    "# Skrypty shella\n",
    "\n",
    "Pliki tekstowe zawierajace instrukcje interpretowane przez powloke."
   ]
  },
  {
   "cell_type": "markdown",
   "metadata": {
    "slideshow": {
     "slide_type": "slide"
    }
   },
   "source": [
    "# Skrypty shella\n",
    "\n",
    "* Plik tekstowy z instrukcjami\n",
    "* Uprawnienia wykonywania pliku\n",
    "* Lokalizacja skryptu w katalogu nalezacym do zmiennej srodowiskowej PATH"
   ]
  },
  {
   "cell_type": "markdown",
   "metadata": {
    "slideshow": {
     "slide_type": "slide"
    }
   },
   "source": [
    "# Pierwszy skrypt"
   ]
  },
  {
   "cell_type": "code",
   "execution_count": 2,
   "metadata": {
    "collapsed": false,
    "slideshow": {
     "slide_type": "fragment"
    }
   },
   "outputs": [
    {
     "name": "stdout",
     "output_type": "stream",
     "text": [
      "Hello world!\r\n"
     ]
    }
   ],
   "source": [
    "#!/bin/bash\n",
    "\n",
    "# Komentarz: To jest nasz pierwszy skrypt\n",
    "\n",
    "echo 'Hello world!' # To tez jest komentarz"
   ]
  },
  {
   "cell_type": "markdown",
   "metadata": {
    "slideshow": {
     "slide_type": "fragment"
    }
   },
   "source": [
    "* #! shebang\n",
    "* \\# komentarz"
   ]
  },
  {
   "cell_type": "code",
   "execution_count": 5,
   "metadata": {
    "collapsed": false,
    "slideshow": {
     "slide_type": "slide"
    }
   },
   "outputs": [
    {
     "name": "stdout",
     "output_type": "stream",
     "text": [
      "-rwxr-xr-x 1 jakub.spiechowicz staff 100 Dec 15 11:22 hello_world\r\n"
     ]
    }
   ],
   "source": [
    "ls -l hello_world"
   ]
  },
  {
   "cell_type": "code",
   "execution_count": 6,
   "metadata": {
    "collapsed": false,
    "slideshow": {
     "slide_type": "fragment"
    }
   },
   "outputs": [
    {
     "name": "stdout",
     "output_type": "stream",
     "text": []
    }
   ],
   "source": [
    "chmod +x hello_world"
   ]
  },
  {
   "cell_type": "code",
   "execution_count": 9,
   "metadata": {
    "collapsed": false,
    "slideshow": {
     "slide_type": "fragment"
    }
   },
   "outputs": [
    {
     "name": "stdout",
     "output_type": "stream",
     "text": [
      "Hello world!\r\n"
     ]
    }
   ],
   "source": [
    "./hello_world"
   ]
  },
  {
   "cell_type": "code",
   "execution_count": 10,
   "metadata": {
    "collapsed": false,
    "slideshow": {
     "slide_type": "fragment"
    }
   },
   "outputs": [
    {
     "name": "stdout",
     "output_type": "stream",
     "text": [
      "hello_world: command not found\r\n"
     ]
    }
   ],
   "source": [
    "hello_world"
   ]
  },
  {
   "cell_type": "code",
   "execution_count": 11,
   "metadata": {
    "collapsed": false,
    "slideshow": {
     "slide_type": "fragment"
    }
   },
   "outputs": [
    {
     "name": "stdout",
     "output_type": "stream",
     "text": [
      "/opt/conda/bin:/opt/conda/bin:/opt/conda/bin:/usr/local/sbin:/usr/local/bin:/usr/sbin:/usr/bin:/sbin:/bin\r\n",
      "/home/users/jakub.spiechowicz/bin:/opt/conda/bin:/opt/conda/bin:/opt/conda/bin:/usr/local/sbin:/usr/local/bin:/usr/sbin:/usr/bin:/sbin:/bin\r\n"
     ]
    }
   ],
   "source": [
    "echo $PATH\n",
    "mkdir -p bin\n",
    "export PATH=~/bin:\"$PATH\"\n",
    "echo $PATH\n",
    "mv -f hello_world ~/bin/"
   ]
  },
  {
   "cell_type": "code",
   "execution_count": 12,
   "metadata": {
    "collapsed": false,
    "slideshow": {
     "slide_type": "fragment"
    }
   },
   "outputs": [
    {
     "name": "stdout",
     "output_type": "stream",
     "text": [
      "Hello world!\r\n"
     ]
    }
   ],
   "source": [
    "hello_world"
   ]
  },
  {
   "cell_type": "markdown",
   "metadata": {
    "slideshow": {
     "slide_type": "slide"
    }
   },
   "source": [
    "Lokalizacje dogodne do przechowywania skryptow\n",
    "* ~/bin/\n",
    "* /usr/local/bin"
   ]
  },
  {
   "cell_type": "markdown",
   "metadata": {
    "slideshow": {
     "slide_type": "slide"
    }
   },
   "source": [
    "# Zmienne i stale"
   ]
  },
  {
   "cell_type": "code",
   "execution_count": 1,
   "metadata": {
    "collapsed": false,
    "slideshow": {
     "slide_type": "fragment"
    }
   },
   "outputs": [
    {
     "name": "stdout",
     "output_type": "stream",
     "text": [
      "test\r\n"
     ]
    }
   ],
   "source": [
    "foo=\"test\"\n",
    "echo $foo"
   ]
  },
  {
   "cell_type": "code",
   "execution_count": 2,
   "metadata": {
    "collapsed": false,
    "slideshow": {
     "slide_type": "fragment"
    }
   },
   "outputs": [
    {
     "name": "stdout",
     "output_type": "stream",
     "text": [
      "\r\n"
     ]
    }
   ],
   "source": [
    "echo $fool"
   ]
  },
  {
   "cell_type": "code",
   "execution_count": 3,
   "metadata": {
    "collapsed": false,
    "scrolled": true,
    "slideshow": {
     "slide_type": "fragment"
    }
   },
   "outputs": [
    {
     "name": "stdout",
     "output_type": "stream",
     "text": [
      "to jest stala\r\n",
      "bash: stala: readonly variable\r\n",
      "to jest stala\r\n"
     ]
    }
   ],
   "source": [
    "declare -r stala=\"to jest stala\"\n",
    "echo $stala\n",
    "stala=\"test\"\n",
    "echo $stala"
   ]
  },
  {
   "cell_type": "code",
   "execution_count": 4,
   "metadata": {
    "collapsed": false,
    "slideshow": {
     "slide_type": "slide"
    }
   },
   "outputs": [
    {
     "name": "stdout",
     "output_type": "stream",
     "text": [
      "b\r\n"
     ]
    }
   ],
   "source": [
    "a=b\n",
    "echo $a"
   ]
  },
  {
   "cell_type": "code",
   "execution_count": 5,
   "metadata": {
    "collapsed": false,
    "slideshow": {
     "slide_type": "slide"
    }
   },
   "outputs": [
    {
     "name": "stdout",
     "output_type": "stream",
     "text": [
      "to jest tekst\r\n",
      "to jest tekst i to jest tekst\r\n"
     ]
    }
   ],
   "source": [
    "b=\"to jest tekst\"\n",
    "c=\"to jest tekst i $b\"\n",
    "echo $b\n",
    "echo $c"
   ]
  },
  {
   "cell_type": "code",
   "execution_count": 6,
   "metadata": {
    "collapsed": false,
    "slideshow": {
     "slide_type": "fragment"
    }
   },
   "outputs": [
    {
     "name": "stdout",
     "output_type": "stream",
     "text": [
      "dirlist-bin.txt dirlist-sbin.txt dirlist-usr-bin.txt dirlist-usr-sbin.txt distros-by-date.txt distros-dates.txt distros-versions.txt distros.txt phonelist.txt\r\n"
     ]
    }
   ],
   "source": [
    "d=$(ls *.txt)\n",
    "echo $d"
   ]
  },
  {
   "cell_type": "code",
   "execution_count": 7,
   "metadata": {
    "collapsed": false,
    "slideshow": {
     "slide_type": "fragment"
    }
   },
   "outputs": [
    {
     "name": "stdout",
     "output_type": "stream",
     "text": [
      "1044\r\n"
     ]
    }
   ],
   "source": [
    "e=$((3*4*87))\n",
    "echo $e"
   ]
  },
  {
   "cell_type": "code",
   "execution_count": 2,
   "metadata": {
    "collapsed": false,
    "slideshow": {
     "slide_type": "fragment"
    }
   },
   "outputs": [
    {
     "name": "stdout",
     "output_type": "stream",
     "text": [
      "\tto jest wciety string\r\n",
      "i nowa linia\r\n"
     ]
    }
   ],
   "source": [
    "f=\"\\tto jest wciety string\\ni nowa linia\"\n",
    "echo -e $f"
   ]
  },
  {
   "cell_type": "code",
   "execution_count": 9,
   "metadata": {
    "collapsed": false,
    "slideshow": {
     "slide_type": "slide"
    }
   },
   "outputs": [
    {
     "name": "stdout",
     "output_type": "stream",
     "text": [
      "7 tekst\r\n"
     ]
    }
   ],
   "source": [
    "a=7 b=\"tekst\"\n",
    "echo $a $b"
   ]
  },
  {
   "cell_type": "code",
   "execution_count": 10,
   "metadata": {
    "collapsed": false,
    "slideshow": {
     "slide_type": "fragment"
    }
   },
   "outputs": [
    {
     "name": "stdout",
     "output_type": "stream",
     "text": [
      "zmienna zmienna_a\r\n"
     ]
    }
   ],
   "source": [
    "a=\"zmienna\" b=$a_a c=${a}_a\n",
    "echo $a $b $c"
   ]
  },
  {
   "cell_type": "markdown",
   "metadata": {
    "slideshow": {
     "slide_type": "slide"
    }
   },
   "source": [
    "# Skrypty here\n",
    "\n",
    "komenda << token  \n",
    "instrukcje   \n",
    "token\n",
    "\n",
    "Moga byc uzywane z dowolna komenda, ktora akceptuje stdin!"
   ]
  },
  {
   "cell_type": "code",
   "execution_count": 11,
   "metadata": {
    "collapsed": false,
    "slideshow": {
     "slide_type": "fragment"
    }
   },
   "outputs": [
    {
     "name": "stdout",
     "output_type": "stream",
     "text": [
      "tekst\r\n",
      "\"tekst\"\r\n",
      "'tekst'\r\n",
      "$foo\r\n"
     ]
    }
   ],
   "source": [
    "foo=\"tekst\"\n",
    "cat << EOF\n",
    "$foo\n",
    "\"$foo\"\n",
    "'$foo'\n",
    "\\$foo\n",
    "EOF"
   ]
  },
  {
   "cell_type": "markdown",
   "metadata": {
    "slideshow": {
     "slide_type": "slide"
    }
   },
   "source": [
    "# Funkcje powloki\n",
    "\n",
    "function nazwa {  \n",
    "    instrukcje  \n",
    "    return  \n",
    "}\n",
    "\n",
    "nazwa () {  \n",
    "    instrukcje    \n",
    "    return  \n",
    "}\n",
    "\n",
    "        "
   ]
  },
  {
   "cell_type": "code",
   "execution_count": 12,
   "metadata": {
    "collapsed": false,
    "slideshow": {
     "slide_type": "slide"
    }
   },
   "outputs": [
    {
     "name": "stdout",
     "output_type": "stream",
     "text": [
      "To jest zawartosc funkcji.\r\n"
     ]
    }
   ],
   "source": [
    "#!/bin/bash\n",
    "\n",
    "function funct {\n",
    "    echo \"To jest zawartosc funkcji.\"\n",
    "    return\n",
    "}\n",
    "\n",
    "funct"
   ]
  },
  {
   "cell_type": "markdown",
   "metadata": {
    "slideshow": {
     "slide_type": "fragment"
    }
   },
   "source": [
    "Definicja funkcji musi wystepowac przed jej wywolaniem!"
   ]
  },
  {
   "cell_type": "markdown",
   "metadata": {
    "slideshow": {
     "slide_type": "slide"
    }
   },
   "source": [
    "# Zmienne globalne i lokalne"
   ]
  },
  {
   "cell_type": "code",
   "execution_count": 14,
   "metadata": {
    "collapsed": false,
    "slideshow": {
     "slide_type": "fragment"
    }
   },
   "outputs": [
    {
     "name": "stdout",
     "output_type": "stream",
     "text": [
      "global: foo = 0\r\n",
      "funct_1: foo = 1\r\n",
      "global: foo = 0\r\n",
      "funct_2: foo = 2\r\n",
      "global: foo = 0\r\n"
     ]
    }
   ],
   "source": [
    "#!/bin/bash\n",
    "foo=0 # zmienna globalna foo\n",
    "function funct_1 {\n",
    "    local foo # zmienna lokalna foo w funkcji funct_1\n",
    "    foo=1\n",
    "    echo \"funct_1: foo = $foo\"\n",
    "    return\n",
    "}\n",
    "function funct_2 {\n",
    "    local foo # zmienna lokalna foo w funkcji funct_2\n",
    "    foo=2\n",
    "    echo \"funct_2: foo = $foo\"\n",
    "    return\n",
    "}\n",
    "echo \"global: foo = $foo\"\n",
    "funct_1\n",
    "echo \"global: foo = $foo\"\n",
    "funct_2\n",
    "echo \"global: foo = $foo\""
   ]
  },
  {
   "cell_type": "markdown",
   "metadata": {
    "slideshow": {
     "slide_type": "slide"
    }
   },
   "source": [
    "# Konstrukcja warunkowa if\n",
    "\n",
    "if warunek; then  \n",
    "    instrukcje  \n",
    "[elif warunek; then  \n",
    "    instrukcje...]  \n",
    "[else  \n",
    "    instrukcje]  \n",
    "fi"
   ]
  },
  {
   "cell_type": "code",
   "execution_count": 15,
   "metadata": {
    "collapsed": false,
    "slideshow": {
     "slide_type": "fragment"
    }
   },
   "outputs": [
    {
     "name": "stdout",
     "output_type": "stream",
     "text": [
      "/usr/bin\r\n",
      "0\r\n"
     ]
    }
   ],
   "source": [
    "ls -d /usr/bin\n",
    "echo $?"
   ]
  },
  {
   "cell_type": "code",
   "execution_count": 16,
   "metadata": {
    "collapsed": false,
    "slideshow": {
     "slide_type": "fragment"
    }
   },
   "outputs": [
    {
     "name": "stdout",
     "output_type": "stream",
     "text": [
      "ls: cannot access '/bin/usr': No such file or directory\r\n",
      "2\r\n"
     ]
    }
   ],
   "source": [
    "ls -d /bin/usr\n",
    "echo $?"
   ]
  },
  {
   "cell_type": "code",
   "execution_count": 17,
   "metadata": {
    "collapsed": false,
    "slideshow": {
     "slide_type": "slide"
    }
   },
   "outputs": [
    {
     "name": "stdout",
     "output_type": "stream",
     "text": [
      "0\r\n",
      "1\r\n"
     ]
    }
   ],
   "source": [
    "true\n",
    "echo $?\n",
    "false\n",
    "echo $?"
   ]
  },
  {
   "cell_type": "code",
   "execution_count": 18,
   "metadata": {
    "collapsed": false,
    "slideshow": {
     "slide_type": "fragment"
    }
   },
   "outputs": [
    {
     "name": "stdout",
     "output_type": "stream",
     "text": [
      "To jest prawda.\r\n"
     ]
    }
   ],
   "source": [
    "if true; then echo \"To jest prawda.\"; fi"
   ]
  },
  {
   "cell_type": "code",
   "execution_count": 19,
   "metadata": {
    "collapsed": false,
    "slideshow": {
     "slide_type": "fragment"
    }
   },
   "outputs": [
    {
     "name": "stdout",
     "output_type": "stream",
     "text": []
    }
   ],
   "source": [
    "if false; then echo \"To jest prawda.\"; fi"
   ]
  },
  {
   "cell_type": "markdown",
   "metadata": {
    "slideshow": {
     "slide_type": "slide"
    }
   },
   "source": [
    "# Warunek\n",
    "\n",
    "test wyrazenie\n",
    "\n",
    "[ wyrazenie ]"
   ]
  },
  {
   "cell_type": "markdown",
   "metadata": {
    "slideshow": {
     "slide_type": "fragment"
    }
   },
   "source": [
    "Wyrazenia dotyczace plikow\n",
    "\n",
    "* -e plik, plik istnieje\n",
    "* -f plik, plik istnieje i jest typu regularnego\n",
    "* -d plik, plik istnieje i jest katalogiem\n",
    "* -r plik, plik istnieje i jest read only\n",
    "* -w plik, plik istnieje i jest write only\n",
    "* -x plik, plik istnieje i jest wykonywalny"
   ]
  },
  {
   "cell_type": "code",
   "execution_count": 20,
   "metadata": {
    "collapsed": false,
    "slideshow": {
     "slide_type": "slide"
    }
   },
   "outputs": [
    {
     "name": "stdout",
     "output_type": "stream",
     "text": [
      "/home/users/jakub.spiechowicz/.bashrc nie istnieje\r\n",
      "1\r\n"
     ]
    }
   ],
   "source": [
    "#!/bin/bash\n",
    "\n",
    "function test_plik {\n",
    "\n",
    "    plik=~/.bashrc\n",
    "\n",
    "    if [ -e $plik ]; then\n",
    "        if [ -f $plik ]; then\n",
    "            echo \"$plik jest plikiem regularnym\"\n",
    "        fi\n",
    "    else\n",
    "        echo \"$plik nie istnieje\"\n",
    "        return 1\n",
    "    fi\n",
    "}\n",
    "\n",
    "test_plik\n",
    "echo $?"
   ]
  },
  {
   "cell_type": "markdown",
   "metadata": {
    "slideshow": {
     "slide_type": "slide"
    }
   },
   "source": [
    "Wyrazenia dotyczace lancuchow znakow\n",
    "\n",
    "* -n lancuch, dlugosc lancucha jest wieksza niz zero\n",
    "* -z lancuch, dlugosc lancucha jest rowna zeru\n",
    "* lancuch1 == lancuch2, lancuch1 i lancuch2 sa identyczne\n",
    "* lancuch1 != lancuch2, lancuch1 i lancuch2 sa rozne"
   ]
  },
  {
   "cell_type": "code",
   "execution_count": 4,
   "metadata": {
    "collapsed": false,
    "slideshow": {
     "slide_type": "slide"
    }
   },
   "outputs": [
    {
     "name": "stdout",
     "output_type": "stream",
     "text": [
      "Odpowiedz brzmi moze.\r\n"
     ]
    }
   ],
   "source": [
    "#!/bin/bash\n",
    "\n",
    "odpowiedz=\"moze\"\n",
    "\n",
    "if [ -z $odpowiedz ]; then\n",
    "    echo \"Odpowiedz nie istnieje.\"\n",
    "fi\n",
    "\n",
    "if [ $odpowiedz == \"tak\" ]; then\n",
    "    echo \"Odpowiedz brzmi tak.\"\n",
    "elif [ $odpowiedz == \"nie\" ]; then\n",
    "    echo \"Odpowiedz brzmi nie.\"\n",
    "elif [ $odpowiedz == \"moze\" ]; then\n",
    "    echo \"Odpowiedz brzmi moze.\"\n",
    "else\n",
    "    echo \"Odpowiedz jest nieznana.\"\n",
    "fi"
   ]
  },
  {
   "cell_type": "markdown",
   "metadata": {
    "slideshow": {
     "slide_type": "slide"
    }
   },
   "source": [
    "Wyrazenia dotyczace liczb calkowitych\n",
    "\n",
    "* liczba1 -eq liczba2, liczba1 jest rowna liczba2\n",
    "* liczba1 -ne liczba2, liczba1 nie jest rowna liczba2\n",
    "* liczba1 -le liczba2, liczba1 <= liczba2\n",
    "* liczba1 -ge liczba2, liczba1 => liczba2\n",
    "* liczba1 -lt liczba2, liczba1 < liczba2\n",
    "* liczba1 -gt liczba2, liczba1 > liczba2"
   ]
  },
  {
   "cell_type": "code",
   "execution_count": 22,
   "metadata": {
    "collapsed": false,
    "slideshow": {
     "slide_type": "slide"
    }
   },
   "outputs": [
    {
     "name": "stdout",
     "output_type": "stream",
     "text": [
      "Liczba jest ujemna.\r\n",
      "Liczba jest nieparzysta.\r\n"
     ]
    }
   ],
   "source": [
    "#!/bin/bash\n",
    "\n",
    "int=-5\n",
    "\n",
    "if [ $int -eq 0 ]; then\n",
    "    echo \"Liczba jest rowna zero.\"\n",
    "else\n",
    "    if [ $int -lt 0 ]; then\n",
    "        echo \"Liczba jest ujemna.\"\n",
    "    else\n",
    "        echo \"Liczba jest dodatnia.\"\n",
    "    fi\n",
    "    if [ $((int % 2)) -eq 0 ]; then\n",
    "        echo \"Liczba jest parzysta.\"\n",
    "    else\n",
    "        echo \"Liczba jest nieparzysta.\"\n",
    "    fi\n",
    "fi"
   ]
  },
  {
   "cell_type": "markdown",
   "metadata": {
    "slideshow": {
     "slide_type": "slide"
    }
   },
   "source": [
    "Nowoczesna wersja warunku\n",
    "\n",
    "[[ wyrazenie ]]\n",
    "\n",
    "dopuszcza konstrukcje typu lancuch =~ regex, zwraca prawde jezeli lancuch odpowiada wprowadzonemu wyrazeniu regularnemu"
   ]
  },
  {
   "cell_type": "code",
   "execution_count": 5,
   "metadata": {
    "collapsed": false,
    "slideshow": {
     "slide_type": "slide"
    }
   },
   "outputs": [
    {
     "name": "stdout",
     "output_type": "stream",
     "text": [
      "Liczba jest ujemna.\r\n",
      "Liczba jest nieparzysta.\r\n"
     ]
    }
   ],
   "source": [
    "#!/bin/bash\n",
    "\n",
    "int=-5\n",
    "\n",
    "if [[ \"$int\" =~ ^-?[0-9]+$ ]]; then\n",
    "    if [ $int -eq 0 ]; then\n",
    "        echo \"Liczba jest rowna zero.\"\n",
    "    else\n",
    "        if [ $int -lt 0 ]; then\n",
    "            echo \"Liczba jest ujemna.\"\n",
    "        else\n",
    "            echo \"Liczba jest dodatnia.\"\n",
    "        fi\n",
    "        if [ $((int % 2)) -eq 0 ]; then\n",
    "            echo \"Liczba jest parzysta.\"\n",
    "        else\n",
    "            echo \"Liczba jest nieparzysta.\"\n",
    "        fi\n",
    "    fi\n",
    "else \n",
    "    echo \"Wprowadzono zla wartosc.\"\n",
    "fi"
   ]
  },
  {
   "cell_type": "markdown",
   "metadata": {
    "slideshow": {
     "slide_type": "slide"
    }
   },
   "source": [
    "[[ wyrazenie ]] wspiera rowniez rozwijanie sciezek"
   ]
  },
  {
   "cell_type": "code",
   "execution_count": 6,
   "metadata": {
    "collapsed": false,
    "slideshow": {
     "slide_type": "fragment"
    }
   },
   "outputs": [
    {
     "name": "stdout",
     "output_type": "stream",
     "text": [
      "Plik foo.bar pasuje do wzorca 'foo.*'\r\n"
     ]
    }
   ],
   "source": [
    "plik=foo.bar\n",
    "if [[ $plik == foo.* ]]; then\n",
    "    echo \"Plik $plik pasuje do wzorca 'foo.*'\"\n",
    "fi"
   ]
  },
  {
   "cell_type": "markdown",
   "metadata": {
    "slideshow": {
     "slide_type": "fragment"
    }
   },
   "source": [
    "Podobnie mozna konstruowac testy arytmetyczne (( wyrazenie ))"
   ]
  },
  {
   "cell_type": "code",
   "execution_count": null,
   "metadata": {
    "collapsed": false,
    "slideshow": {
     "slide_type": "slide"
    }
   },
   "outputs": [],
   "source": [
    "#!/bin/bash\n",
    "\n",
    "int=-5\n",
    "\n",
    "if [[ \"$int\" =~ ^-?[0-9]+$ ]]; then\n",
    "    if (( $int == 0 )) ; then\n",
    "        echo \"Liczba jest rowna zero.\"\n",
    "    else\n",
    "        if (( $int < 0 )) ; then\n",
    "            echo \"Liczba jest ujemna.\"\n",
    "        else\n",
    "            echo \"Liczba jest dodatnia.\"\n",
    "        fi\n",
    "        if (( $((int % 2)) == 0 )); then\n",
    "            echo \"Liczba jest parzysta.\"\n",
    "        else\n",
    "            echo \"Liczba jest nieparzysta.\"\n",
    "        fi\n",
    "    fi\n",
    "else \n",
    "    echo \"Wprowadzono zla wartosc.\"\n",
    "fi"
   ]
  },
  {
   "cell_type": "markdown",
   "metadata": {
    "slideshow": {
     "slide_type": "slide"
    }
   },
   "source": [
    "Struktura logiczna wyrazen warunkowych\n",
    "\n",
    "* and, warunek1 && warunek2\n",
    "* or, warunek1 || warunek2\n",
    "* not, !warunek1"
   ]
  },
  {
   "cell_type": "code",
   "execution_count": 23,
   "metadata": {
    "collapsed": false,
    "slideshow": {
     "slide_type": "slide"
    }
   },
   "outputs": [
    {
     "name": "stdout",
     "output_type": "stream",
     "text": [
      "50 lezy w zakresie od 1 do 100.\r\n"
     ]
    }
   ],
   "source": [
    "#!/bin/bash\n",
    "\n",
    "min=1\n",
    "max=100\n",
    "int=50\n",
    "\n",
    "if [[ \"$int\" =~ ^-?[0-9]+$ ]]; then\n",
    "    if [[ $int -ge $min && $int -le $max ]]; then\n",
    "        echo \"$int lezy w zakresie od $min do $max.\"\n",
    "    else\n",
    "        echo \"$int lezy poza zakresem od $min do $max.\"\n",
    "    fi\n",
    "else\n",
    "    echo \"Wprowadzono zla wartosc.\"\n",
    "fi"
   ]
  },
  {
   "cell_type": "markdown",
   "metadata": {
    "slideshow": {
     "slide_type": "slide"
    }
   },
   "source": [
    "Operatory logiczne && oraz || maja zastosowanie takze w przypadku komend\n",
    "\n",
    "komenda1 && komenda2, komenda2 wykonywana tylko jezeli komenda1 zakonczyla sie sukcesem (exit status)\n",
    "\n",
    "komenda1 || komenda2, komenda2 wykonywana tylko jezeli komenda1 zakonczyla sie porazka"
   ]
  },
  {
   "cell_type": "code",
   "execution_count": 24,
   "metadata": {
    "collapsed": false,
    "slideshow": {
     "slide_type": "fragment"
    }
   },
   "outputs": [
    {
     "name": "stdout",
     "output_type": "stream",
     "text": [
      "/home/users/jakub.spiechowicz/temp\r\n"
     ]
    }
   ],
   "source": [
    "cd ~; mkdir -p temp && cd temp\n",
    "pwd\n",
    "cd ~; rm -r temp"
   ]
  },
  {
   "cell_type": "code",
   "execution_count": 27,
   "metadata": {
    "collapsed": false,
    "slideshow": {
     "slide_type": "fragment"
    }
   },
   "outputs": [
    {
     "name": "stdout",
     "output_type": "stream",
     "text": [
      "/home/users/jakub.spiechowicz/temp\r\n"
     ]
    }
   ],
   "source": [
    "cd ~; [[ -d temp ]] || mkdir -p temp && cd temp\n",
    "pwd\n",
    "cd ~; rm -r temp"
   ]
  },
  {
   "cell_type": "markdown",
   "metadata": {
    "slideshow": {
     "slide_type": "slide"
    }
   },
   "source": [
    "# Wczytywanie z stdin\n",
    "\n",
    "read zmienna/e"
   ]
  },
  {
   "cell_type": "markdown",
   "metadata": {
    "slideshow": {
     "slide_type": "slide"
    }
   },
   "source": [
    "# Petla while\n",
    "\n",
    "while warunek; do  \n",
    "    instrukcje  \n",
    "done"
   ]
  },
  {
   "cell_type": "code",
   "execution_count": 28,
   "metadata": {
    "collapsed": false,
    "slideshow": {
     "slide_type": "fragment"
    }
   },
   "outputs": [
    {
     "name": "stdout",
     "output_type": "stream",
     "text": [
      "1\r\n",
      "2\r\n",
      "3\r\n",
      "4\r\n",
      "5\r\n",
      "Koniec.\r\n"
     ]
    }
   ],
   "source": [
    "#!/bin/bash\n",
    "\n",
    "licznik=1\n",
    "\n",
    "while [ $licznik -le 5 ]; do\n",
    "    echo $licznik\n",
    "    licznik=$((licznik + 1))\n",
    "done\n",
    "echo \"Koniec.\""
   ]
  },
  {
   "cell_type": "code",
   "execution_count": 29,
   "metadata": {
    "collapsed": false,
    "slideshow": {
     "slide_type": "slide"
    }
   },
   "outputs": [
    {
     "name": "stdout",
     "output_type": "stream",
     "text": [
      "1\r\n",
      "2\r\n",
      "3\r\n",
      "4\r\n",
      "5\r\n"
     ]
    }
   ],
   "source": [
    "#!/bin/bash\n",
    "\n",
    "licznik=1\n",
    "\n",
    "while true; do\n",
    "    echo $licznik\n",
    "    licznik=$((licznik + 1))\n",
    "    if [ $licznik -gt 5 ]; then\n",
    "        break\n",
    "    fi\n",
    "done"
   ]
  },
  {
   "cell_type": "markdown",
   "metadata": {
    "slideshow": {
     "slide_type": "slide"
    }
   },
   "source": [
    "# Switch\n",
    "\n",
    "case slowo in  \n",
    "wzorzec1 [| wzorzec]) instrukcje;;  \n",
    "wzorzec2) instrukcje;;  \n",
    "...  \n",
    "esac\n",
    "\n",
    "we wzorcu mozna uzywac dzikich kart."
   ]
  },
  {
   "cell_type": "code",
   "execution_count": 30,
   "metadata": {
    "collapsed": false,
    "slideshow": {
     "slide_type": "slide"
    }
   },
   "outputs": [
    {
     "name": "stdout",
     "output_type": "stream",
     "text": [
      "Zmienna przechowuje litere alfabetu.\r\n"
     ]
    }
   ],
   "source": [
    "#!/bin/bash\n",
    "\n",
    "zmienna=A\n",
    "\n",
    "case $zmienna in\n",
    "    [[:alpha:]]) echo \"Zmienna przechowuje litere alfabetu.\";;\n",
    "    [ABC][0-9]) echo \"Zmienna to cyfra poprzedzona litera A, B lub C.\";;\n",
    "    ???) echo \"Zmienna przechowuje trzy dowolne znaki.\";;\n",
    "    *.txt|*.csv) echo \"Zmienna przechowuje nazwe zakonczona na '.txt' lub '.csv'.\";;\n",
    "    *) echo \"Zmienna to cos innego\";;\n",
    "esac"
   ]
  },
  {
   "cell_type": "markdown",
   "metadata": {
    "slideshow": {
     "slide_type": "slide"
    }
   },
   "source": [
    "# Predefiniowane zmienne pozycyjne\n",
    "\n",
    "* \\$0, nazwa skryptu\n",
    "* \\$1, ..., \\$9, argumenty pozycyjne\n",
    "* \\$\\*, \\$1 \\$2 \\$3 ...\n",
    "* \"\\$\\*\", \"\\$1 \\$2 \\$3\"\n",
    "* \\$@, \\$1 \\$2 \\$3...\n",
    "* \"\\$@\", \"\\$1\" \"\\$2\" \"\\$3\"\n",
    "* \\$\\#, liczba argumentow pozycyjnych"
   ]
  },
  {
   "cell_type": "markdown",
   "metadata": {
    "slideshow": {
     "slide_type": "slide"
    }
   },
   "source": [
    "# Petla for\n",
    "\n",
    "for zmienna in zbior; do  \n",
    "    instrukcje  \n",
    "done"
   ]
  },
  {
   "cell_type": "code",
   "execution_count": 31,
   "metadata": {
    "collapsed": false,
    "slideshow": {
     "slide_type": "fragment"
    }
   },
   "outputs": [
    {
     "name": "stdout",
     "output_type": "stream",
     "text": [
      "A\r\n",
      "B\r\n",
      "C\r\n",
      "D\r\n"
     ]
    }
   ],
   "source": [
    "for i in A B C D; do echo $i; done"
   ]
  },
  {
   "cell_type": "code",
   "execution_count": 32,
   "metadata": {
    "collapsed": false,
    "slideshow": {
     "slide_type": "fragment"
    }
   },
   "outputs": [
    {
     "name": "stdout",
     "output_type": "stream",
     "text": [
      "A\r\n",
      "B\r\n",
      "C\r\n",
      "D\r\n"
     ]
    }
   ],
   "source": [
    "for i in {A..D}; do echo $i; done"
   ]
  },
  {
   "cell_type": "code",
   "execution_count": 33,
   "metadata": {
    "collapsed": false,
    "slideshow": {
     "slide_type": "slide"
    }
   },
   "outputs": [
    {
     "name": "stdout",
     "output_type": "stream",
     "text": [
      "dirlist-bin.txt\r\n",
      "dirlist-sbin.txt\r\n",
      "dirlist-usr-bin.txt\r\n",
      "dirlist-usr-sbin.txt\r\n",
      "distros-by-date.txt\r\n",
      "distros-dates.txt\r\n",
      "distros-versions.txt\r\n",
      "distros.txt\r\n",
      "phonelist.txt\r\n"
     ]
    }
   ],
   "source": [
    "for i in *.txt; do echo $i; done"
   ]
  },
  {
   "cell_type": "code",
   "execution_count": 34,
   "metadata": {
    "collapsed": false,
    "slideshow": {
     "slide_type": "fragment"
    }
   },
   "outputs": [
    {
     "name": "stdout",
     "output_type": "stream",
     "text": [
      "Jupyter_intro.ipynb\r\n",
      "MPMK_w01_Programowanie_w_Sage.ipynb\r\n",
      "MPMK_w01_Wprowadzenie_do_Sage.ipynb\r\n",
      "PUSK_lab01.ipynb\r\n",
      "PUSK_lab02.ipynb\r\n",
      "PUSK_lab03.ipynb\r\n",
      "PUSK_lab04.ipynb\r\n",
      "PUSK_lab05.ipynb\r\n",
      "PUSK_lab06.ipynb\r\n",
      "PUSK_lab07.ipynb\r\n",
      "PUSK_lab08.ipynb\r\n",
      "PUSK_lab09.ipynb\r\n",
      "PUSK_lab10.ipynb\r\n"
     ]
    }
   ],
   "source": [
    "for i in $(ls ~ | grep '.ipynb'); do echo $i; done"
   ]
  },
  {
   "cell_type": "markdown",
   "metadata": {
    "slideshow": {
     "slide_type": "slide"
    }
   },
   "source": [
    "# Lancuchy znakow i liczby"
   ]
  },
  {
   "cell_type": "code",
   "execution_count": 35,
   "metadata": {
    "collapsed": false,
    "slideshow": {
     "slide_type": "fragment"
    }
   },
   "outputs": [
    {
     "name": "stdout",
     "output_type": "stream",
     "text": [
      "\r\n"
     ]
    }
   ],
   "source": [
    "a=\"foo\"\n",
    "echo \"$a_plik\""
   ]
  },
  {
   "cell_type": "code",
   "execution_count": 36,
   "metadata": {
    "collapsed": false,
    "slideshow": {
     "slide_type": "fragment"
    }
   },
   "outputs": [
    {
     "name": "stdout",
     "output_type": "stream",
     "text": [
      "foo_plik\r\n"
     ]
    }
   ],
   "source": [
    "echo \"${a}_plik\""
   ]
  },
  {
   "cell_type": "markdown",
   "metadata": {
    "slideshow": {
     "slide_type": "fragment"
    }
   },
   "source": [
    "Podobnie w przypadku argumentow pozycyjnych, np. \\${11}"
   ]
  },
  {
   "cell_type": "markdown",
   "metadata": {
    "slideshow": {
     "slide_type": "slide"
    }
   },
   "source": [
    "Operacje na lancuchach znakow\n",
    "\n",
    "* \\${#zmienna}, zwraca ilosc znakow lancucha zmienna\n",
    "* \\${zmienna:poczatek:koniec}, zwraca fragment lancucha zmienna od poczatku do konca\n",
    "* \\${zmienna#wzorzec}, usuwa wzorzec opisany za pomoca dzikich kart z poczatku lancucha zmienna\n",
    "* \\${zmienna%wzorzec}, j.w., ale usuwa od konca lancucha zmienna\n",
    "* \\${zmienna/wzorzec/string}, zastepuje pierwszy wzorzec w lancuchu zmienna poprzez string\n",
    "* \\${zmienna//wzorzec/string}, zastepuje wszystkie wzorce w lancuchu zmienna poprzez string"
   ]
  },
  {
   "cell_type": "markdown",
   "metadata": {
    "slideshow": {
     "slide_type": "slide"
    }
   },
   "source": [
    "Przyklady"
   ]
  },
  {
   "cell_type": "code",
   "execution_count": 37,
   "metadata": {
    "collapsed": false,
    "slideshow": {
     "slide_type": "fragment"
    }
   },
   "outputs": [
    {
     "name": "stdout",
     "output_type": "stream",
     "text": [
      "Dlugosc '$foo' wynosi 29 znakow.\r\n"
     ]
    }
   ],
   "source": [
    "foo=\"To jest dlugi lancuch znakow.\"\n",
    "echo \"Dlugosc '\\$foo' wynosi ${#foo} znakow.\""
   ]
  },
  {
   "cell_type": "code",
   "execution_count": 38,
   "metadata": {
    "collapsed": false,
    "slideshow": {
     "slide_type": "fragment"
    }
   },
   "outputs": [
    {
     "name": "stdout",
     "output_type": "stream",
     "text": [
      "st dlugi lancuch znakow.\r\n"
     ]
    }
   ],
   "source": [
    "echo ${foo:5}"
   ]
  },
  {
   "cell_type": "code",
   "execution_count": 39,
   "metadata": {
    "collapsed": false,
    "slideshow": {
     "slide_type": "fragment"
    }
   },
   "outputs": [
    {
     "name": "stdout",
     "output_type": "stream",
     "text": [
      "To jest\r\n"
     ]
    }
   ],
   "source": [
    "echo ${foo:0:7}"
   ]
  },
  {
   "cell_type": "code",
   "execution_count": 40,
   "metadata": {
    "collapsed": false,
    "slideshow": {
     "slide_type": "fragment"
    }
   },
   "outputs": [
    {
     "name": "stdout",
     "output_type": "stream",
     "text": [
      "znakow.\r\n"
     ]
    }
   ],
   "source": [
    "echo ${foo: -7}"
   ]
  },
  {
   "cell_type": "code",
   "execution_count": 41,
   "metadata": {
    "collapsed": false,
    "slideshow": {
     "slide_type": "fragment"
    }
   },
   "outputs": [
    {
     "name": "stdout",
     "output_type": "stream",
     "text": [
      "znak\r\n"
     ]
    }
   ],
   "source": [
    "echo ${foo: -7:4}"
   ]
  },
  {
   "cell_type": "code",
   "execution_count": 42,
   "metadata": {
    "collapsed": false,
    "slideshow": {
     "slide_type": "slide"
    }
   },
   "outputs": [
    {
     "name": "stdout",
     "output_type": "stream",
     "text": [
      "txt\r\n",
      "plik\r\n"
     ]
    }
   ],
   "source": [
    "foo=plik.txt\n",
    "echo ${foo#*.}\n",
    "echo ${foo%.*}"
   ]
  },
  {
   "cell_type": "code",
   "execution_count": 43,
   "metadata": {
    "collapsed": false,
    "slideshow": {
     "slide_type": "slide"
    }
   },
   "outputs": [
    {
     "name": "stdout",
     "output_type": "stream",
     "text": [
      "JPG.JPG\r\n",
      "jpg.JPG\r\n"
     ]
    }
   ],
   "source": [
    "foo=JPG.JPG\n",
    "echo $foo\n",
    "echo ${foo/JPG/jpg}"
   ]
  },
  {
   "cell_type": "markdown",
   "metadata": {
    "slideshow": {
     "slide_type": "slide"
    }
   },
   "source": [
    "Operacje i testy arytmetyczne.\n",
    "\n",
    "$(( wyrazenie )) i (( wyrazenie ))\n",
    "\n",
    "* +\n",
    "* - \n",
    "* *\n",
    "* /\n",
    "* \\*\\*\n",
    "* %"
   ]
  },
  {
   "cell_type": "markdown",
   "metadata": {
    "slideshow": {
     "slide_type": "slide"
    }
   },
   "source": [
    "Operacje przypisania\n",
    "\n",
    "* zmienna = wartosc\n",
    "* zmienna += wartosc, zmienna = zmienna + wartosc\n",
    "* zmienna -= wartosc, zmienna = zmienna - wartosc\n",
    "* zmienna \\*= wartosc, zmienna = zmienna\\*wartosc\n",
    "* zmienna /= wartosc, zmienna = zmienna/wartosc\n",
    "* zmienna %= wartosc, zmienna = zmienna % wartosc\n",
    "* zmienna++, zmienna = zmienna + 1\n",
    "* zmienna--, zmienna = zmienna - 1"
   ]
  },
  {
   "cell_type": "code",
   "execution_count": 44,
   "metadata": {
    "collapsed": false,
    "slideshow": {
     "slide_type": "slide"
    }
   },
   "outputs": [
    {
     "name": "stdout",
     "output_type": "stream",
     "text": [
      "1\r\n",
      "2\r\n"
     ]
    }
   ],
   "source": [
    "foo=1\n",
    "echo $((foo++))\n",
    "echo $foo"
   ]
  },
  {
   "cell_type": "code",
   "execution_count": 45,
   "metadata": {
    "collapsed": false,
    "slideshow": {
     "slide_type": "fragment"
    }
   },
   "outputs": [
    {
     "name": "stdout",
     "output_type": "stream",
     "text": [
      "2\r\n",
      "2\r\n"
     ]
    }
   ],
   "source": [
    "foo=1\n",
    "echo $((++foo))\n",
    "echo $foo"
   ]
  },
  {
   "cell_type": "markdown",
   "metadata": {
    "slideshow": {
     "slide_type": "slide"
    }
   },
   "source": [
    "Logika\n",
    "\n",
    "* <=, mniejsze lub rowne\n",
    "* \\>=, wieksze lub rowne\n",
    "* <, mniejsze\n",
    "* \\>, wieksze\n",
    "* ==, rowne\n",
    "* !=, nierowne\n",
    "* &&, i\n",
    "* ||, lub\n",
    "* wyrazenie?prawda:falsz"
   ]
  },
  {
   "cell_type": "code",
   "execution_count": 46,
   "metadata": {
    "collapsed": false,
    "slideshow": {
     "slide_type": "fragment"
    }
   },
   "outputs": [
    {
     "name": "stdout",
     "output_type": "stream",
     "text": [
      "true\r\n"
     ]
    }
   ],
   "source": [
    "if ((1)); then echo \"true\"; else echo \"false\"; fi"
   ]
  },
  {
   "cell_type": "code",
   "execution_count": 47,
   "metadata": {
    "collapsed": false,
    "slideshow": {
     "slide_type": "fragment"
    }
   },
   "outputs": [
    {
     "name": "stdout",
     "output_type": "stream",
     "text": [
      "false\r\n"
     ]
    }
   ],
   "source": [
    "if ((0)); then echo \"true\"; else echo \"false\"; fi"
   ]
  },
  {
   "cell_type": "code",
   "execution_count": 49,
   "metadata": {
    "collapsed": false,
    "slideshow": {
     "slide_type": "slide"
    }
   },
   "outputs": [
    {
     "name": "stdout",
     "output_type": "stream",
     "text": [
      "1\r\n"
     ]
    }
   ],
   "source": [
    "a=0\n",
    "((a<1?++a:--a))\n",
    "echo $a"
   ]
  },
  {
   "cell_type": "code",
   "execution_count": 50,
   "metadata": {
    "collapsed": false,
    "slideshow": {
     "slide_type": "fragment"
    }
   },
   "outputs": [
    {
     "name": "stdout",
     "output_type": "stream",
     "text": [
      "0\r\n"
     ]
    }
   ],
   "source": [
    "((a<1?++a:--a))\n",
    "echo $a"
   ]
  },
  {
   "cell_type": "markdown",
   "metadata": {
    "slideshow": {
     "slide_type": "slide"
    }
   },
   "source": [
    "# Tablice\n",
    "\n",
    "Deklaracja"
   ]
  },
  {
   "cell_type": "code",
   "execution_count": null,
   "metadata": {
    "collapsed": false,
    "slideshow": {
     "slide_type": "fragment"
    }
   },
   "outputs": [],
   "source": [
    "declare -a a"
   ]
  },
  {
   "cell_type": "markdown",
   "metadata": {
    "slideshow": {
     "slide_type": "fragment"
    }
   },
   "source": [
    "Przypisanie\n",
    "\n",
    "zmienna[indeks]=wartosc  \n",
    "zmienna=(wartosc0 wartosc1 ...)"
   ]
  },
  {
   "cell_type": "code",
   "execution_count": 51,
   "metadata": {
    "collapsed": false,
    "slideshow": {
     "slide_type": "fragment"
    }
   },
   "outputs": [
    {
     "name": "stdout",
     "output_type": "stream",
     "text": [
      "Pn\r\n",
      "Wt\r\n"
     ]
    }
   ],
   "source": [
    "dni=(Pn Wt Sr Czw Pt Sb Ndz)\n",
    "echo ${dni[0]}\n",
    "dni[0]=Wt\n",
    "echo ${dni[0]}"
   ]
  },
  {
   "cell_type": "markdown",
   "metadata": {
    "slideshow": {
     "slide_type": "slide"
    }
   },
   "source": [
    "Operacja na tablicach"
   ]
  },
  {
   "cell_type": "code",
   "execution_count": 52,
   "metadata": {
    "collapsed": false,
    "slideshow": {
     "slide_type": "fragment"
    }
   },
   "outputs": [
    {
     "name": "stdout",
     "output_type": "stream",
     "text": []
    }
   ],
   "source": [
    "zwierzaki=(\"pies Reksio\" \"kot Garfield\" \"swinka Peppa\")"
   ]
  },
  {
   "cell_type": "code",
   "execution_count": 53,
   "metadata": {
    "collapsed": false,
    "slideshow": {
     "slide_type": "fragment"
    }
   },
   "outputs": [
    {
     "name": "stdout",
     "output_type": "stream",
     "text": [
      "pies\r\n",
      "Reksio\r\n",
      "kot\r\n",
      "Garfield\r\n",
      "swinka\r\n",
      "Peppa\r\n"
     ]
    }
   ],
   "source": [
    "for i in ${zwierzaki[*]}; do echo $i; done"
   ]
  },
  {
   "cell_type": "code",
   "execution_count": 54,
   "metadata": {
    "collapsed": false,
    "slideshow": {
     "slide_type": "fragment"
    }
   },
   "outputs": [
    {
     "name": "stdout",
     "output_type": "stream",
     "text": [
      "pies Reksio kot Garfield swinka Peppa\r\n"
     ]
    }
   ],
   "source": [
    "for i in \"${zwierzaki[*]}\"; do echo $i; done"
   ]
  },
  {
   "cell_type": "code",
   "execution_count": 55,
   "metadata": {
    "collapsed": false,
    "slideshow": {
     "slide_type": "slide"
    }
   },
   "outputs": [
    {
     "name": "stdout",
     "output_type": "stream",
     "text": [
      "pies\r\n",
      "Reksio\r\n",
      "kot\r\n",
      "Garfield\r\n",
      "swinka\r\n",
      "Peppa\r\n"
     ]
    }
   ],
   "source": [
    "for i in ${zwierzaki[@]}; do echo $i; done"
   ]
  },
  {
   "cell_type": "code",
   "execution_count": 56,
   "metadata": {
    "collapsed": false,
    "slideshow": {
     "slide_type": "fragment"
    }
   },
   "outputs": [
    {
     "name": "stdout",
     "output_type": "stream",
     "text": [
      "pies Reksio\r\n",
      "kot Garfield\r\n",
      "swinka Peppa\r\n"
     ]
    }
   ],
   "source": [
    "for i in \"${zwierzaki[@]}\"; do echo $i; done"
   ]
  },
  {
   "cell_type": "code",
   "execution_count": 57,
   "metadata": {
    "collapsed": false,
    "slideshow": {
     "slide_type": "slide"
    }
   },
   "outputs": [
    {
     "name": "stdout",
     "output_type": "stream",
     "text": [
      "2\r\n",
      "3\r\n"
     ]
    }
   ],
   "source": [
    "b[100]=foo\n",
    "echo ${#b[@]}\n",
    "echo ${#b[100]}"
   ]
  },
  {
   "cell_type": "code",
   "execution_count": 58,
   "metadata": {
    "collapsed": false,
    "slideshow": {
     "slide_type": "fragment"
    }
   },
   "outputs": [
    {
     "name": "stdout",
     "output_type": "stream",
     "text": [
      "a b c\r\n",
      "a b c d e f\r\n"
     ]
    }
   ],
   "source": [
    "foo=(a b c)\n",
    "echo ${foo[@]}\n",
    "foo+=(d e f)\n",
    "echo ${foo[@]}"
   ]
  },
  {
   "cell_type": "code",
   "execution_count": 59,
   "metadata": {
    "collapsed": false,
    "slideshow": {
     "slide_type": "fragment"
    }
   },
   "outputs": [
    {
     "name": "stdout",
     "output_type": "stream",
     "text": [
      "f e d c b a\r\n",
      "a b c d e f\r\n"
     ]
    }
   ],
   "source": [
    "a=(f e d c b a)\n",
    "echo ${a[@]}\n",
    "a_sorted=($(for i in \"${a[@]}\"; do echo $i; done | sort))\n",
    "echo ${a_sorted[@]}"
   ]
  },
  {
   "cell_type": "code",
   "execution_count": 60,
   "metadata": {
    "collapsed": false,
    "slideshow": {
     "slide_type": "slide"
    }
   },
   "outputs": [
    {
     "name": "stdout",
     "output_type": "stream",
     "text": [
      "a b c d e f\r\n",
      "\r\n"
     ]
    }
   ],
   "source": [
    "foo=(a b c d e f)\n",
    "echo ${foo[@]}\n",
    "unset foo\n",
    "echo ${foo[@]}"
   ]
  },
  {
   "cell_type": "code",
   "execution_count": 61,
   "metadata": {
    "collapsed": false,
    "slideshow": {
     "slide_type": "fragment"
    }
   },
   "outputs": [
    {
     "name": "stdout",
     "output_type": "stream",
     "text": [
      "a b c d e f\r\n",
      "a b d e f\r\n"
     ]
    }
   ],
   "source": [
    "foo=(a b c d e f)\n",
    "echo ${foo[@]}\n",
    "unset 'foo[2]'\n",
    "echo ${foo[@]}"
   ]
  },
  {
   "cell_type": "code",
   "execution_count": 62,
   "metadata": {
    "collapsed": false,
    "slideshow": {
     "slide_type": "fragment"
    }
   },
   "outputs": [
    {
     "name": "stdout",
     "output_type": "stream",
     "text": [
      "a b c d e f\r\n",
      "A b c d e f\r\n"
     ]
    }
   ],
   "source": [
    "foo=(a b c d e f)\n",
    "echo ${foo[@]}\n",
    "foo=A\n",
    "echo ${foo[@]}"
   ]
  }
 ],
 "metadata": {
  "celltoolbar": "Slideshow",
  "kernelspec": {
   "display_name": "Bash",
   "language": "bash",
   "name": "bash"
  },
  "language_info": {
   "codemirror_mode": "shell",
   "file_extension": ".sh",
   "mimetype": "text/x-sh",
   "name": "bash"
  }
 },
 "nbformat": 4,
 "nbformat_minor": 1
}
