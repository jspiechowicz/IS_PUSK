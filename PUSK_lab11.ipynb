{
 "cells": [
  {
   "cell_type": "markdown",
   "metadata": {
    "slideshow": {
     "slide_type": "slide"
    }
   },
   "source": [
    "<img src=\"https://upload.wikimedia.org/wikipedia/commons/thumb/3/35/Tux.svg/280px-Tux.svg.png\" width=20% align='right'>\n",
    "\n",
    "# Podstawy uzytkowania\n",
    "# systemow komputerowych\n",
    "\n",
    "Jakub Spiechowicz\n",
    "\n",
    "Laboratorium 11, sed & AWK"
   ]
  },
  {
   "cell_type": "markdown",
   "metadata": {
    "slideshow": {
     "slide_type": "slide"
    }
   },
   "source": [
    "# Stream editor\n",
    "\n",
    "Sed (stream editor) sluzy do przetwarzania strumienia wejsciowego w formie pliku lub stdin.\n",
    "\n",
    "sed polecenie plik\n",
    "\n",
    "Opcje\n",
    "\n",
    "* -n domyslnie przetworzone dane nie sa wypisywane na stdout\n",
    "* -e instrukcja plik ciag instrukcji przekazany jako argument wywolania\n",
    "* -f instrukcja_plik plik instrukcja_plik zawiera program z instrukcjami dla seda\n",
    "* -i tryb edycji w locie"
   ]
  },
  {
   "cell_type": "markdown",
   "metadata": {
    "slideshow": {
     "slide_type": "slide"
    }
   },
   "source": [
    "# Podstawy\n",
    "\n",
    "Podstawowa instrukcja programu sed\n",
    "\n",
    "[adres,[adres]...] instrukcja [argument]\n",
    "\n",
    "* Adres jest opcjonalny, w przypadku jego braku sed przetwarza cale wejscie\n",
    "* Instrukcja to polecenie, ktore modyfikuje (przetwarza) strumien\n",
    "* Argument jest opcjonalny, modyfikuje dzialanie dane instrukcji\n",
    "\n",
    "Ciag polecen programu sed\n",
    "\n",
    "instrukcja1; instrukcja2; ..."
   ]
  },
  {
   "cell_type": "markdown",
   "metadata": {
    "slideshow": {
     "slide_type": "slide"
    }
   },
   "source": [
    "[adres,[adres]] instrukcja [argument]\n",
    "\n",
    "sed dziala w nastepujacej petli zaczynajac od poczatku wejscia\n",
    "\n",
    "1. Wczytuje jedna linie wejscia (stdin/plik)\n",
    "2. Wczytuje instrukcje w trybie sekwencyjnym. Jesli wprowadzone adresy wybieraja aktualna linie to sed wykonuje na niej wczytana instrukcje.\n",
    "3. Wczytuje kolejna linie az do konca wejscia."
   ]
  },
  {
   "cell_type": "markdown",
   "metadata": {
    "slideshow": {
     "slide_type": "slide"
    }
   },
   "source": [
    "# Adresowanie\n",
    "\n",
    "[adres, [adres]...]\n",
    "\n",
    "* n n-ta linia wejscia\n",
    "* n,m od n-tej linii do m-tej\n",
    "* \\$ ostatnia linia\n",
    "* n,\\$ od n-tej linii do ostatniej\n",
    "* /regex/ wszystkie linie zawierajace regex\n",
    "* /regex1/,/regex2/ od wiersza zawierajacego regex1 do wiersza zawierajacego regex2\n",
    "* /regex/,\\$ od wiersza zawierajacego regex do konca wejscia"
   ]
  },
  {
   "cell_type": "markdown",
   "metadata": {
    "slideshow": {
     "slide_type": "slide"
    }
   },
   "source": [
    "# Instrukcje\n",
    "\n",
    "* a (append) dodanie lancucha znakow na koncu aktualnie przetwarzanej linii\n",
    "* c (change) modyfikuje aktualnie przetwazana linie\n",
    "* d (delete) usuwa aktualna linie\n",
    "* i (insert) odpowiednik append, ale dla poczatku aktualnej linii\n",
    "* p (print) wypisuje aktualna linie na stdout\n",
    "* s (substitute) s/regex/string/opcja zastepuje regex w aktualnej linii przez string, opcje:\n",
    "    * g (global) wykonaj instrukcje dla wszystkich wystapien regex w obrebie wybranego adresowania"
   ]
  },
  {
   "cell_type": "markdown",
   "metadata": {
    "slideshow": {
     "slide_type": "slide"
    }
   },
   "source": [
    "Przyklady"
   ]
  },
  {
   "cell_type": "code",
   "execution_count": 1,
   "metadata": {
    "collapsed": false,
    "slideshow": {
     "slide_type": "fragment"
    }
   },
   "outputs": [
    {
     "name": "stdout",
     "output_type": "stream",
     "text": [
      "Line one.\r\n",
      "The second line.\r\n",
      "The third.\r\n",
      "This is line four.\r\n",
      "Five.\r\n",
      "This is the sixth sentence.\r\n",
      "This is line seven.\r\n",
      "Eighth and last."
     ]
    }
   ],
   "source": [
    "cat lines"
   ]
  },
  {
   "cell_type": "code",
   "execution_count": 3,
   "metadata": {
    "collapsed": false,
    "slideshow": {
     "slide_type": "fragment"
    }
   },
   "outputs": [
    {
     "name": "stdout",
     "output_type": "stream",
     "text": [
      "Line one.\r\n",
      "The second line.\r\n",
      "The second line.\r\n",
      "The third.\r\n",
      "This is line four.\r\n",
      "This is line four.\r\n",
      "Five.\r\n",
      "This is the sixth sentence.\r\n",
      "This is line seven.\r\n",
      "This is line seven.\r\n",
      "Eighth and last."
     ]
    }
   ],
   "source": [
    "sed '/line/ p' lines"
   ]
  },
  {
   "cell_type": "code",
   "execution_count": 4,
   "metadata": {
    "collapsed": false,
    "slideshow": {
     "slide_type": "slide"
    }
   },
   "outputs": [
    {
     "name": "stdout",
     "output_type": "stream",
     "text": [
      "The second line.\r\n",
      "This is line four.\r\n",
      "This is line seven.\r\n"
     ]
    }
   ],
   "source": [
    "sed -n '/line/ p' lines"
   ]
  },
  {
   "cell_type": "code",
   "execution_count": 7,
   "metadata": {
    "collapsed": false,
    "slideshow": {
     "slide_type": "fragment"
    }
   },
   "outputs": [
    {
     "name": "stdout",
     "output_type": "stream",
     "text": [
      "The third.\r\n",
      "This is line four.\r\n",
      "Five.\r\n",
      "This is the sixth sentence.\r\n"
     ]
    }
   ],
   "source": [
    "sed -n '3,6 p' lines"
   ]
  },
  {
   "cell_type": "code",
   "execution_count": 13,
   "metadata": {
    "collapsed": false,
    "slideshow": {
     "slide_type": "fragment"
    }
   },
   "outputs": [
    {
     "name": "stdout",
     "output_type": "stream",
     "text": [
      "Line one.\r\n",
      "The second line.\r\n",
      "The third.\r\n",
      "This is line four.\r\n",
      "Five.\r\n"
     ]
    }
   ],
   "source": [
    "sed -n '5 q' lines"
   ]
  },
  {
   "cell_type": "code",
   "execution_count": 16,
   "metadata": {
    "collapsed": false,
    "slideshow": {
     "slide_type": "slide"
    }
   },
   "outputs": [
    {
     "name": "stdout",
     "output_type": "stream",
     "text": [
      "Line one.\r\n",
      "The second line.\r\n",
      "AFTER\r\n",
      "The third.\r\n",
      "This is line four.\r\n",
      "Five.\r\n",
      "This is the sixth sentence.\r\n",
      "This is line seven.\r\n",
      "Eighth and last."
     ]
    }
   ],
   "source": [
    "sed '2 a\\AFTER' lines"
   ]
  },
  {
   "cell_type": "code",
   "execution_count": 17,
   "metadata": {
    "collapsed": false,
    "slideshow": {
     "slide_type": "fragment"
    }
   },
   "outputs": [
    {
     "name": "stdout",
     "output_type": "stream",
     "text": [
      "Line one.\r\n",
      "The second line.\r\n",
      "The third.\r\n",
      "BEFORE\r\n",
      "This is line four.\r\n",
      "Five.\r\n",
      "BEFORE\r\n",
      "This is the sixth sentence.\r\n",
      "BEFORE\r\n",
      "This is line seven.\r\n",
      "Eighth and last."
     ]
    }
   ],
   "source": [
    "sed '/This/ i\\BEFORE' lines"
   ]
  },
  {
   "cell_type": "code",
   "execution_count": 30,
   "metadata": {
    "collapsed": false,
    "slideshow": {
     "slide_type": "slide"
    }
   },
   "outputs": [
    {
     "name": "stdout",
     "output_type": "stream",
     "text": [
      "Line one.\r\n",
      "SED\r\n",
      "SED\r\n",
      "SED\r\n",
      "Five.\r\n",
      "This is the sixth sentence.\r\n",
      "This is line seven.\r\n",
      "Eighth and last."
     ]
    }
   ],
   "source": [
    "sed '2,4 c\\SED\\nSED\\nSED' lines"
   ]
  },
  {
   "cell_type": "code",
   "execution_count": 31,
   "metadata": {
    "collapsed": false,
    "slideshow": {
     "slide_type": "fragment"
    }
   },
   "outputs": [
    {
     "name": "stdout",
     "output_type": "stream",
     "text": [
      "The second sentence.\r\n",
      "This is sentence four.\r\n",
      "This is sentence seven.\r\n"
     ]
    }
   ],
   "source": [
    "sed -n 's/line/sentence/ p' lines"
   ]
  },
  {
   "cell_type": "code",
   "execution_count": 37,
   "metadata": {
    "collapsed": false,
    "slideshow": {
     "slide_type": "slide"
    }
   },
   "outputs": [
    {
     "name": "stdout",
     "output_type": "stream",
     "text": [
      "That is line four.\r\n",
      "That is the sixth sentence.\r\n",
      "That is line seven.\r\n"
     ]
    }
   ],
   "source": [
    "sed -n 's/This/that/ ;s/that/That/ p' lines"
   ]
  },
  {
   "cell_type": "code",
   "execution_count": 39,
   "metadata": {
    "collapsed": false,
    "slideshow": {
     "slide_type": "fragment"
    }
   },
   "outputs": [
    {
     "name": "stdout",
     "output_type": "stream",
     "text": [
      "that is line four.\r\n",
      "that is the sixth sentence.\r\n",
      "that is line seven.\r\n"
     ]
    }
   ],
   "source": [
    "sed -n 's/That/that/ ;s/This/that/ p' lines"
   ]
  },
  {
   "cell_type": "code",
   "execution_count": 41,
   "metadata": {
    "collapsed": false,
    "slideshow": {
     "slide_type": "slide"
    }
   },
   "outputs": [
    {
     "name": "stdout",
     "output_type": "stream",
     "text": [
      "\tLine one.\r\n",
      "\tThe second line.\r\n",
      "\tThe third.\r\n",
      "\tThis is line four.\r\n",
      "\tFive.\r\n",
      "\tThis is the sixth sentence.\r\n",
      "\tThis is line seven.\r\n",
      "\tEight and last."
     ]
    }
   ],
   "source": [
    "sed 's/^/\\t/ ' lines"
   ]
  },
  {
   "cell_type": "code",
   "execution_count": 43,
   "metadata": {
    "collapsed": false,
    "slideshow": {
     "slide_type": "fragment"
    }
   },
   "outputs": [
    {
     "name": "stdout",
     "output_type": "stream",
     "text": [
      "Line one.\r\n",
      "The second line.\r\n",
      "The third.\r\n",
      "\tThis is line four.\r\n",
      "Five.\r\n",
      "\tThis is the sixth sentence.\r\n",
      "\tThis is line seven.\r\n",
      "Eight and last."
     ]
    }
   ],
   "source": [
    "sed 's/^This/\\t&/ ' lines"
   ]
  },
  {
   "cell_type": "markdown",
   "metadata": {
    "slideshow": {
     "slide_type": "slide"
    }
   },
   "source": [
    "# AWK\n",
    "\n",
    "Stworzony przez A. Aho, P. Weinbergera oraz B. Kernighana jezyk programowania, ktorego zastosowaniem jest przetwarzanie wzorcow w strumieniach danych. Wyszukuje linie zawierajace wzorzec i wykonuje na nich rozmaite operacje, np. wypisuje je na stdout albo je zlicza.\n",
    "\n",
    "awk program plik\n",
    "\n",
    "opcje\n",
    "\n",
    "* -F separator, ustawia separator pol\n",
    "* -f program_plik plik, wczytuje program_plik z instrukcjami dla awk\n",
    "* -v zmienna=wartosc, inicjalizuje zmienna o wartosci wartosc przed wykonaniem programu"
   ]
  },
  {
   "cell_type": "markdown",
   "metadata": {
    "slideshow": {
     "slide_type": "slide"
    }
   },
   "source": [
    "# Podstawy\n",
    "\n",
    "Najprostszy program AWK wyglada nastepujaco:\n",
    "\n",
    "wzorzec { akcja }\n",
    "\n",
    "* Wzorzec wybiera odpowiednie linie strumienia wejsciowego, brak oznacza cala zawartosc\n",
    "* AWK wykonuje akcje na wszystkich liniach pasujacych do wzorca, brak oznacza print stdout\n",
    "\n",
    "Dziala w trybie sekwencyjnym, podobnie jak sed."
   ]
  },
  {
   "cell_type": "markdown",
   "metadata": {
    "slideshow": {
     "slide_type": "slide"
    }
   },
   "source": [
    "# Wzorce i akcje\n",
    "\n",
    "Wzorzec\n",
    "\n",
    "* /regex/\n",
    "* /regex/,/regex/\n",
    "* wyrazenie relacyjne\n",
    "* polaczenie powyzszych mozliwosci\n",
    "\n",
    "operatory <, <=, ==, !=, >=, > oraz &&, ||, ~, !~"
   ]
  },
  {
   "cell_type": "markdown",
   "metadata": {
    "slideshow": {
     "slide_type": "slide"
    }
   },
   "source": [
    "Akcja\n",
    "\n",
    "* standardowo { print }\n",
    "    * obsluguje zmienne i przeadresowanie w formie >, >>, |\n",
    "* printf (c style, przeadresowanie)\n",
    "    * %c, %d, %f, %e etc."
   ]
  },
  {
   "cell_type": "markdown",
   "metadata": {
    "slideshow": {
     "slide_type": "slide"
    }
   },
   "source": [
    "# Zmienne i operatory\n",
    "\n",
    "* \\$0 aktualnie przetwarzana linia\n",
    "* \\$n n-te pole biezacej linii\n",
    "* FILENAME nazwa aktualnego pliku\n",
    "* FS separator pol (domyslnie spacja)\n",
    "* NF liczba pol aktualnej lini\n",
    "* NR numer aktualnej linii\n",
    "* RS sepator linii\n",
    "* OFS, ORS j.w., ale odnosza sie do strumienia wyjsciowego\n",
    "* tablice asocjacyjne (slowniki) tablica[klucz] = wartosc\n",
    "\n",
    "\\*\\*, \\*, /, %, +, -, =, ++, --, +=, -=, *=, /=, %="
   ]
  },
  {
   "cell_type": "markdown",
   "metadata": {
    "slideshow": {
     "slide_type": "slide"
    }
   },
   "source": [
    "# Funkcje\n",
    "\n",
    "* length(str)\n",
    "* int(num)\n",
    "* index(str1,str2) zwraca indeks str2 w str1 lub 0 jesli nie str1 nie wystepuje\n",
    "* split(str,arr,del) zwraca tablice arr (arr[1], ..., arr[n]) z lancuchami zawartymi w str oddzielonymi del\n",
    "* substr(str,pos,len)\n",
    "* tolower(str)\n",
    "* toupper(str), etc."
   ]
  },
  {
   "cell_type": "markdown",
   "metadata": {
    "slideshow": {
     "slide_type": "slide"
    }
   },
   "source": [
    "# Instrukcje sterujace\n",
    "\n",
    "if (warunek)  \n",
    "$\\quad${akcja}  \n",
    "[else  \n",
    "$\\quad${akcja}]\n",
    "\n",
    "while (warunek)  \n",
    "$\\quad${akcja}\n",
    "\n",
    "for (zmienna; warunek; inkrement)  \n",
    "$\\quad${akcja}\n",
    "\n",
    "break, continue"
   ]
  },
  {
   "cell_type": "markdown",
   "metadata": {
    "slideshow": {
     "slide_type": "slide"
    }
   },
   "source": [
    "Przyklady"
   ]
  },
  {
   "cell_type": "code",
   "execution_count": 13,
   "metadata": {
    "collapsed": false,
    "slideshow": {
     "slide_type": "fragment"
    }
   },
   "outputs": [
    {
     "name": "stdout",
     "output_type": "stream",
     "text": [
      "plym fury 1970 73 2500\r\n",
      "chevy malibu 1999 60 3000\r\n",
      "ford mustang 1965 45 10000\r\n",
      "volvo s80 1998 102 9850\r\n",
      "ford thundbd 2003 15 10500\r\n",
      "chevy malibu 2000 50 3500\r\n",
      "bmw 325i 1985 115 450\r\n",
      "honda accord 2001 30 6000\r\n",
      "ford taurus 2004 10 17000\r\n",
      "toyota rav4 2002 180 750\r\n",
      "chevy impala 1985 85 1550\r\n",
      "ford explor 2003 25 9500\r\n"
     ]
    }
   ],
   "source": [
    "awk '{print}' cars"
   ]
  },
  {
   "cell_type": "code",
   "execution_count": 48,
   "metadata": {
    "collapsed": false,
    "slideshow": {
     "slide_type": "fragment"
    }
   },
   "outputs": [
    {
     "name": "stdout",
     "output_type": "stream",
     "text": [
      "chevy malibu 1999 60 3000\r\n",
      "chevy malibu 2000 50 3500\r\n",
      "chevy impala 1985 85 1550\r\n"
     ]
    }
   ],
   "source": [
    "awk '/chevy/' cars"
   ]
  },
  {
   "cell_type": "code",
   "execution_count": 50,
   "metadata": {
    "collapsed": false,
    "slideshow": {
     "slide_type": "slide"
    }
   },
   "outputs": [
    {
     "name": "stdout",
     "output_type": "stream",
     "text": [
      "1970 plym\r\n",
      "1999 chevy\r\n",
      "1965 ford\r\n"
     ]
    }
   ],
   "source": [
    "awk '{print $3, $1}' cars | head -3"
   ]
  },
  {
   "cell_type": "code",
   "execution_count": 51,
   "metadata": {
    "collapsed": false,
    "slideshow": {
     "slide_type": "fragment"
    }
   },
   "outputs": [
    {
     "name": "stdout",
     "output_type": "stream",
     "text": [
      "1999 chevy\r\n",
      "2000 chevy\r\n",
      "1985 chevy\r\n"
     ]
    }
   ],
   "source": [
    "awk '/chevy/ {print $3, $1}' cars"
   ]
  },
  {
   "cell_type": "code",
   "execution_count": 52,
   "metadata": {
    "collapsed": false,
    "slideshow": {
     "slide_type": "slide"
    }
   },
   "outputs": [
    {
     "name": "stdout",
     "output_type": "stream",
     "text": [
      "chevy malibu 1999 60 3000\r\n",
      "ford thundbd 2003 15 10500\r\n",
      "chevy malibu 2000 50 3500\r\n",
      "honda accord 2001 30 6000\r\n",
      "chevy impala 1985 85 1550\r\n"
     ]
    }
   ],
   "source": [
    "awk '/h/' cars"
   ]
  },
  {
   "cell_type": "code",
   "execution_count": 53,
   "metadata": {
    "collapsed": false,
    "slideshow": {
     "slide_type": "fragment"
    }
   },
   "outputs": [
    {
     "name": "stdout",
     "output_type": "stream",
     "text": [
      "chevy malibu 1999 60 3000\r\n",
      "chevy malibu 2000 50 3500\r\n",
      "honda accord 2001 30 6000\r\n",
      "chevy impala 1985 85 1550\r\n"
     ]
    }
   ],
   "source": [
    "awk '$1 ~ /h/' cars"
   ]
  },
  {
   "cell_type": "code",
   "execution_count": 54,
   "metadata": {
    "collapsed": false,
    "slideshow": {
     "slide_type": "fragment"
    }
   },
   "outputs": [
    {
     "name": "stdout",
     "output_type": "stream",
     "text": [
      "honda accord 2001 30 6000\r\n"
     ]
    }
   ],
   "source": [
    "awk '$1 ~ /^h/' cars"
   ]
  },
  {
   "cell_type": "code",
   "execution_count": 58,
   "metadata": {
    "collapsed": false,
    "slideshow": {
     "slide_type": "fragment"
    }
   },
   "outputs": [
    {
     "name": "stdout",
     "output_type": "stream",
     "text": [
      "1999 malibu $3000\r\n",
      "1965 mustang $10000\r\n",
      "2003 thundbd $10500\r\n",
      "2000 malibu $3500\r\n",
      "2004 taurus $17000\r\n"
     ]
    }
   ],
   "source": [
    "awk '$2 ~ /^[tm]/ {print $3, $2, \"$\"$5}' cars"
   ]
  },
  {
   "cell_type": "code",
   "execution_count": 60,
   "metadata": {
    "collapsed": false,
    "slideshow": {
     "slide_type": "slide"
    }
   },
   "outputs": [
    {
     "name": "stdout",
     "output_type": "stream",
     "text": [
      "1965 ford $10000\r\n",
      "1985 bmw $450\r\n",
      "1985 chevy $1550\r\n"
     ]
    }
   ],
   "source": [
    "awk '$3 ~ /5$/ { print $3, $1, \"$\"$5}' cars"
   ]
  },
  {
   "cell_type": "code",
   "execution_count": 61,
   "metadata": {
    "collapsed": false,
    "slideshow": {
     "slide_type": "fragment"
    }
   },
   "outputs": [
    {
     "name": "stdout",
     "output_type": "stream",
     "text": [
      "bmw 325i 1985 115 450\r\n",
      "chevy impala 1985 85 1550\r\n"
     ]
    }
   ],
   "source": [
    "awk '$3 == 1985' cars"
   ]
  },
  {
   "cell_type": "code",
   "execution_count": 62,
   "metadata": {
    "collapsed": false,
    "slideshow": {
     "slide_type": "fragment"
    }
   },
   "outputs": [
    {
     "name": "stdout",
     "output_type": "stream",
     "text": [
      "plym fury 1970 73 2500\r\n",
      "chevy malibu 1999 60 3000\r\n",
      "bmw 325i 1985 115 450\r\n",
      "toyota rav4 2002 180 750\r\n",
      "chevy impala 1985 85 1550\r\n"
     ]
    }
   ],
   "source": [
    "awk '$5 <= 3000' cars"
   ]
  },
  {
   "cell_type": "code",
   "execution_count": 63,
   "metadata": {
    "collapsed": false,
    "slideshow": {
     "slide_type": "fragment"
    }
   },
   "outputs": [
    {
     "name": "stdout",
     "output_type": "stream",
     "text": [
      "plym fury 1970 73 2500\r\n",
      "chevy malibu 1999 60 3000\r\n",
      "chevy malibu 2000 50 3500\r\n",
      "honda accord 2001 30 6000\r\n"
     ]
    }
   ],
   "source": [
    "awk '2000 <= $5 && $5 < 9000' cars"
   ]
  },
  {
   "cell_type": "code",
   "execution_count": 64,
   "metadata": {
    "collapsed": false,
    "slideshow": {
     "slide_type": "slide"
    }
   },
   "outputs": [
    {
     "name": "stdout",
     "output_type": "stream",
     "text": [
      "volvo s80 1998 102 9850\r\n",
      "ford thundbd 2003 15 10500\r\n",
      "chevy malibu 2000 50 3500\r\n",
      "bmw 325i 1985 115 450\r\n"
     ]
    }
   ],
   "source": [
    "awk '/volvo/,/bmw/' cars"
   ]
  },
  {
   "cell_type": "code",
   "execution_count": 65,
   "metadata": {
    "collapsed": false,
    "slideshow": {
     "slide_type": "fragment"
    }
   },
   "outputs": [
    {
     "name": "stdout",
     "output_type": "stream",
     "text": [
      "chevy malibu 1999 60 3000\r\n",
      "ford mustang 1965 45 10000\r\n",
      "chevy malibu 2000 50 3500\r\n",
      "bmw 325i 1985 115 450\r\n",
      "honda accord 2001 30 6000\r\n",
      "ford taurus 2004 10 17000\r\n",
      "chevy impala 1985 85 1550\r\n",
      "ford explor 2003 25 9500\r\n"
     ]
    }
   ],
   "source": [
    "awk '/chevy/,/ford/' cars"
   ]
  },
  {
   "cell_type": "code",
   "execution_count": 1,
   "metadata": {
    "collapsed": false,
    "slideshow": {
     "slide_type": "slide"
    }
   },
   "outputs": [
    {
     "name": "stdout",
     "output_type": "stream",
     "text": [
      "2\r\n",
      "3\r\n",
      "5\r\n",
      "6\r\n",
      "8\r\n",
      "9\r\n",
      "11\r\n"
     ]
    }
   ],
   "source": [
    "awk 'length > 24 {print NR}' cars"
   ]
  },
  {
   "cell_type": "code",
   "execution_count": 2,
   "metadata": {
    "collapsed": false,
    "slideshow": {
     "slide_type": "fragment"
    }
   },
   "outputs": [
    {
     "name": "stdout",
     "output_type": "stream",
     "text": [
      "chevy malibu 1999 60 3000\r\n",
      "ford mustang 1965 45 10000\r\n",
      "volvo s80 1998 102 9850\r\n"
     ]
    }
   ],
   "source": [
    "awk 'NR == 2, NR == 4' cars"
   ]
  },
  {
   "cell_type": "code",
   "execution_count": 1,
   "metadata": {
    "collapsed": false,
    "slideshow": {
     "slide_type": "fragment"
    }
   },
   "outputs": [
    {
     "name": "stdout",
     "output_type": "stream",
     "text": [
      "bmw 1\r\n",
      "chevy 3\r\n",
      "ford 4\r\n",
      "honda 1\r\n",
      "plym 1\r\n",
      "toyota 1\r\n",
      "volvo 1\r\n"
     ]
    }
   ],
   "source": [
    "awk '{manuf[$1]++} END {for (name in manuf) print name, manuf[name]}' cars | sort"
   ]
  },
  {
   "cell_type": "code",
   "execution_count": 12,
   "metadata": {
    "collapsed": false,
    "slideshow": {
     "slide_type": "slide"
    }
   },
   "outputs": [
    {
     "name": "stdout",
     "output_type": "stream",
     "text": [
      "1 2500\r\n",
      "2 5500\r\n",
      "3 15500\r\n",
      "4 25350\r\n",
      "5 35850\r\n",
      "6 39350\r\n",
      "7 39800\r\n",
      "8 45800\r\n",
      "9 62800\r\n",
      "10 63550\r\n",
      "11 65100\r\n",
      "12 74600\r\n",
      "Mean = 6216.67 $\r\n"
     ]
    }
   ],
   "source": [
    "awk 'BEGIN {sum = 0}\\\n",
    "    {sum+=$5}\\\n",
    "    {print NR, sum}\\\n",
    "    END {print \"Mean =\", sum/NR, \"$\"}' cars"
   ]
  },
  {
   "cell_type": "code",
   "execution_count": 16,
   "metadata": {
    "collapsed": false,
    "slideshow": {
     "slide_type": "fragment"
    }
   },
   "outputs": [
    {
     "name": "stdout",
     "output_type": "stream",
     "text": [
      "chevy malibu 1999 60 3000\r\n",
      "chevy malibu 2000 50 3500\r\n",
      "chevy impala 1985 85 1550\r\n"
     ]
    }
   ],
   "source": [
    "awk '$1 == \"chevy\" {print $0}' cars"
   ]
  },
  {
   "cell_type": "code",
   "execution_count": 6,
   "metadata": {
    "collapsed": false,
    "slideshow": {
     "slide_type": "fragment"
    }
   },
   "outputs": [
    {
     "name": "stdout",
     "output_type": "stream",
     "text": []
    }
   ],
   "source": [
    "awk -F: 'length($2)==0 {print $1}' /etc/passwd"
   ]
  }
 ],
 "metadata": {
  "celltoolbar": "Slideshow",
  "kernelspec": {
   "display_name": "Bash",
   "language": "bash",
   "name": "bash"
  },
  "language_info": {
   "codemirror_mode": "shell",
   "file_extension": ".sh",
   "mimetype": "text/x-sh",
   "name": "bash"
  }
 },
 "nbformat": 4,
 "nbformat_minor": 1
}
